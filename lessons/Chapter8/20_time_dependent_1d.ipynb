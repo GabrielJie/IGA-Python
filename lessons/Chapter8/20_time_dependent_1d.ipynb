{
 "cells": [
  {
   "cell_type": "markdown",
   "metadata": {},
   "source": [
    "# 10. Time dependent problem in 1D"
   ]
  },
  {
   "cell_type": "markdown",
   "metadata": {},
   "source": [
    "we consider the time dependent problem\n",
    "\\begin{align*}\n",
    "  -k_{\\perp}^2 \\partial_t \\phi &= \\partial_s J\n",
    "  \\\\\n",
    "  \\partial_t A + \\mu \\partial_t J &= \\partial_s \\left( n - \\phi \\right)\n",
    "  \\\\\n",
    "  \\partial_t n &= \\partial_s J\n",
    "  \\\\\n",
    "  \\beta J &= k_{\\perp}^2 A\n",
    "%  \\label{}\n",
    "\\end{align*}\n",
    "where $s \\in [-\\pi, \\pi]$, $\\beta \\sim 10^{-3}$, $\\mu \\sim 10^{-4}$ and $k_{\\perp} \\in [10^{-2},10^{1}]$.\n",
    "\\\\\n",
    "It is easy to check that the eigenvalues related to the previous system are $\\{-V_a k_{\\parallel}, 0, V_a k_{\\parallel} \\}$ with $V_a := \\frac{1+k_{\\perp}^2}{\\beta + \\mu k_{\\perp}^2}$. \n"
   ]
  },
  {
   "cell_type": "markdown",
   "metadata": {},
   "source": [
    "## Wave equation for $A$\n",
    "\n",
    "Multiplying the equation on $n$ by $k_{\\perp}^2$ then adding it to the equation on $\\phi$, we get\n",
    "$$\n",
    "\\left( \\beta + \\mu k_{\\perp}^2 \\right) \\partial_{tt} A = \\left( 1 + k_{\\perp}^2 \\right) \\partial_{ss} A\n",
    "$$\n",
    "which leads to the wave equation\n",
    "$$\n",
    "\\partial_{tt} A = \\frac{1+k_{\\perp}^2}{\\beta + \\mu k_{\\perp}^2} \\partial_{ss} A\n",
    "$$"
   ]
  },
  {
   "cell_type": "markdown",
   "metadata": {},
   "source": [
    "## Time discretization\n",
    "\n",
    "Let's define $\\gamma := \\frac{k_{\\perp}^2}{\\beta}$, and replace $J$ in the equation on $A$. We get\n",
    "\\begin{align*}\n",
    "  \\partial_t \\phi &= - \\frac{1}{\\beta} \\partial_s A\n",
    "  \\\\\n",
    "  \\partial_t A &= \\frac{1}{1 + \\mu \\gamma} \\partial_s \\left( n - \\phi \\right)\n",
    "  \\\\\n",
    "  \\partial_t n &= \\gamma \\partial_s A\n",
    "%  \\label{}\n",
    "\\end{align*}\n",
    "\n",
    "Using a full implicit time scheme, we have,\n",
    "\\begin{align*}\n",
    "   \\frac{\\phi^{k+1} - \\phi^{k}}{\\Delta t} &= - \\frac{1}{\\beta} \\partial_s A^{k+1}\n",
    "  \\\\\n",
    "  \\frac{A^{k+1} - A^{k}}{\\Delta t} &= \\frac{1}{1 + \\mu \\gamma} \\partial_s \\left( n^{k+1} - \\phi^{k+1} \\right)\n",
    "  \\\\\n",
    "  \\frac{n^{k+1} - n^{k}}{\\Delta t} &= \\gamma \\partial_s A^{k+1}\n",
    "%  \\label{}\n",
    "\\end{align*}\n",
    "\n",
    "finally, \n",
    "\n",
    "\\begin{align*}\n",
    "    \\phi^{k+1} + \\frac{\\Delta t}{\\beta} \\partial_s A^{k+1}  &= \\phi^k\n",
    "    \\\\\n",
    "    \\frac{\\Delta t}{1+\\mu \\gamma} \\phi^{k+1} + A^{k+1} - \\frac{\\Delta t}{1+\\mu \\gamma} \\partial_s n^{k+1} &= A^k\n",
    "    \\\\\n",
    "    -\\Delta t \\gamma \\partial_s A^{k+1} + n^{k+1} &= n^k\n",
    "\\end{align*}\n",
    "\n"
   ]
  },
  {
   "cell_type": "markdown",
   "metadata": {},
   "source": [
    "## Weak formulation\n",
    "\n",
    "Let $v$ denote a test function, in a Finite Elements space $V \\subset H^1(\\Omega)$. Multiplying all the equations by $v$, then integrating over the whole domain, we get\n",
    "\n",
    "\\begin{align*}\n",
    "    \\langle \\phi^{k+1}, v \\rangle \n",
    "    + \\frac{\\Delta t}{\\beta} \\langle \\partial_s A^{k+1}, v \\rangle  &= \\langle \\phi^k, v \\rangle\n",
    "    \\\\\n",
    "    \\frac{\\Delta t}{1+\\mu \\gamma} \\langle \\phi^{k+1}, v \\rangle + \\langle A^{k+1}, v \\rangle - \\frac{\\Delta t}{1+\\mu \\gamma} \\langle \\partial_s n^{k+1}, v \\rangle &= \\langle A^k, v \\rangle\n",
    "    \\\\\n",
    "    -\\Delta t \\gamma \\langle \\partial_s A^{k+1}, v \\rangle + \\langle n^{k+1}, v \\rangle &= \\langle n^k, v \\rangle\n",
    "\\end{align*}\n",
    "\n",
    "We use a symmetrized weak formulation, where we assume having periodic boundary conditions:\n",
    "\n",
    "\n"
   ]
  },
  {
   "cell_type": "markdown",
   "metadata": {},
   "source": [
    "\\begin{align*}\n",
    "    \\langle \\phi^{k+1}, v \\rangle \n",
    "    + \\frac{\\Delta t}{2 \\beta} \\langle \\partial_s A^{k+1}, v \\rangle \n",
    "    - \\frac{\\Delta t}{2 \\beta} \\langle A^{k+1}, \\partial_s v \\rangle\n",
    "    &= \\langle \\phi^k, v \\rangle\n",
    "    \\\\\n",
    "    \\frac{\\Delta t}{1+\\mu \\gamma} \\langle \\phi^{k+1}, v \\rangle \n",
    "    + \\langle A^{k+1}, v \\rangle \n",
    "    - \\frac{\\Delta t}{2+2\\mu \\gamma} \\langle \\partial_s n^{k+1}, v \\rangle \n",
    "    + \\frac{\\Delta t}{2+2\\mu \\gamma} \\langle n^{k+1}, \\partial_s v \\rangle \n",
    "    &= \\langle A^k, v \\rangle\n",
    "    \\\\\n",
    "    -\\frac{\\Delta t \\gamma}{2} \\langle \\partial_s A^{k+1}, v \\rangle \n",
    "    +\\frac{\\Delta t \\gamma}{2} \\langle A^{k+1}, \\partial_s v \\rangle \n",
    "    + \\langle n^{k+1}, v \\rangle \n",
    "    &= \\langle n^k, v \\rangle\n",
    "\\end{align*}"
   ]
  },
  {
   "cell_type": "markdown",
   "metadata": {},
   "source": [
    "In order to simplify the notation, we introduction the following bilinear form \n",
    "$$\n",
    "b( v,u ) := \\frac{1}{2} \\left( \\langle \\partial_s u, v \\rangle - \\langle u, \\partial_s v \\rangle \\right)\n",
    "$$\n",
    "then our weak formulation writes\n",
    "\n",
    "\\begin{align*}\n",
    "    \\langle \\phi^{k+1}, v \\rangle \n",
    "    + \\frac{\\Delta t}{\\beta} b(v,A^{k+1}) \n",
    "    &= \\langle \\phi^k, v \\rangle\n",
    "    \\\\\n",
    "    \\frac{\\Delta t}{1+\\mu \\gamma} \\langle \\phi^{k+1}, v \\rangle \n",
    "    + \\langle A^{k+1}, v \\rangle \n",
    "    - \\frac{\\Delta t}{1+\\mu \\gamma} b(v,n^{k+1}) \n",
    "    &= \\langle A^k, v \\rangle\n",
    "    \\\\\n",
    "    -\\Delta t \\gamma b(v,A^{k+1}) \n",
    "    + \\langle n^{k+1}, v \\rangle \n",
    "    &= \\langle n^k, v \\rangle\n",
    "\\end{align*}\n",
    "\n",
    "Finally, let's introduce the weak formulation related to the mass matrix $a_m(v,u) := \\langle u, v \\rangle$, \n",
    "\n",
    "\\begin{align*}\n",
    "    a_m(v, \\phi^{k+1}) \n",
    "    + \\frac{\\Delta t}{\\beta} b(v, A^{k+1})  \n",
    "    &= a_m(v, \\phi^k)\n",
    "    \\\\\n",
    "    \\frac{\\Delta t}{1+\\mu \\gamma} a_m(v, \\phi^{k+1}) \n",
    "    + a_m(v, A^{k+1}) \n",
    "    - \\frac{\\Delta t}{1+\\mu \\gamma} b(v,  n^{k+1}) \n",
    "    &= a_m(v, A^k)\n",
    "    \\\\\n",
    "    - \\Delta t \\gamma b(v, A^{k+1}) \n",
    "    + a_m(v, n^{k+1}) \n",
    "    &= a_m(v, n^k)\n",
    "\\end{align*}"
   ]
  },
  {
   "cell_type": "code",
   "execution_count": 2,
   "metadata": {},
   "outputs": [],
   "source": [
    "import numpy as np\n",
    "from numpy import linspace, zeros, pi\n",
    "\n",
    "from sympy.core.containers import Tuple\n",
    "from sympy import symbols\n",
    "from sympy import Symbol\n",
    "from sympy import Lambda\n",
    "from sympy import Function\n",
    "\n",
    "from gelato.glt import glt_symbol\n",
    "from gelato.calculus   import (Dot, Cross, Grad, Curl, Rot, Div, dx)\n",
    "from gelato.calculus   import Constant\n",
    "from gelato.fem.assembly import assemble_matrix\n",
    "from gelato.fem.utils    import compile_kernel\n",
    "from gelato.fem.utils    import compile_symbol\n",
    "\n",
    "from spl.fem.splines import SplineSpace\n",
    "from spl.fem.vector  import VectorFemSpace\n",
    "\n",
    "from IPython.display import Math\n",
    "from sympy import latex"
   ]
  },
  {
   "cell_type": "code",
   "execution_count": 4,
   "metadata": {},
   "outputs": [],
   "source": [
    "x = Symbol('x')\n",
    "\n",
    "u = Symbol('u')\n",
    "v = Symbol('v')\n",
    "\n",
    "a_m = lambda v,u: u*v\n",
    "b = lambda v,u: 0.5*(dx(u)*v - u*dx(v))"
   ]
  },
  {
   "cell_type": "markdown",
   "metadata": {},
   "source": [
    "\\begin{align*}\n",
    "    a_m(v, \\phi^{k+1}) \n",
    "    + \\frac{\\Delta t}{\\beta} b(v, A^{k+1})  \n",
    "    &= a_m(v, \\phi^k)\n",
    "    \\\\\n",
    "    \\frac{\\Delta t}{1+\\mu \\gamma} a_m(v, \\phi^{k+1}) \n",
    "    + a_m(v, A^{k+1}) \n",
    "    - \\frac{\\Delta t}{1+\\mu \\gamma} b(v,  n^{k+1}) \n",
    "    &= a_m(v, A^k)\n",
    "    \\\\\n",
    "    - \\Delta t \\gamma b(v, A^{k+1}) \n",
    "    + a_m(v, n^{k+1}) \n",
    "    &= a_m(v, n^k)\n",
    "\\end{align*}"
   ]
  },
  {
   "cell_type": "code",
   "execution_count": 23,
   "metadata": {},
   "outputs": [],
   "source": [
    "phi, A, n = symbols('phi A n')\n",
    "v0, v1, v2 = symbols('v0 v1 v2')\n",
    "\n",
    "dt = Constant('dt')\n",
    "beta = Constant('beta')\n",
    "mu = Constant('mu')\n",
    "gamma = Constant('gamma')\n",
    "\n",
    "a = Lambda((x,v0,v1,v2,phi,A,n), \n",
    "             a_m(v0, phi) + dt/beta * b(v0, A) \n",
    "           + dt/(1+mu * gamma) * a_m(v1, phi) \n",
    "           + a_m(v1, A) \n",
    "           - dt/(1+mu * gamma) * b(v1, n) \n",
    "           - dt * gamma * b(v2, A) + a_m(v2, n))"
   ]
  },
  {
   "cell_type": "code",
   "execution_count": 24,
   "metadata": {},
   "outputs": [],
   "source": [
    "# create a finite element space\n",
    "p  = 3\n",
    "ne = 64\n",
    "\n",
    "grid = linspace(0., 1., ne+1)\n",
    "\n",
    "W = SplineSpace(p, grid=grid)\n",
    "V = VectorFemSpace(W, W, W)"
   ]
  },
  {
   "cell_type": "code",
   "execution_count": 25,
   "metadata": {},
   "outputs": [],
   "source": [
    "symbol = glt_symbol(a, space=V)"
   ]
  },
  {
   "cell_type": "code",
   "execution_count": 26,
   "metadata": {},
   "outputs": [
    {
     "data": {
      "text/latex": [
       "$$\\left[\\begin{matrix}m_{1} & \\frac{1.0 a_{1}}{\\beta} dt & 0\\\\\\frac{dt m_{1}}{\\gamma \\mu + 1} & m_{1} & - \\frac{1.0 dt a_{1}}{\\gamma \\mu + 1}\\\\0 & - 1.0 dt \\gamma a_{1} & m_{1}\\end{matrix}\\right]$$"
      ],
      "text/plain": [
       "<IPython.core.display.Math object>"
      ]
     },
     "execution_count": 26,
     "metadata": {},
     "output_type": "execute_result"
    }
   ],
   "source": [
    "Math(latex(symbol))"
   ]
  },
  {
   "cell_type": "code",
   "execution_count": 27,
   "metadata": {},
   "outputs": [],
   "source": [
    "eigen = symbol.eigenvals()\n",
    "eigen = list(eigen.keys())"
   ]
  },
  {
   "cell_type": "code",
   "execution_count": 28,
   "metadata": {},
   "outputs": [
    {
     "data": {
      "text/latex": [
       "$$\\left [ m_{1}, \\quad \\frac{1}{\\beta \\gamma \\mu + \\beta} \\left(\\beta \\gamma \\mu m_{1} + \\beta m_{1} + dt \\sqrt{\\beta^{2} \\gamma^{2} \\mu a_{1}^{2} + \\beta^{2} \\gamma a_{1}^{2} + \\beta \\gamma \\mu a_{1} m_{1} + \\beta a_{1} m_{1}}\\right), \\quad \\frac{1}{\\beta \\gamma \\mu + \\beta} \\left(\\beta \\gamma \\mu m_{1} + \\beta m_{1} - dt \\sqrt{\\beta^{2} \\gamma^{2} \\mu a_{1}^{2} + \\beta^{2} \\gamma a_{1}^{2} + \\beta \\gamma \\mu a_{1} m_{1} + \\beta a_{1} m_{1}}\\right)\\right ]$$"
      ],
      "text/plain": [
       "<IPython.core.display.Math object>"
      ]
     },
     "execution_count": 28,
     "metadata": {},
     "output_type": "execute_result"
    }
   ],
   "source": [
    "Math(latex(eigen))"
   ]
  },
  {
   "cell_type": "code",
   "execution_count": 18,
   "metadata": {},
   "outputs": [],
   "source": [
    "# compute the symbol of the mass\n",
    "symbol_m = glt_symbol(Lambda((x,v,u), u*v), space=V)\n",
    "symbol_a = glt_symbol(Lambda((x,v,u), dx(u)*v), space=V)"
   ]
  },
  {
   "cell_type": "code",
   "execution_count": 10,
   "metadata": {},
   "outputs": [],
   "source": [
    "eigen_normalized = [e/symbol_m for e in eigen]"
   ]
  },
  {
   "cell_type": "code",
   "execution_count": 11,
   "metadata": {},
   "outputs": [
    {
     "data": {
      "text/latex": [
       "$$\\left [ 1, \\quad \\frac{1}{m_{1} \\left(\\beta \\gamma \\mu + \\beta\\right)} \\left(\\beta \\gamma \\mu m_{1} + \\beta m_{1} - dt \\sqrt{\\beta^{2} \\gamma^{2} \\mu a_{1}^{2} + \\beta^{2} \\gamma a_{1}^{2} - \\beta \\gamma \\mu a_{1} m_{1} - \\beta a_{1} m_{1}}\\right), \\quad \\frac{1}{m_{1} \\left(\\beta \\gamma \\mu + \\beta\\right)} \\left(\\beta \\gamma \\mu m_{1} + \\beta m_{1} + dt \\sqrt{\\beta^{2} \\gamma^{2} \\mu a_{1}^{2} + \\beta^{2} \\gamma a_{1}^{2} - \\beta \\gamma \\mu a_{1} m_{1} - \\beta a_{1} m_{1}}\\right)\\right ]$$"
      ],
      "text/plain": [
       "<IPython.core.display.Math object>"
      ]
     },
     "execution_count": 11,
     "metadata": {},
     "output_type": "execute_result"
    }
   ],
   "source": [
    "Math(latex(eigen_normalized))"
   ]
  },
  {
   "cell_type": "code",
   "execution_count": 15,
   "metadata": {},
   "outputs": [],
   "source": [
    "e = eigen_normalized[1]"
   ]
  },
  {
   "cell_type": "code",
   "execution_count": 16,
   "metadata": {},
   "outputs": [],
   "source": [
    "from sympy import simplify, cancel, collect, expand"
   ]
  },
  {
   "cell_type": "code",
   "execution_count": 17,
   "metadata": {},
   "outputs": [
    {
     "data": {
      "text/latex": [
       "$$- \\frac{dt}{\\beta \\gamma \\mu m_{1} + \\beta m_{1}} \\sqrt{\\beta^{2} \\gamma^{2} \\mu a_{1}^{2} + \\beta^{2} \\gamma a_{1}^{2} - \\beta \\gamma \\mu a_{1} m_{1} - \\beta a_{1} m_{1}}$$"
      ],
      "text/plain": [
       "<IPython.core.display.Math object>"
      ]
     },
     "execution_count": 17,
     "metadata": {},
     "output_type": "execute_result"
    }
   ],
   "source": [
    "Math(latex(cancel(e-1)))"
   ]
  },
  {
   "cell_type": "code",
   "execution_count": 19,
   "metadata": {},
   "outputs": [
    {
     "data": {
      "text/latex": [
       "$$a_{1}$$"
      ],
      "text/plain": [
       "<IPython.core.display.Math object>"
      ]
     },
     "execution_count": 19,
     "metadata": {},
     "output_type": "execute_result"
    }
   ],
   "source": [
    "Math(latex(symbol_a))"
   ]
  },
  {
   "cell_type": "code",
   "execution_count": 22,
   "metadata": {},
   "outputs": [
    {
     "name": "stdout",
     "output_type": "stream",
     "text": [
      "None\n"
     ]
    }
   ],
   "source": [
    "print(symbol_a.is_complex)"
   ]
  },
  {
   "cell_type": "code",
   "execution_count": null,
   "metadata": {},
   "outputs": [],
   "source": []
  },
  {
   "cell_type": "code",
   "execution_count": 1,
   "metadata": {},
   "outputs": [
    {
     "data": {
      "text/html": [
       "<link href='http://fonts.googleapis.com/css?family=Fenix' rel='stylesheet' type='text/css'>\n",
       "<link href='http://fonts.googleapis.com/css?family=Alegreya+Sans:100,300,400,500,700,800,900,100italic,300italic,400italic,500italic,700italic,800italic,900italic' rel='stylesheet' type='text/css'>\n",
       "<link href='http://fonts.googleapis.com/css?family=Source+Code+Pro:300,400' rel='stylesheet' type='text/css'>\n",
       "<style>\n",
       "    @font-face {\n",
       "        font-family: \"Computer Modern\";\n",
       "        src: url('http://mirrors.ctan.org/fonts/cm-unicode/fonts/otf/cmunss.otf');\n",
       "    }\n",
       "    div.cell{\n",
       "        width:600px;\n",
       "        margin-left:16% !important;\n",
       "        margin-right:auto;\n",
       "    }\n",
       "    h1 {\n",
       "        font-family: 'Alegreya Sans', sans-serif;\n",
       "    }\n",
       "    h2 {\n",
       "        font-family: 'Fenix', serif;\n",
       "    }\n",
       "    h3{\n",
       "\t\tfont-family: 'Fenix', serif;\n",
       "        margin-top:12px;\n",
       "        margin-bottom: 3px;\n",
       "       }\n",
       "\th4{\n",
       "\t\tfont-family: 'Fenix', serif;\n",
       "       }\n",
       "    h5 {\n",
       "        font-family: 'Alegreya Sans', sans-serif;\n",
       "    }\t   \n",
       "    div.text_cell_render{\n",
       "        font-family: 'Alegreya Sans',Computer Modern, \"Helvetica Neue\", Arial, Helvetica, Geneva, sans-serif;\n",
       "        line-height: 135%;\n",
       "        font-size: 120%;\n",
       "        width:600px;\n",
       "        margin-left:auto;\n",
       "        margin-right:auto;\n",
       "    }\n",
       "    .CodeMirror{\n",
       "            font-family: \"Source Code Pro\";\n",
       "\t\t\tfont-size: 90%;\n",
       "    }\n",
       "/*    .prompt{\n",
       "        display: None;\n",
       "    }*/\n",
       "    .text_cell_render h1 {\n",
       "        font-weight: 200;\n",
       "        font-size: 50pt;\n",
       "\t\tline-height: 100%;\n",
       "        color:#054BCD;\n",
       "        margin-bottom: 0.5em;\n",
       "        margin-top: 0.5em;\n",
       "        display: block;\n",
       "    }\t\n",
       "    .text_cell_render h5 {\n",
       "        font-weight: 300;\n",
       "        font-size: 16pt;\n",
       "        color: #054BCD;\n",
       "        font-style: italic;\n",
       "        margin-bottom: .5em;\n",
       "        margin-top: 0.5em;\n",
       "        display: block;\n",
       "    }\n",
       "    \n",
       "    .warning{\n",
       "        color: rgb( 240, 20, 20 )\n",
       "        }  \n",
       "</style>\n",
       "<script>\n",
       "    MathJax.Hub.Config({\n",
       "                        TeX: {\n",
       "                           extensions: [\"AMSmath.js\"]\n",
       "                           },\n",
       "                tex2jax: {\n",
       "                    inlineMath: [ ['$','$'], [\"\\\\(\",\"\\\\)\"] ],\n",
       "                    displayMath: [ ['$$','$$'], [\"\\\\[\",\"\\\\]\"] ]\n",
       "                },\n",
       "                displayAlign: 'center', // Change this to 'center' to center equations.\n",
       "                \"HTML-CSS\": {\n",
       "                    styles: {'.MathJax_Display': {\"margin\": 4}}\n",
       "                }\n",
       "        });\n",
       "</script>\n"
      ],
      "text/plain": [
       "<IPython.core.display.HTML object>"
      ]
     },
     "execution_count": 1,
     "metadata": {},
     "output_type": "execute_result"
    }
   ],
   "source": [
    "from IPython.core.display import HTML\n",
    "def css_styling():\n",
    "    styles = open(\"../../styles/custom.css\", \"r\").read()\n",
    "    return HTML(styles)\n",
    "css_styling()"
   ]
  },
  {
   "cell_type": "code",
   "execution_count": null,
   "metadata": {},
   "outputs": [],
   "source": []
  }
 ],
 "metadata": {
  "kernelspec": {
   "display_name": "Python 3",
   "language": "python",
   "name": "python3"
  },
  "language_info": {
   "codemirror_mode": {
    "name": "ipython",
    "version": 3
   },
   "file_extension": ".py",
   "mimetype": "text/x-python",
   "name": "python",
   "nbconvert_exporter": "python",
   "pygments_lexer": "ipython3",
   "version": "3.5.2"
  }
 },
 "nbformat": 4,
 "nbformat_minor": 2
}
