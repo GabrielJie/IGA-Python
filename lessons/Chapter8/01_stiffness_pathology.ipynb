{
 "cells": [
  {
   "cell_type": "markdown",
   "metadata": {},
   "source": [
    "# 1. High order pathology for the Stiffness matrix\n",
    "\n",
    "For this chapter, we will need the [GeLaTo](https://github.com/pyccel/GeLaTo) library.\n",
    "\n",
    "In this example, we show the dependency of the **stiffness** symbol with respect to the spline degree in 1d, we will also give some asymptotic expansion of the basic operators: **stiffness**, **mass** and **advection**."
   ]
  },
  {
   "cell_type": "code",
   "execution_count": 1,
   "metadata": {},
   "outputs": [],
   "source": [
    "# ... needed imports\n",
    "from numpy import linspace, zeros, pi\n",
    "import matplotlib.pyplot as plt\n",
    "%matplotlib inline\n",
    "\n",
    "from IPython.display import Math\n",
    "\n",
    "from sympy import Symbol\n",
    "from sympy import Lambda\n",
    "\n",
    "from gelato.glt import glt_symbol\n",
    "from gelato.glt import glt_lambdify\n",
    "from gelato.calculus   import Dot, Grad, dx\n",
    "\n",
    "from spl.fem.splines import SplineSpace"
   ]
  },
  {
   "cell_type": "markdown",
   "metadata": {},
   "source": [
    "We define the weak form, as:"
   ]
  },
  {
   "cell_type": "code",
   "execution_count": 2,
   "metadata": {},
   "outputs": [],
   "source": [
    "x = Symbol('x')\n",
    "\n",
    "u = Symbol('u')\n",
    "v = Symbol('v')\n",
    "\n",
    "a_s = Lambda((x,v,u), Dot(Grad(u), Grad(v)))"
   ]
  },
  {
   "cell_type": "code",
   "execution_count": 3,
   "metadata": {},
   "outputs": [],
   "source": [
    "V = SplineSpace(2, grid=linspace(0., 1., 32+1))"
   ]
  },
  {
   "cell_type": "code",
   "execution_count": 4,
   "metadata": {},
   "outputs": [
    {
     "data": {
      "text/latex": [
       "$$\\left( \\left ( x, \\quad \\theta_1\\right ) \\mapsto - \\frac{64}{3} \\cos{\\left (\\theta_1 \\right )} - \\frac{32}{3} \\cos{\\left (2 \\theta_1 \\right )} + 32 \\right)$$"
      ],
      "text/plain": [
       "<IPython.core.display.Math object>"
      ]
     },
     "execution_count": 4,
     "metadata": {},
     "output_type": "execute_result"
    }
   ],
   "source": [
    "from IPython.display import Math\n",
    "from gelato.printing.latex import glt_latex\n",
    "\n",
    "symbol = glt_symbol(a_s, space=V, evaluate=True)\n",
    "Math(glt_latex(symbol))"
   ]
  },
  {
   "cell_type": "code",
   "execution_count": 5,
   "metadata": {},
   "outputs": [],
   "source": [
    "from gelato.fem.utils    import compile_symbol\n",
    "symbol_s = compile_symbol('symbol_1', a_s, V, backend='fortran')"
   ]
  },
  {
   "cell_type": "code",
   "execution_count": 6,
   "metadata": {},
   "outputs": [],
   "source": [
    "# ... make the symbol a numeric function, that can be evaluated\n",
    "f = glt_lambdify(symbol)\n",
    "\n",
    "nx = 100\n",
    "x = linspace(  0, 1, nx)\n",
    "t = linspace(-pi,pi, nx)\n",
    "w = f(x,t)\n",
    "# ...\n",
    "\n",
    "# ... example of symbol evaluation\n",
    "e = zeros(nx)\n",
    "symbol_s(x, t, e)\n",
    "# ...\n"
   ]
  },
  {
   "cell_type": "code",
   "execution_count": 7,
   "metadata": {},
   "outputs": [
    {
     "data": {
      "text/plain": [
       "True"
      ]
     },
     "execution_count": 7,
     "metadata": {},
     "output_type": "execute_result"
    }
   ],
   "source": [
    "from numpy import allclose\n",
    "\n",
    "allclose(e,w)"
   ]
  },
  {
   "cell_type": "code",
   "execution_count": null,
   "metadata": {},
   "outputs": [],
   "source": []
  },
  {
   "cell_type": "markdown",
   "metadata": {},
   "source": [
    "The following function allows to plot the eigenvalues for a given *grid* and different spline **degrees**:"
   ]
  },
  {
   "cell_type": "code",
   "execution_count": 8,
   "metadata": {},
   "outputs": [],
   "source": [
    "def plot_symbols(expr, degrees=[2, 3], ne=64):\n",
    "    \n",
    "    colors = [\"r\", \"b\", \"g\", \"y\", \"m\", \"k\", \"c\"]\n",
    "\n",
    "    for i,p in enumerate(degrees):\n",
    "        # ...  create a finite element space\n",
    "        V = SplineSpace(p, grid=linspace(0., 1., ne+1))\n",
    "        # ...\n",
    "\n",
    "        # ... compute the GLT symbol\n",
    "        symbol = glt_symbol(expr, space=V, evaluate=True)\n",
    "        # ...\n",
    "\n",
    "        # ... make the symbol a numeric function, that can be evaluated\n",
    "        f = glt_lambdify(symbol)\n",
    "\n",
    "        nx = 100\n",
    "        x1 = linspace(  0, 1, nx)\n",
    "        t1 = linspace(-pi,pi, nx)\n",
    "        w = f(x1,t1)\n",
    "        # ...\n",
    "        \n",
    "        plt.plot(t1, w.real, \"-\"+colors[i], label=\"$p=\" + str(p) + \"$\")\n",
    "        plt.legend(loc=9);"
   ]
  },
  {
   "cell_type": "code",
   "execution_count": 9,
   "metadata": {},
   "outputs": [
    {
     "data": {
      "image/png": "[encoded data removed]",
      "text/plain": [
       "<Figure size 432x288 with 1 Axes>"
      ]
     },
     "metadata": {},
     "output_type": "display_data"
    }
   ],
   "source": [
    "plot_symbols(a_s, degrees=[2, 3, 4, 5])"
   ]
  },
  {
   "cell_type": "markdown",
   "metadata": {},
   "source": [
    "As expected, we notice the convergence to 0 at $| \\theta | = \\pi$.\n",
    "\n",
    "We consider now the weak formulation related to the **mass** matrix:"
   ]
  },
  {
   "cell_type": "code",
   "execution_count": 11,
   "metadata": {},
   "outputs": [],
   "source": [
    "x = Symbol('x')\n",
    "\n",
    "u = Symbol('u')\n",
    "v = Symbol('v')\n",
    "\n",
    "# weak form for the mass matrix\n",
    "a_m = Lambda((x,v,u), u * v)"
   ]
  },
  {
   "cell_type": "markdown",
   "metadata": {},
   "source": [
    "We will use the following function to plot the division of the symbol of the **stiffness** by the symbol of the **mass**  of degree $p-1$"
   ]
  },
  {
   "cell_type": "code",
   "execution_count": 6,
   "metadata": {},
   "outputs": [],
   "source": [
    "def plot_symbols(expr_s, expr_m, degrees=[2, 3], ne=64):\n",
    "    \n",
    "    colors = [\"r\", \"b\", \"g\", \"y\", \"m\", \"k\", \"c\"]\n",
    "\n",
    "    for i,p in enumerate(degrees):\n",
    "        # ...  create a finite element space\n",
    "        V = SplineSpace(p, grid=linspace(0., 1., ne+1))\n",
    "        W = SplineSpace(p-1, grid=linspace(0., 1., ne+1))\n",
    "        # ...\n",
    "\n",
    "        # ... compute the GLT symbol\n",
    "        symbol_s = glt_symbol(expr_s, space=V, evaluate=True)\n",
    "        symbol_m = glt_symbol(expr_m, space=W, evaluate=True)\n",
    "        # ...\n",
    "\n",
    "        # ... make the symbol a numeric function, that can be evaluated\n",
    "        f_s = glt_lambdify(symbol_s)\n",
    "        f_m = glt_lambdify(symbol_m)\n",
    "\n",
    "        nx = 100\n",
    "        x = linspace(  0, 1, nx)\n",
    "        t = linspace(-pi,pi, nx)\n",
    "        w = f_s(x,t) / f_m(x,t)\n",
    "        # ...\n",
    "        \n",
    "        plt.plot(t, w.real, \"-\"+colors[i], label=\"$p=\" + str(p) + \"$\")\n",
    "        plt.legend(loc=9);"
   ]
  },
  {
   "cell_type": "code",
   "execution_count": 7,
   "metadata": {},
   "outputs": [
    {
     "data": {
      "image/png": "[encoded data removed]",
      "text/plain": [
       "<Figure size 432x288 with 1 Axes>"
      ]
     },
     "metadata": {},
     "output_type": "display_data"
    }
   ],
   "source": [
    "plot_symbols(a_s, a_m, degrees=[2, 3, 4, 5])"
   ]
  },
  {
   "cell_type": "markdown",
   "metadata": {},
   "source": [
    "We see now that the *new symbol* is not sensitive to the *B-Spline* degree.\n",
    "\n",
    "In fact, this symbol corresponds to the $S M^{-1}$ (and $M^{-1} S$), if we denote by $S$ and $M$ the *stiffness* and *mass* matrices respectively."
   ]
  },
  {
   "cell_type": "markdown",
   "metadata": {},
   "source": [
    "## Symbolic expression and asymptotic expansion \n",
    "\n",
    "In this section, we give the asymptotic expansion of the symbol associated to the **mass**, **stiffness** and **advection** matrices.\n",
    "\n",
    "We start by defining our weak formulations:"
   ]
  },
  {
   "cell_type": "code",
   "execution_count": 12,
   "metadata": {},
   "outputs": [],
   "source": [
    "x = Symbol('x')\n",
    "\n",
    "u = Symbol('u')\n",
    "v = Symbol('v')\n",
    "\n",
    "a_m = Lambda((x,v,u), u * v)\n",
    "a_s = Lambda((x,v,u), Dot(Grad(u), Grad(v)))\n",
    "a_a = Lambda((x,v,u), dx(v) * u)"
   ]
  },
  {
   "cell_type": "code",
   "execution_count": 13,
   "metadata": {},
   "outputs": [],
   "source": [
    "# ...\n",
    "p  = 3\n",
    "ne = 16\n",
    "# ...\n",
    "\n",
    "# ...  create a finite element space\n",
    "V = SplineSpace(p, grid=linspace(0., 1., ne+1))\n",
    "# ...\n",
    "\n",
    "# ... compute the GLT symbol\n",
    "symbol_m = glt_symbol(a_m, space=V, evaluate=True)\n",
    "symbol_s = glt_symbol(a_s, space=V, evaluate=True)\n",
    "symbol_a = glt_symbol(a_a, space=V, evaluate=True)\n",
    "# ..."
   ]
  },
  {
   "cell_type": "markdown",
   "metadata": {},
   "source": [
    "We can now evaluate, symbolicaly, the symbols at the sampling points, using the following function, and print them using *Latex*:"
   ]
  },
  {
   "cell_type": "code",
   "execution_count": 10,
   "metadata": {},
   "outputs": [],
   "source": [
    "from gelato.printing.latex import glt_latex\n",
    "from IPython.display import Math\n",
    "\n",
    "t1 = Symbol(\"t1\")\n",
    "\n",
    "# ...\n",
    "def to_latex(expr):    \n",
    "    m = Symbol(\"m\")\n",
    "    N = Symbol(\"N\")\n",
    "    pi = Symbol(\"pi\")\n",
    "    return glt_latex(expr.subs({t1: 2 * pi * m / N}))\n",
    "# ..."
   ]
  },
  {
   "cell_type": "markdown",
   "metadata": {},
   "source": [
    "---\n",
    "**Note**:\n",
    "since **expr** is a sympy **Lambda** expression, we need to use its *expr* member\n",
    "\n",
    "---"
   ]
  },
  {
   "cell_type": "code",
   "execution_count": 11,
   "metadata": {},
   "outputs": [
    {
     "data": {
      "text/latex": [
       "$$\\frac{397}{13440} \\cos{\\left (\\frac{2 m}{N} \\pi \\right )} + \\frac{1}{336} \\cos{\\left (\\frac{4 m}{N} \\pi \\right )} + \\frac{1}{40320} \\cos{\\left (\\frac{6 m}{N} \\pi \\right )} + \\frac{2396825387}{79999999672}$$"
      ],
      "text/plain": [
       "<IPython.core.display.Math object>"
      ]
     },
     "execution_count": 11,
     "metadata": {},
     "output_type": "execute_result"
    }
   ],
   "source": [
    "# symbol of the mass matrix\n",
    "Math(to_latex(symbol_m.expr))"
   ]
  },
  {
   "cell_type": "code",
   "execution_count": 12,
   "metadata": {},
   "outputs": [
    {
     "data": {
      "text/latex": [
       "$$- 4 \\cos{\\left (\\frac{2 m}{N} \\pi \\right )} - \\frac{32}{5} \\cos{\\left (\\frac{4 m}{N} \\pi \\right )} - \\frac{4}{15} \\cos{\\left (\\frac{6 m}{N} \\pi \\right )} + \\frac{32}{3}$$"
      ],
      "text/plain": [
       "<IPython.core.display.Math object>"
      ]
     },
     "execution_count": 12,
     "metadata": {},
     "output_type": "execute_result"
    }
   ],
   "source": [
    "# symbol of the stiffness matrix\n",
    "Math(to_latex(symbol_s.expr))"
   ]
  },
  {
   "cell_type": "code",
   "execution_count": 13,
   "metadata": {},
   "outputs": [
    {
     "data": {
      "text/latex": [
       "$$- i \\left(- \\frac{49}{72} \\sin{\\left (\\frac{2 m}{N} \\pi \\right )} - \\frac{7}{45} \\sin{\\left (\\frac{4 m}{N} \\pi \\right )} - \\frac{1}{360} \\sin{\\left (\\frac{6 m}{N} \\pi \\right )}\\right)$$"
      ],
      "text/plain": [
       "<IPython.core.display.Math object>"
      ]
     },
     "execution_count": 13,
     "metadata": {},
     "output_type": "execute_result"
    }
   ],
   "source": [
    "# symbol of the advection matrix\n",
    "Math(to_latex(symbol_a.expr))"
   ]
  },
  {
   "cell_type": "markdown",
   "metadata": {},
   "source": [
    "We now give the asymptotic expansion of the GLT symbol arount $0$, up to the order $8$:"
   ]
  },
  {
   "cell_type": "code",
   "execution_count": 14,
   "metadata": {},
   "outputs": [
    {
     "data": {
      "text/latex": [
       "$$- \\frac{4 m^{6} \\pi^{6}}{189 N^{6}} + \\frac{19 m^{4} \\pi^{4}}{360 N^{4}} - \\frac{m^{2} \\pi^{2}}{12 N^{2}} + \\frac{1574999993543}{25199999896680} + \\mathcal{O}\\left(\\frac{m^{8} \\pi^{8}}{N^{8}}; \\left ( N, \\quad m, \\quad \\pi\\right )\\rightarrow \\left ( 0, \\quad 0, \\quad 0\\right )\\right)$$"
      ],
      "text/plain": [
       "<IPython.core.display.Math object>"
      ]
     },
     "execution_count": 14,
     "metadata": {},
     "output_type": "execute_result"
    }
   ],
   "source": [
    "# asymptotic expansion of the mass symbol\n",
    "Math(to_latex(symbol_m.expr.series(t1,0,8)))"
   ]
  },
  {
   "cell_type": "code",
   "execution_count": 15,
   "metadata": {},
   "outputs": [
    {
     "data": {
      "text/latex": [
       "$$\\frac{2432 m^{6} \\pi^{6}}{45 N^{6}} - \\frac{256 m^{4} \\pi^{4}}{3 N^{4}} + \\frac{64 m^{2}}{N^{2}} \\pi^{2} + \\mathcal{O}\\left(\\frac{m^{8} \\pi^{8}}{N^{8}}; \\left ( N, \\quad m, \\quad \\pi\\right )\\rightarrow \\left ( 0, \\quad 0, \\quad 0\\right )\\right)$$"
      ],
      "text/plain": [
       "<IPython.core.display.Math object>"
      ]
     },
     "execution_count": 15,
     "metadata": {},
     "output_type": "execute_result"
    }
   ],
   "source": [
    "# asymptotic expansion of the stiffness symbol\n",
    "Math(to_latex(symbol_s.expr.series(t1,0,8)))"
   ]
  },
  {
   "cell_type": "code",
   "execution_count": 16,
   "metadata": {},
   "outputs": [
    {
     "data": {
      "text/latex": [
       "$$- \\frac{128 i m^{7} \\pi^{7}}{189 N^{7}} + \\frac{76 i m^{5} \\pi^{5}}{45 N^{5}} - \\frac{8 i m^{3} \\pi^{3}}{3 N^{3}} + \\frac{2 i}{N} m \\pi + \\mathcal{O}\\left(\\frac{m^{8} \\pi^{8}}{N^{8}}; \\left ( N, \\quad m, \\quad \\pi\\right )\\rightarrow \\left ( 0, \\quad 0, \\quad 0\\right )\\right)$$"
      ],
      "text/plain": [
       "<IPython.core.display.Math object>"
      ]
     },
     "execution_count": 16,
     "metadata": {},
     "output_type": "execute_result"
    }
   ],
   "source": [
    "# asymptotic expansion of the advection symbol\n",
    "Math(to_latex(symbol_a.expr.series(t1,0,8)))"
   ]
  },
  {
   "cell_type": "code",
   "execution_count": null,
   "metadata": {},
   "outputs": [],
   "source": []
  },
  {
   "cell_type": "code",
   "execution_count": null,
   "metadata": {},
   "outputs": [],
   "source": []
  },
  {
   "cell_type": "code",
   "execution_count": 27,
   "metadata": {},
   "outputs": [],
   "source": [
    "fs = glt_lambdify(symbol_s)\n",
    "fm = glt_lambdify(symbol_m)\n",
    "fa = glt_lambdify(symbol_a)\n",
    "\n",
    "nx = 100\n",
    "x1 = linspace(  0, 1, nx)\n",
    "t1 = linspace(-pi,pi, nx)\n",
    "\n",
    "s1 = fs(x1,t1)\n",
    "m1 = fm(x1,t1)\n",
    "a1 = fa(x1,t1)"
   ]
  },
  {
   "cell_type": "code",
   "execution_count": 28,
   "metadata": {},
   "outputs": [
    {
     "data": {
      "image/png": "[encoded data removed]",
      "text/plain": [
       "<Figure size 432x288 with 1 Axes>"
      ]
     },
     "metadata": {},
     "output_type": "display_data"
    }
   ],
   "source": [
    "w = a1**2 + m1 * s1\n",
    "plt.plot(t1, w.real);"
   ]
  },
  {
   "cell_type": "code",
   "execution_count": 34,
   "metadata": {},
   "outputs": [
    {
     "data": {
      "image/png": "[encoded data removed]",
      "text/plain": [
       "<Figure size 432x288 with 1 Axes>"
      ]
     },
     "metadata": {},
     "output_type": "display_data"
    }
   ],
   "source": [
    "s2 = s1\n",
    "m2 = m1\n",
    "a2 = a1\n",
    "\n",
    "w = (m1*s2 + m2*s1)**2 + 4*(a1**2*m2**2 + a2**2*m1**2)\n",
    "\n",
    "plt.plot(t1, w.real);\n",
    "\n",
    "\n",
    "\n"
   ]
  },
  {
   "cell_type": "code",
   "execution_count": 43,
   "metadata": {},
   "outputs": [],
   "source": [
    "# ...\n",
    "p1  = 3 ; p2 = 3\n",
    "ne1 = 64 ; ne2 = 64\n",
    "# ...\n",
    "\n",
    "# ...  create a finite element space\n",
    "V1 = SplineSpace(p1, grid=linspace(0., 1., ne1+1))\n",
    "V2 = SplineSpace(p2, grid=linspace(0., 1., ne2+1))\n",
    "# ...\n",
    "\n",
    "# ... compute the GLT symbol\n",
    "symbol_m1 = glt_symbol(a_m, space=V1, evaluate=True)\n",
    "symbol_s1 = glt_symbol(a_s, space=V1, evaluate=True)\n",
    "symbol_a1 = glt_symbol(a_a, space=V1, evaluate=True)\n",
    "\n",
    "symbol_m2 = glt_symbol(a_m, space=V2, evaluate=True)\n",
    "symbol_s2 = glt_symbol(a_s, space=V2, evaluate=True)\n",
    "symbol_a2 = glt_symbol(a_a, space=V2, evaluate=True)\n",
    "# ...\n",
    "\n",
    "# ...\n",
    "fs1 = glt_lambdify(symbol_s1)\n",
    "fm1 = glt_lambdify(symbol_m1)\n",
    "fa1 = glt_lambdify(symbol_a1)\n",
    "\n",
    "fs2 = glt_lambdify(symbol_s2)\n",
    "fm2 = glt_lambdify(symbol_m2)\n",
    "fa2 = glt_lambdify(symbol_a2)\n",
    "# ...\n",
    "\n",
    "x1 = x2 = linspace(  0, 1, 100)\n",
    "t1 = t2 = linspace(-pi,pi, 100)\n",
    "\n",
    "# ...\n",
    "s1 = fs1(x1,t1)\n",
    "m1 = fm1(x1,t1)\n",
    "a1 = fa1(x1,t1)\n",
    "\n",
    "s2 = fs2(x2,t2)\n",
    "m2 = fm2(x2,t2)\n",
    "a2 = fa2(x2,t2)\n",
    "# ..."
   ]
  },
  {
   "cell_type": "code",
   "execution_count": 44,
   "metadata": {},
   "outputs": [
    {
     "name": "stdout",
     "output_type": "stream",
     "text": [
      "2.086594002048185e-06\n"
     ]
    },
    {
     "data": {
      "image/png": "[encoded data removed]",
      "text/plain": [
       "<Figure size 432x288 with 1 Axes>"
      ]
     },
     "metadata": {},
     "output_type": "display_data"
    }
   ],
   "source": [
    "w = (m1*s2 + m2*s1)**2 + 4*(a1**2*m2**2 + a2**2*m1**2)\n",
    "print(min(w.real))\n",
    "plt.plot(t1, w.real);"
   ]
  },
  {
   "cell_type": "code",
   "execution_count": 14,
   "metadata": {},
   "outputs": [
    {
     "data": {
      "text/html": [
       "<link href='http://fonts.googleapis.com/css?family=Fenix' rel='stylesheet' type='text/css'>\n",
       "<link href='http://fonts.googleapis.com/css?family=Alegreya+Sans:100,300,400,500,700,800,900,100italic,300italic,400italic,500italic,700italic,800italic,900italic' rel='stylesheet' type='text/css'>\n",
       "<link href='http://fonts.googleapis.com/css?family=Source+Code+Pro:300,400' rel='stylesheet' type='text/css'>\n",
       "<style>\n",
       "    @font-face {\n",
       "        font-family: \"Computer Modern\";\n",
       "        src: url('http://mirrors.ctan.org/fonts/cm-unicode/fonts/otf/cmunss.otf');\n",
       "    }\n",
       "    div.cell{\n",
       "        width:600px;\n",
       "        margin-left:16% !important;\n",
       "        margin-right:auto;\n",
       "    }\n",
       "    h1 {\n",
       "        font-family: 'Alegreya Sans', sans-serif;\n",
       "    }\n",
       "    h2 {\n",
       "        font-family: 'Fenix', serif;\n",
       "    }\n",
       "    h3{\n",
       "\t\tfont-family: 'Fenix', serif;\n",
       "        margin-top:12px;\n",
       "        margin-bottom: 3px;\n",
       "       }\n",
       "\th4{\n",
       "\t\tfont-family: 'Fenix', serif;\n",
       "       }\n",
       "    h5 {\n",
       "        font-family: 'Alegreya Sans', sans-serif;\n",
       "    }\t   \n",
       "    div.text_cell_render{\n",
       "        font-family: 'Alegreya Sans',Computer Modern, \"Helvetica Neue\", Arial, Helvetica, Geneva, sans-serif;\n",
       "        line-height: 135%;\n",
       "        font-size: 120%;\n",
       "        width:600px;\n",
       "        margin-left:auto;\n",
       "        margin-right:auto;\n",
       "    }\n",
       "    .CodeMirror{\n",
       "            font-family: \"Source Code Pro\";\n",
       "\t\t\tfont-size: 90%;\n",
       "    }\n",
       "/*    .prompt{\n",
       "        display: None;\n",
       "    }*/\n",
       "    .text_cell_render h1 {\n",
       "        font-weight: 200;\n",
       "        font-size: 50pt;\n",
       "\t\tline-height: 100%;\n",
       "        color:#054BCD;\n",
       "        margin-bottom: 0.5em;\n",
       "        margin-top: 0.5em;\n",
       "        display: block;\n",
       "    }\t\n",
       "    .text_cell_render h5 {\n",
       "        font-weight: 300;\n",
       "        font-size: 16pt;\n",
       "        color: #054BCD;\n",
       "        font-style: italic;\n",
       "        margin-bottom: .5em;\n",
       "        margin-top: 0.5em;\n",
       "        display: block;\n",
       "    }\n",
       "    \n",
       "    .warning{\n",
       "        color: rgb( 240, 20, 20 )\n",
       "        }  \n",
       "</style>\n",
       "<script>\n",
       "    MathJax.Hub.Config({\n",
       "                        TeX: {\n",
       "                           extensions: [\"AMSmath.js\"]\n",
       "                           },\n",
       "                tex2jax: {\n",
       "                    inlineMath: [ ['$','$'], [\"\\\\(\",\"\\\\)\"] ],\n",
       "                    displayMath: [ ['$$','$$'], [\"\\\\[\",\"\\\\]\"] ]\n",
       "                },\n",
       "                displayAlign: 'center', // Change this to 'center' to center equations.\n",
       "                \"HTML-CSS\": {\n",
       "                    styles: {'.MathJax_Display': {\"margin\": 4}}\n",
       "                }\n",
       "        });\n",
       "</script>\n"
      ],
      "text/plain": [
       "<IPython.core.display.HTML object>"
      ]
     },
     "execution_count": 14,
     "metadata": {},
     "output_type": "execute_result"
    }
   ],
   "source": [
    "from IPython.core.display import HTML\n",
    "def css_styling():\n",
    "    styles = open(\"../../styles/custom.css\", \"r\").read()\n",
    "    return HTML(styles)\n",
    "css_styling()"
   ]
  },
  {
   "cell_type": "code",
   "execution_count": null,
   "metadata": {},
   "outputs": [],
   "source": []
  },
  {
   "cell_type": "code",
   "execution_count": null,
   "metadata": {},
   "outputs": [],
   "source": []
  }
 ],
 "metadata": {
  "kernelspec": {
   "display_name": "Python 3",
   "language": "python",
   "name": "python3"
  },
  "language_info": {
   "codemirror_mode": {
    "name": "ipython",
    "version": 3
   },
   "file_extension": ".py",
   "mimetype": "text/x-python",
   "name": "python",
   "nbconvert_exporter": "python",
   "pygments_lexer": "ipython3",
   "version": "3.5.2"
  }
 },
 "nbformat": 4,
 "nbformat_minor": 2
}
