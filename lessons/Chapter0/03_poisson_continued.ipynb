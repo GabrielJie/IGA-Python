{
 "cells": [
  {
   "cell_type": "markdown",
   "metadata": {},
   "source": [
    "# B-splines FEM solver for Poisson equation\n",
    "\n",
    "For this session, we'll need to install the [spl](https://github.com/pyccel/spl) *python* package. Please follow the *README* file installation instructions."
   ]
  },
  {
   "cell_type": "markdown",
   "metadata": {},
   "source": [
    "## 1-D Poisson solver\n",
    "\n",
    "Let's first define the assembly procedures for the stiffness matrix and the rhs."
   ]
  },
  {
   "cell_type": "code",
   "execution_count": 1,
   "metadata": {},
   "outputs": [],
   "source": [
    "# needed imports\n",
    "from numpy import zeros, ones, linspace, zeros_like\n",
    "from matplotlib.pyplot import plot, show\n",
    "%matplotlib inline"
   ]
  },
  {
   "cell_type": "code",
   "execution_count": 2,
   "metadata": {},
   "outputs": [],
   "source": [
    "# ... assembling the stiffness matrix using stencil forms\n",
    "def assemble_stiffness(V):\n",
    "\n",
    "    # ... sizes\n",
    "    [s1] = V.vector_space.starts\n",
    "    [e1] = V.vector_space.ends\n",
    "    [p1] = V.vector_space.pads\n",
    "\n",
    "    k1 = V.quad_order\n",
    "    spans_1 = V.spans\n",
    "    basis_1 = V.basis\n",
    "    weights_1 = V.weights\n",
    "    # ...\n",
    "\n",
    "    # ... data structure\n",
    "    stiffness = zeros((V.nbasis, V.nbasis))\n",
    "    # ...\n",
    "\n",
    "    # ... build matrices\n",
    "    for ie1 in range(s1, e1+1-p1):\n",
    "        i_span_1 = spans_1[ie1]\n",
    "        for il_1 in range(0, p1+1):\n",
    "            for jl_1 in range(0, p1+1):\n",
    "                i1 = i_span_1 - p1  - 1 + il_1\n",
    "                j1 = i_span_1 - p1  - 1 + jl_1\n",
    "\n",
    "                v = 0.0\n",
    "                for g1 in range(0, k1):\n",
    "                    bi_0 = basis_1[il_1, 0, g1, ie1]\n",
    "                    bi_x = basis_1[il_1, 1, g1, ie1]\n",
    "\n",
    "                    bj_0 = basis_1[jl_1, 0, g1, ie1]\n",
    "                    bj_x = basis_1[jl_1, 1, g1, ie1]\n",
    "\n",
    "                    wvol = weights_1[g1, ie1]\n",
    "\n",
    "                    v += (bi_x * bj_x) * wvol\n",
    "\n",
    "                stiffness[i1, j1]  += v\n",
    "    # ...\n",
    "\n",
    "    # ...\n",
    "    return stiffness\n",
    "    # ...\n",
    "# ..."
   ]
  },
  {
   "cell_type": "code",
   "execution_count": 3,
   "metadata": {},
   "outputs": [],
   "source": [
    "# ... Assembly procedure for the rhs\n",
    "def assemble_rhs(V, f):\n",
    "\n",
    "    # ... sizes\n",
    "    [s1] = V.vector_space.starts\n",
    "    [e1] = V.vector_space.ends\n",
    "    [p1] = V.vector_space.pads\n",
    "\n",
    "    k1 = V.quad_order\n",
    "    spans_1 = V.spans\n",
    "    basis_1 = V.basis\n",
    "    points_1 = V.points\n",
    "    weights_1 = V.weights\n",
    "    # ...\n",
    "\n",
    "    # ... data structure\n",
    "    rhs = zeros(V.nbasis)\n",
    "    # ...\n",
    "\n",
    "    # ... build rhs\n",
    "    for ie1 in range(s1, e1+1-p1):\n",
    "        i_span_1 = spans_1[ie1]\n",
    "        for il_1 in range(0, p1+1):\n",
    "            i1 = i_span_1 - p1  - 1 + il_1\n",
    "\n",
    "            v = 0.0\n",
    "            for g1 in range(0, k1):\n",
    "                bi_0 = basis_1[il_1, 0, g1, ie1]\n",
    "                bi_x = basis_1[il_1, 1, g1, ie1]\n",
    "\n",
    "                x1    = points_1[g1, ie1]\n",
    "                wvol  = weights_1[g1, ie1]\n",
    "\n",
    "                v += bi_0 * f(x1) * wvol\n",
    "\n",
    "            rhs[i1] += v\n",
    "    # ...\n",
    "\n",
    "    # ...\n",
    "    return rhs\n",
    "    # ...\n",
    "# ..."
   ]
  },
  {
   "cell_type": "markdown",
   "metadata": {},
   "source": [
    "---\n",
    "**Note**: \n",
    "We added the function **f** as an argument of the *assemble_rhs* function. In general, we will avoid calling a function over the quadrature points for performance reasons. Setting directly the arithemtic expression makes life easier for compilers! \n",
    "\n",
    "---"
   ]
  },
  {
   "cell_type": "markdown",
   "metadata": {},
   "source": [
    "Now, let's create a B-spline Finite Element Space $V$ over a grid of $32$ elements, and using **cubic** *B-splines*"
   ]
  },
  {
   "cell_type": "code",
   "execution_count": 4,
   "metadata": {},
   "outputs": [],
   "source": [
    "# nedded imports\n",
    "from spl.fem.splines import SplineSpace"
   ]
  },
  {
   "cell_type": "code",
   "execution_count": 5,
   "metadata": {},
   "outputs": [],
   "source": [
    "p  = 3    # spline degree\n",
    "ne = 32   # number of elements\n",
    "\n",
    "grid = linspace(0., 1., ne+1)\n",
    "    \n",
    "# create a finite element space\n",
    "V = SplineSpace(p, grid=grid)"
   ]
  },
  {
   "cell_type": "markdown",
   "metadata": {},
   "source": [
    "### Analytical solution\n",
    "\n",
    "In finite elements, one of the first tests we do is to check polynomial solutions of with a degree that smaller or equal to the one we chose for our discretization.\n",
    "Here, we take the analytical solution $u(x) = x*(1-x)$ which leads to the rhs $f(x) = - \\partial_{xx} u(x) = 2$."
   ]
  },
  {
   "cell_type": "code",
   "execution_count": 6,
   "metadata": {},
   "outputs": [],
   "source": [
    "# assembly\n",
    "stiffness = assemble_stiffness(V)\n",
    "rhs = assemble_rhs(V, lambda x: 2.)"
   ]
  },
  {
   "cell_type": "markdown",
   "metadata": {},
   "source": [
    "In order to apply the homogeneous Dirichlet boundary conditions, we only have to remove the first and the last splines, since their values at the boundary is $1$. Due to the partition of unity, the remaining splines are $0$ on the boundary."
   ]
  },
  {
   "cell_type": "code",
   "execution_count": 7,
   "metadata": {},
   "outputs": [],
   "source": [
    "# apply homogeneous dirichlet boundary conditions\n",
    "rhs = rhs[1:-1]\n",
    "stiffness = stiffness[1:-1, 1:-1]"
   ]
  },
  {
   "cell_type": "markdown",
   "metadata": {},
   "source": [
    "---\n",
    "**Note**:\n",
    "\n",
    "Later, we will show how to do this directly in the Spline space and have this information transfered to our data structures *StencilMatrix* and *StencilVector*.\n",
    "\n",
    "---"
   ]
  },
  {
   "cell_type": "code",
   "execution_count": 8,
   "metadata": {},
   "outputs": [],
   "source": [
    "from scipy.sparse.linalg import cg\n",
    "u, info = cg( stiffness, rhs, tol=1e-6, maxiter=5000 )"
   ]
  },
  {
   "cell_type": "code",
   "execution_count": 9,
   "metadata": {},
   "outputs": [
    {
     "data": {
      "image/png": "[encoded data removed]",
      "text/plain": [
       "<Figure size 432x288 with 1 Axes>"
      ]
     },
     "metadata": {},
     "output_type": "display_data"
    }
   ],
   "source": [
    "# TODO - to be replaced by the Field evaluation\n",
    "#      - implement setfromarray \n",
    "from scipy.interpolate import splev\n",
    "\n",
    "def evaluate_field(u, x):\n",
    "    cu = zeros_like(V.knots)\n",
    "    # we add a shift because of the homogeneous bc\n",
    "    cu[1:1+len(u)] = u[:]\n",
    "    tck = (V.knots, cu, p)\n",
    "    y = splev( x, tck )\n",
    "    return y\n",
    "\n",
    "grid = linspace(0., 1., 401)\n",
    "plot(grid, evaluate_field(u, grid)) ; show()"
   ]
  },
  {
   "cell_type": "markdown",
   "metadata": {},
   "source": [
    "## Improving the assembly procedure\n",
    "\n",
    "---\n",
    "**Note**:\n",
    "\n",
    "From now on, we will use our data structure *StencilMatrix* and *StencilVector* to store the matrix and rhs entries.\n",
    "\n",
    "---\n"
   ]
  },
  {
   "cell_type": "code",
   "execution_count": 10,
   "metadata": {},
   "outputs": [],
   "source": [
    "from spl.linalg.stencil import StencilVector, StencilMatrix"
   ]
  },
  {
   "cell_type": "markdown",
   "metadata": {},
   "source": [
    "### 2-D case\n",
    "\n",
    "We present here different assembly procedures.\n",
    "\n",
    "- *assembly_v0*: similar to the **1D** case, but using the *Stencil* format to reduce memory consumption,\n",
    "- *assembly_v1*: we extract the loop over the quadrature points and put it as a function that we call **kernel**. In this case, we need the function *kernel_b*,\n",
    "- *assembly_v2*: we extract the nested loops over the non-vanishing splines with respect to the current element and put them in a new kernel, called *kernel_b*. We also introduce an **element matrix** to store all these entries,\n",
    "- *assembly_v3*: we avoid setting the entries into the matrix one by one. In this case, we use *numpy* copy of arrays, modulo a specific shift."
   ]
  },
  {
   "cell_type": "code",
   "execution_count": 11,
   "metadata": {},
   "outputs": [],
   "source": [
    "def assembly_v0(V):\n",
    "\n",
    "    # ... sizes\n",
    "    [s1, s2] = V.vector_space.starts\n",
    "    [e1, e2] = V.vector_space.ends\n",
    "    [p1, p2] = V.vector_space.pads\n",
    "    # ...\n",
    "\n",
    "    # ... seetings\n",
    "    [k1, k2] = [W.quad_order for W in V.spaces]\n",
    "    [spans_1, spans_2] = [W.spans for W in V.spaces]\n",
    "    [basis_1, basis_2] = [W.basis for W in V.spaces]\n",
    "    [weights_1, weights_2] = [W.weights for W in V.spaces]\n",
    "    [points_1, points_2] = [W.points for W in V.spaces]\n",
    "    # ...\n",
    "\n",
    "    # ... data structure\n",
    "    M = StencilMatrix(V.vector_space, V.vector_space)\n",
    "    # ...\n",
    "\n",
    "    # ... build matrices\n",
    "    for ie1 in range(s1, e1+1-p1):\n",
    "        for ie2 in range(s2, e2+1-p2):\n",
    "            i_span_1 = spans_1[ie1]\n",
    "            i_span_2 = spans_2[ie2]\n",
    "            for il_1 in range(0, p1+1):\n",
    "                for jl_1 in range(0, p1+1):\n",
    "                    for il_2 in range(0, p2+1):\n",
    "                        for jl_2 in range(0, p2+1):\n",
    "\n",
    "                            i1 = i_span_1 - p1  - 1 + il_1\n",
    "                            j1 = i_span_1 - p1  - 1 + jl_1\n",
    "\n",
    "                            i2 = i_span_2 - p2  - 1 + il_2\n",
    "                            j2 = i_span_2 - p2  - 1 + jl_2\n",
    "\n",
    "                            v_s = 0.0\n",
    "                            for g1 in range(0, k1):\n",
    "                                for g2 in range(0, k2):\n",
    "                                    bi_0 = basis_1[il_1, 0, g1, ie1] * basis_2[il_2, 0, g2, ie2]\n",
    "                                    bi_x = basis_1[il_1, 1, g1, ie1] * basis_2[il_2, 0, g2, ie2]\n",
    "                                    bi_y = basis_1[il_1, 0, g1, ie1] * basis_2[il_2, 1, g2, ie2]\n",
    "\n",
    "                                    bj_0 = basis_1[jl_1, 0, g1, ie1] * basis_2[jl_2, 0, g2, ie2]\n",
    "                                    bj_x = basis_1[jl_1, 1, g1, ie1] * basis_2[jl_2, 0, g2, ie2]\n",
    "                                    bj_y = basis_1[jl_1, 0, g1, ie1] * basis_2[jl_2, 1, g2, ie2]\n",
    "\n",
    "                                    wvol = weights_1[g1, ie1] * weights_2[g2, ie2]\n",
    "\n",
    "                                    v_s += (bi_x * bj_x + bi_y * bj_y) * wvol\n",
    "\n",
    "                            M[i1, i2, j1 - i1, j2 - i2]  += v_s\n",
    "    # ..."
   ]
  },
  {
   "cell_type": "code",
   "execution_count": 12,
   "metadata": {},
   "outputs": [],
   "source": [
    "def assembly_v1(V, kernel):\n",
    "\n",
    "    # ... sizes\n",
    "    [s1, s2] = V.vector_space.starts\n",
    "    [e1, e2] = V.vector_space.ends\n",
    "    [p1, p2] = V.vector_space.pads\n",
    "    # ...\n",
    "\n",
    "    # ... seetings\n",
    "    [k1, k2] = [W.quad_order for W in V.spaces]\n",
    "    [spans_1, spans_2] = [W.spans for W in V.spaces]\n",
    "    [basis_1, basis_2] = [W.basis for W in V.spaces]\n",
    "    [weights_1, weights_2] = [W.weights for W in V.spaces]\n",
    "    [points_1, points_2] = [W.points for W in V.spaces]\n",
    "    # ...\n",
    "\n",
    "    # ... data structure\n",
    "    M = StencilMatrix(V.vector_space, V.vector_space)\n",
    "    # ...\n",
    "\n",
    "    # ... build matrices\n",
    "    for ie1 in range(s1, e1+1-p1):\n",
    "        for ie2 in range(s2, e2+1-p2):\n",
    "            i_span_1 = spans_1[ie1]\n",
    "            i_span_2 = spans_2[ie2]\n",
    "            for il_1 in range(0, p1+1):\n",
    "                for jl_1 in range(0, p1+1):\n",
    "                    for il_2 in range(0, p2+1):\n",
    "                        for jl_2 in range(0, p2+1):\n",
    "\n",
    "                            i1 = i_span_1 - p1  - 1 + il_1\n",
    "                            j1 = i_span_1 - p1  - 1 + jl_1\n",
    "\n",
    "                            i2 = i_span_2 - p2  - 1 + il_2\n",
    "                            j2 = i_span_2 - p2  - 1 + jl_2\n",
    "\n",
    "                            bi1 = basis_1[il_1, :, :, ie1]\n",
    "                            bi2 = basis_2[il_2, :, :, ie2]\n",
    "\n",
    "                            bj1 = basis_1[jl_1, :, :, ie1]\n",
    "                            bj2 = basis_2[jl_2, :, :, ie2]\n",
    "\n",
    "                            w1 = weights_1[:, ie1]\n",
    "                            w2 = weights_2[:, ie2]\n",
    "\n",
    "                            v_s = kernel(k1, k2, bi1, bi2, bj1, bj2, w1, w2)\n",
    "                            M[i1, i2, j1 - i1, j2 - i2]  += v_s\n",
    "    # ..."
   ]
  },
  {
   "cell_type": "code",
   "execution_count": 13,
   "metadata": {},
   "outputs": [],
   "source": [
    "def kernel_a(k1, k2, bi1, bi2, bj1, bj2, w1, w2):\n",
    "    v = 0.0\n",
    "    for g1 in range(0, k1):\n",
    "        for g2 in range(0, k2):\n",
    "            bi_0 = bi1[0, g1] * bi2[0, g2]\n",
    "            bi_x = bi1[1, g1] * bi2[0, g2]\n",
    "            bi_y = bi1[0, g1] * bi2[1, g2]\n",
    "\n",
    "            bj_0 = bj1[0, g1] * bj2[0, g2]\n",
    "            bj_x = bj1[1, g1] * bj2[0, g2]\n",
    "            bj_y = bj1[0, g1] * bj2[1, g2]\n",
    "\n",
    "            wvol = w1[g1] * w2[g2]\n",
    "\n",
    "            v += (bi_x * bj_x + bi_y * bj_y) * wvol\n",
    "    return v"
   ]
  },
  {
   "cell_type": "code",
   "execution_count": 14,
   "metadata": {},
   "outputs": [],
   "source": [
    "def assembly_v2(V, kernel):\n",
    "\n",
    "    # ... sizes\n",
    "    [s1, s2] = V.vector_space.starts\n",
    "    [e1, e2] = V.vector_space.ends\n",
    "    [p1, p2] = V.vector_space.pads\n",
    "    # ...\n",
    "\n",
    "    # ... seetings\n",
    "    [k1, k2] = [W.quad_order for W in V.spaces]\n",
    "    [spans_1, spans_2] = [W.spans for W in V.spaces]\n",
    "    [basis_1, basis_2] = [W.basis for W in V.spaces]\n",
    "    [weights_1, weights_2] = [W.weights for W in V.spaces]\n",
    "    [points_1, points_2] = [W.points for W in V.spaces]\n",
    "    # ...\n",
    "\n",
    "    # ... data structure\n",
    "    M = StencilMatrix(V.vector_space, V.vector_space)\n",
    "    # ...\n",
    "\n",
    "    # ... element matrix\n",
    "    mat = zeros((p1+1, p2+1, 2*p1+1, 2*p2+1), order='F')\n",
    "    # ...\n",
    "\n",
    "    # ... build matrices\n",
    "    for ie1 in range(s1, e1+1-p1):\n",
    "        for ie2 in range(s2, e2+1-p2):\n",
    "            i_span_1 = spans_1[ie1]\n",
    "            i_span_2 = spans_2[ie2]\n",
    "\n",
    "            bs1 = basis_1[:, :, :, ie1]\n",
    "            bs2 = basis_2[:, :, :, ie2]\n",
    "            w1 = weights_1[:, ie1]\n",
    "            w2 = weights_2[:, ie2]\n",
    "            kernel(p1, p2, k1, k2, bs1, bs2, w1, w2, mat)\n",
    "\n",
    "            for il_1 in range(0, p1+1):\n",
    "                for jl_1 in range(0, p1+1):\n",
    "                    for il_2 in range(0, p2+1):\n",
    "                        for jl_2 in range(0, p2+1):\n",
    "\n",
    "                            i1 = i_span_1 - p1  - 1 + il_1\n",
    "                            j1 = i_span_1 - p1  - 1 + jl_1\n",
    "\n",
    "                            i2 = i_span_2 - p2  - 1 + il_2\n",
    "                            j2 = i_span_2 - p2  - 1 + jl_2\n",
    "\n",
    "                            ij1 = p1 + jl_1 - il_1\n",
    "                            ij2 = p2 + jl_2 - il_2\n",
    "                            M[i1, i2, j1 - i1, j2 - i2] += mat[il_1, il_2, ij1, ij2]\n",
    "    # ..."
   ]
  },
  {
   "cell_type": "code",
   "execution_count": 15,
   "metadata": {},
   "outputs": [],
   "source": [
    "def kernel_b(p1, p2, k1, k2, bs1, bs2, w1, w2, mat):\n",
    "    mat[:,:,:,:] = 0.\n",
    "    for il_1 in range(0, p1+1):\n",
    "        for jl_1 in range(0, p1+1):\n",
    "            for il_2 in range(0, p2+1):\n",
    "                for jl_2 in range(0, p2+1):\n",
    "\n",
    "                    v = 0.0\n",
    "                    for g1 in range(0, k1):\n",
    "                        for g2 in range(0, k2):\n",
    "                            bi_0 = bs1[il_1, 0, g1] * bs2[il_2, 0, g2]\n",
    "                            bi_x = bs1[il_1, 1, g1] * bs2[il_2, 0, g2]\n",
    "                            bi_y = bs1[il_1, 0, g1] * bs2[il_2, 1, g2]\n",
    "\n",
    "                            bj_0 = bs1[jl_1, 0, g1] * bs2[jl_2, 0, g2]\n",
    "                            bj_x = bs1[jl_1, 1, g1] * bs2[jl_2, 0, g2]\n",
    "                            bj_y = bs1[jl_1, 0, g1] * bs2[jl_2, 1, g2]\n",
    "\n",
    "                            wvol = w1[g1] * w2[g2]\n",
    "\n",
    "                            v += (bi_x * bj_x + bi_y * bj_y) * wvol\n",
    "                    mat[il_1, il_2, p1 + jl_1 - il_1, p2 + jl_2 - il_2] = v"
   ]
  },
  {
   "cell_type": "code",
   "execution_count": 16,
   "metadata": {},
   "outputs": [],
   "source": [
    "def assembly_v3(V, kernel):\n",
    "\n",
    "    # ... sizes\n",
    "    [s1, s2] = V.vector_space.starts\n",
    "    [e1, e2] = V.vector_space.ends\n",
    "    [p1, p2] = V.vector_space.pads\n",
    "    # ...\n",
    "\n",
    "    # ... seetings\n",
    "    [k1, k2] = [W.quad_order for W in V.spaces]\n",
    "    [spans_1, spans_2] = [W.spans for W in V.spaces]\n",
    "    [basis_1, basis_2] = [W.basis for W in V.spaces]\n",
    "    [weights_1, weights_2] = [W.weights for W in V.spaces]\n",
    "    [points_1, points_2] = [W.points for W in V.spaces]\n",
    "    # ...\n",
    "\n",
    "    # ... data structure\n",
    "    M = StencilMatrix(V.vector_space, V.vector_space)\n",
    "    # ...\n",
    "\n",
    "    # ... element matrix\n",
    "    mat = zeros((p1+1, p2+1, 2*p1+1, 2*p2+1), order='F')\n",
    "    # ...\n",
    "\n",
    "    # ... build matrices\n",
    "    for ie1 in range(s1, e1+1-p1):\n",
    "        for ie2 in range(s2, e2+1-p2):\n",
    "            i_span_1 = spans_1[ie1]\n",
    "            i_span_2 = spans_2[ie2]\n",
    "\n",
    "            bs1 = basis_1[:, :, :, ie1]\n",
    "            bs2 = basis_2[:, :, :, ie2]\n",
    "            w1 = weights_1[:, ie1]\n",
    "            w2 = weights_2[:, ie2]\n",
    "            kernel(p1, p2, k1, k2, bs1, bs2, w1, w2, mat)\n",
    "\n",
    "            s1 = i_span_1 - p1 - 1\n",
    "            s2 = i_span_2 - p2 - 1\n",
    "            M._data[s1:s1+p1+1,s2:s2+p2+1,:,:] += mat[:,:,:,:]\n",
    "    # ..."
   ]
  },
  {
   "cell_type": "code",
   "execution_count": 17,
   "metadata": {},
   "outputs": [
    {
     "name": "stdout",
     "output_type": "stream",
     "text": [
      "> Grid   :: [64,64]\n",
      "> Degree :: [3,3]\n",
      "-- elapsed times --\n",
      "> 66.93717074394226 [pure Python v0]\n",
      "> 60.378137826919556 [pure Python v1]\n",
      "> 61.78002715110779 [pure Python v2]\n",
      "> 1.3624701499938965 [pure Python v3]\n"
     ]
    }
   ],
   "source": [
    "# needed imports\n",
    "from spl.fem.splines import SplineSpace\n",
    "from spl.fem.tensor  import TensorFemSpace\n",
    "import time\n",
    "\n",
    "# ... numbers of elements and degres\n",
    "p1  = 3 ; p2  = 3\n",
    "ne1 = 64 ; ne2 = 64\n",
    "# ...\n",
    "\n",
    "print('> Grid   :: [{ne1},{ne2}]'.format(ne1=ne1, ne2=ne2))\n",
    "print('> Degree :: [{p1},{p2}]'.format(p1=p1, p2=p2))\n",
    "\n",
    "grid_1 = linspace(0., 1., ne1+1)\n",
    "grid_2 = linspace(0., 1., ne2+1)\n",
    "\n",
    "V1 = SplineSpace(p1, grid=grid_1)\n",
    "V2 = SplineSpace(p2, grid=grid_2)\n",
    "\n",
    "V = TensorFemSpace(V1, V2)\n",
    "\n",
    "print('-- elapsed times --')\n",
    "# ... pure python version 0\n",
    "tb = time.time()\n",
    "assembly_v0(V)\n",
    "te = time.time()\n",
    "print('> {} [pure Python v0]'.format(te-tb))\n",
    "# ...\n",
    "\n",
    "# ... pure python version 1\n",
    "tb = time.time()\n",
    "assembly_v1(V, kernel_a)\n",
    "te = time.time()\n",
    "print('> {} [pure Python v1]'.format(te-tb))\n",
    "# ...\n",
    "\n",
    "# ... pure python version 2\n",
    "tb = time.time()\n",
    "assembly_v2(V, kernel_b)\n",
    "te = time.time()\n",
    "print('> {} [pure Python v2]'.format(te-tb))\n",
    "# ...\n",
    "\n",
    "# ... pure python version 3 (kernel_3 = kernel_2)\n",
    "tb = time.time()\n",
    "assembly_v3(V, kernel_b)\n",
    "te = time.time()\n",
    "print('> {} [pure Python v3]'.format(te-tb))\n",
    "# ..."
   ]
  },
  {
   "cell_type": "markdown",
   "metadata": {},
   "source": [
    "#### Accelerating the computation using Pyccel\n",
    "\n",
    "In this section, we introduce a very simple and easy way to accelerate your computations using [pyccel](https://github.com/pyccel/pyccel). *Pyccel* can be used as a *Python -> Fortran* converter. \n",
    "Using *Pyccel*, we can accelerate the *version 3* of our assembly procedure, with orders of magnitude. Let's see how it works!"
   ]
  },
  {
   "cell_type": "code",
   "execution_count": 18,
   "metadata": {},
   "outputs": [],
   "source": [
    "# import epyccel function\n",
    "from pyccel.epyccel import epyccel\n",
    "\n",
    "# define a header to specify the arguments types for kernel_b\n",
    "header_b = '#$ header procedure kernel_b(int, int, int, int, double [:,:,:], double [:,:,:], double [:], double [:], double [:,:,:,:])'\n",
    "\n",
    "# compile the kernel\n",
    "kernel = epyccel(kernel_b, header_b)"
   ]
  },
  {
   "cell_type": "markdown",
   "metadata": {},
   "source": [
    "Now, call the assembly procedure again with the new kernel."
   ]
  },
  {
   "cell_type": "code",
   "execution_count": 20,
   "metadata": {},
   "outputs": [
    {
     "name": "stdout",
     "output_type": "stream",
     "text": [
      "> 0.005202531814575195 [Python-Pyccel v3]\n"
     ]
    }
   ],
   "source": [
    "# ... pyccelized version 3 (kernel_3 = kernel_2)\n",
    "tb = time.time()\n",
    "assembly_v3(V, kernel)\n",
    "te = time.time()\n",
    "print('> {} [Python-Pyccel v3]'.format(te-tb))\n",
    "# ..."
   ]
  },
  {
   "cell_type": "markdown",
   "metadata": {},
   "source": [
    "### 3-D case\n",
    "\n",
    "Now that we know that we should use the *version 3* of our assembly procedure, let's apply it to the **3D** case."
   ]
  },
  {
   "cell_type": "code",
   "execution_count": 21,
   "metadata": {},
   "outputs": [],
   "source": [
    "def assembly_v3(V, kernel):\n",
    "\n",
    "    # ... sizes\n",
    "    [s1, s2, s3] = V.vector_space.starts\n",
    "    [e1, e2, e3] = V.vector_space.ends\n",
    "    [p1, p2, p3] = V.vector_space.pads\n",
    "    # ...\n",
    "\n",
    "    # ... seetings\n",
    "    [k1, k2, k3] = [W.quad_order for W in V.spaces]\n",
    "    [spans_1, spans_2, spans_3] = [W.spans for W in V.spaces]\n",
    "    [basis_1, basis_2, basis_3] = [W.basis for W in V.spaces]\n",
    "    [weights_1, weights_2, weights_3] = [W.weights for W in V.spaces]\n",
    "    [points_1, points_2, points_3] = [W.points for W in V.spaces]\n",
    "    # ...\n",
    "\n",
    "    # ... data structure\n",
    "    M = StencilMatrix(V.vector_space, V.vector_space)\n",
    "    # ...\n",
    "\n",
    "    # ... element matrix\n",
    "    mat = zeros((p1+1, p2+1, p3+1, 2*p1+1, 2*p2+1, 2*p3+1), order='F')\n",
    "    # ...\n",
    "\n",
    "    # ... build matrices\n",
    "    for ie1 in range(s1, e1+1-p1):\n",
    "        for ie2 in range(s2, e2+1-p2):\n",
    "            for ie3 in range(s3, e3+1-p3):\n",
    "                i_span_1 = spans_1[ie1]\n",
    "                i_span_2 = spans_2[ie2]\n",
    "                i_span_3 = spans_3[ie3]\n",
    "\n",
    "                bs1 = basis_1[:, :, :, ie1]\n",
    "                bs2 = basis_2[:, :, :, ie2]\n",
    "                bs3 = basis_3[:, :, :, ie3]\n",
    "                w1 = weights_1[:, ie1]\n",
    "                w2 = weights_2[:, ie2]\n",
    "                w3 = weights_3[:, ie3]\n",
    "                kernel(p1, p2, p3, k1, k2, k3, bs1, bs2, bs3, w1, w2, w3, mat)\n",
    "\n",
    "                s1 = i_span_1 - p1 - 1\n",
    "                s2 = i_span_2 - p2 - 1\n",
    "                s3 = i_span_3 - p3 - 1\n",
    "                M._data[s1:s1+p1+1,s2:s2+p2+1,s3:s3+p3+1,:,:,:] += mat[:,:,:,:,:,:]\n",
    "    # ..."
   ]
  },
  {
   "cell_type": "code",
   "execution_count": 22,
   "metadata": {},
   "outputs": [],
   "source": [
    "def kernel_3d(p1, p2, p3, k1, k2, k3, bs1, bs2, bs3, w1, w2, w3, mat):\n",
    "    mat[:,:,:,:,:,:] = 0.\n",
    "    for il_1 in range(0, p1+1):\n",
    "        for jl_1 in range(0, p1+1):\n",
    "            for il_2 in range(0, p2+1):\n",
    "                for jl_2 in range(0, p2+1):\n",
    "                    for il_3 in range(0, p3+1):\n",
    "                        for jl_3 in range(0, p3+1):\n",
    "\n",
    "                            v = 0.0\n",
    "                            for g1 in range(0, k1):\n",
    "                                for g2 in range(0, k2):\n",
    "                                    for g3 in range(0, k3):\n",
    "                                        bi_0 = bs1[il_1, 0, g1] * bs2[il_2, 0, g2] * bs3[il_3, 0, g3]\n",
    "                                        bi_x = bs1[il_1, 1, g1] * bs2[il_2, 0, g2] * bs3[il_3, 0, g3]\n",
    "                                        bi_y = bs1[il_1, 0, g1] * bs2[il_2, 1, g2] * bs3[il_3, 0, g3]\n",
    "                                        bi_z = bs1[il_1, 0, g1] * bs2[il_2, 0, g2] * bs3[il_3, 1, g3]\n",
    "\n",
    "                                        bj_0 = bs1[jl_1, 0, g1] * bs2[jl_2, 0, g2] * bs3[jl_3, 0, g3]\n",
    "                                        bj_x = bs1[jl_1, 1, g1] * bs2[jl_2, 0, g2] * bs3[jl_3, 0, g3]\n",
    "                                        bj_y = bs1[jl_1, 0, g1] * bs2[jl_2, 1, g2] * bs3[jl_3, 0, g3]\n",
    "                                        bj_z = bs1[jl_1, 0, g1] * bs2[jl_2, 0, g2] * bs3[jl_3, 1, g3]\n",
    "\n",
    "                                        wvol = w1[g1] * w2[g2] * w3[g3]\n",
    "\n",
    "                                        v += (bi_x * bj_x + bi_y * bj_y + bi_z * bj_z) * wvol\n",
    "                            mat[il_1, il_2, il_3, p1 + jl_1 - il_1, p2 + jl_2 - il_2, p3 + jl_3 - il_3] = v"
   ]
  },
  {
   "cell_type": "code",
   "execution_count": 23,
   "metadata": {},
   "outputs": [
    {
     "name": "stdout",
     "output_type": "stream",
     "text": [
      "> Grid   :: [16,16,16]\n",
      "> Degree :: [3,3,3]\n"
     ]
    }
   ],
   "source": [
    "# needed imports\n",
    "from spl.core.interface import make_open_knots\n",
    "from spl.fem.splines import SplineSpace\n",
    "from spl.fem.tensor  import TensorFemSpace\n",
    "import time\n",
    "\n",
    "# ... numbers of elements and degres\n",
    "p1  = 3 ; p2  = 3 ; p3  = 3\n",
    "ne1 = 16 ; ne2 = 16 ; ne3 = 16\n",
    "# ...\n",
    "\n",
    "print('> Grid   :: [{},{},{}]'.format(ne1, ne2, ne3))\n",
    "print('> Degree :: [{},{},{}]'.format(p1, p2, p3))\n",
    "\n",
    "grid_1 = linspace(0., 1., ne1+1)\n",
    "grid_2 = linspace(0., 1., ne2+1)\n",
    "grid_3 = linspace(0., 1., ne3+1)\n",
    "\n",
    "V1 = SplineSpace(p1, grid=grid_1)\n",
    "V2 = SplineSpace(p2, grid=grid_2)\n",
    "V3 = SplineSpace(p3, grid=grid_3)\n",
    "\n",
    "V = TensorFemSpace(V1, V2, V3)"
   ]
  },
  {
   "cell_type": "code",
   "execution_count": 24,
   "metadata": {},
   "outputs": [
    {
     "name": "stdout",
     "output_type": "stream",
     "text": [
      "-- elapsed times --\n",
      "> 56.825045108795166 [pure Python v3]\n"
     ]
    }
   ],
   "source": [
    "print('-- elapsed times --')\n",
    "\n",
    "# ... pure python version 3 (kernel_3 = kernel_2)\n",
    "tb = time.time()\n",
    "assembly_v3(V, kernel_3d)\n",
    "te = time.time()\n",
    "print('> {} [pure Python v3]'.format(te-tb))\n",
    "# ..."
   ]
  },
  {
   "cell_type": "code",
   "execution_count": 25,
   "metadata": {},
   "outputs": [],
   "source": [
    "# import epyccel function\n",
    "from pyccel.epyccel import epyccel\n",
    "\n",
    "# define a header to specify the arguments types for kernel_3d\n",
    "header_3d = '#$ header procedure kernel_3d(int, int, int, int, int, int, double [:,:,:], double [:,:,:], double [:,:,:], double [:], double [:], double [:], double [:,:,:,:,:,:])'\n",
    "\n",
    "# compile the kernel\n",
    "kernel = epyccel(kernel_3d, header_3d)"
   ]
  },
  {
   "cell_type": "code",
   "execution_count": 26,
   "metadata": {},
   "outputs": [
    {
     "name": "stdout",
     "output_type": "stream",
     "text": [
      "> 0.05728721618652344 [Python-Pyccel v3]\n"
     ]
    }
   ],
   "source": [
    "# ... pyccelized version 3 (kernel_3 = kernel_2)\n",
    "tb = time.time()\n",
    "assembly_v3(V, kernel)\n",
    "te = time.time()\n",
    "print('> {} [Python-Pyccel v3]'.format(te-tb))\n",
    "# ..."
   ]
  },
  {
   "cell_type": "code",
   "execution_count": 26,
   "metadata": {},
   "outputs": [
    {
     "data": {
      "text/html": [
       "<link href='http://fonts.googleapis.com/css?family=Fenix' rel='stylesheet' type='text/css'>\n",
       "<link href='http://fonts.googleapis.com/css?family=Alegreya+Sans:100,300,400,500,700,800,900,100italic,300italic,400italic,500italic,700italic,800italic,900italic' rel='stylesheet' type='text/css'>\n",
       "<link href='http://fonts.googleapis.com/css?family=Source+Code+Pro:300,400' rel='stylesheet' type='text/css'>\n",
       "<style>\n",
       "    @font-face {\n",
       "        font-family: \"Computer Modern\";\n",
       "        src: url('http://mirrors.ctan.org/fonts/cm-unicode/fonts/otf/cmunss.otf');\n",
       "    }\n",
       "    div.cell{\n",
       "        width:600px;\n",
       "        margin-left:16% !important;\n",
       "        margin-right:auto;\n",
       "    }\n",
       "    h1 {\n",
       "        font-family: 'Alegreya Sans', sans-serif;\n",
       "    }\n",
       "    h2 {\n",
       "        font-family: 'Fenix', serif;\n",
       "    }\n",
       "    h3{\n",
       "\t\tfont-family: 'Fenix', serif;\n",
       "        margin-top:12px;\n",
       "        margin-bottom: 3px;\n",
       "       }\n",
       "\th4{\n",
       "\t\tfont-family: 'Fenix', serif;\n",
       "       }\n",
       "    h5 {\n",
       "        font-family: 'Alegreya Sans', sans-serif;\n",
       "    }\t   \n",
       "    div.text_cell_render{\n",
       "        font-family: 'Alegreya Sans',Computer Modern, \"Helvetica Neue\", Arial, Helvetica, Geneva, sans-serif;\n",
       "        line-height: 135%;\n",
       "        font-size: 120%;\n",
       "        width:600px;\n",
       "        margin-left:auto;\n",
       "        margin-right:auto;\n",
       "    }\n",
       "    .CodeMirror{\n",
       "            font-family: \"Source Code Pro\";\n",
       "\t\t\tfont-size: 90%;\n",
       "    }\n",
       "/*    .prompt{\n",
       "        display: None;\n",
       "    }*/\n",
       "    .text_cell_render h1 {\n",
       "        font-weight: 200;\n",
       "        font-size: 50pt;\n",
       "\t\tline-height: 100%;\n",
       "        color:#054BCD;\n",
       "        margin-bottom: 0.5em;\n",
       "        margin-top: 0.5em;\n",
       "        display: block;\n",
       "    }\t\n",
       "    .text_cell_render h5 {\n",
       "        font-weight: 300;\n",
       "        font-size: 16pt;\n",
       "        color: #054BCD;\n",
       "        font-style: italic;\n",
       "        margin-bottom: .5em;\n",
       "        margin-top: 0.5em;\n",
       "        display: block;\n",
       "    }\n",
       "    \n",
       "    .warning{\n",
       "        color: rgb( 240, 20, 20 )\n",
       "        }  \n",
       "</style>\n",
       "<script>\n",
       "    MathJax.Hub.Config({\n",
       "                        TeX: {\n",
       "                           extensions: [\"AMSmath.js\"]\n",
       "                           },\n",
       "                tex2jax: {\n",
       "                    inlineMath: [ ['$','$'], [\"\\\\(\",\"\\\\)\"] ],\n",
       "                    displayMath: [ ['$$','$$'], [\"\\\\[\",\"\\\\]\"] ]\n",
       "                },\n",
       "                displayAlign: 'center', // Change this to 'center' to center equations.\n",
       "                \"HTML-CSS\": {\n",
       "                    styles: {'.MathJax_Display': {\"margin\": 4}}\n",
       "                }\n",
       "        });\n",
       "</script>\n"
      ],
      "text/plain": [
       "<IPython.core.display.HTML object>"
      ]
     },
     "execution_count": 26,
     "metadata": {},
     "output_type": "execute_result"
    }
   ],
   "source": [
    "# css style\n",
    "from IPython.core.display import HTML\n",
    "def css_styling():\n",
    "    styles = open(\"../../styles/custom.css\", \"r\").read()\n",
    "    return HTML(styles)\n",
    "css_styling()"
   ]
  },
  {
   "cell_type": "code",
   "execution_count": null,
   "metadata": {},
   "outputs": [],
   "source": []
  }
 ],
 "metadata": {
  "kernelspec": {
   "display_name": "Python 3",
   "language": "python",
   "name": "python3"
  },
  "language_info": {
   "codemirror_mode": {
    "name": "ipython",
    "version": 3
   },
   "file_extension": ".py",
   "mimetype": "text/x-python",
   "name": "python",
   "nbconvert_exporter": "python",
   "pygments_lexer": "ipython3",
   "version": "3.8.5"
  }
 },
 "nbformat": 4,
 "nbformat_minor": 2
}
