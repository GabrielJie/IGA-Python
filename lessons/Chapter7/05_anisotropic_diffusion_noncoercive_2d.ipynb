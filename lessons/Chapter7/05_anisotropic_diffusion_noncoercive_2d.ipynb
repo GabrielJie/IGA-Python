{
 "cells": [
  {
   "cell_type": "markdown",
   "metadata": {},
   "source": [
    " # 5 2-D Anisotropic Diffusion, non coercive case\n",
    " \n",
    " In this tutorial, we consider the study and analysis of the eigenvalue problem associated to the following anisotropic diffusion operator\n",
    "$$\n",
    "    - \\nabla \\cdot \\mathbf{b} \\otimes \\mathbf{b} \\nabla \\phi = \\omega^2 \\phi\n",
    "$$\n",
    "where $\\mathbf{b} = (\\iota, 1)$ is the normalized vector of the magnetic field.\n",
    "\n",
    "In fact, the original problem is 3D and the iota profile is given as\n",
    "\n",
    "$$\n",
    "    \\iota(r) = 0.47262 + 0.32392 r + 0.49604 r^2 + 5.3991 . 10^{-6} r^3 - 3.165 . 10^{-5} r^4 + 4.7963 . 10^{-5} r^5 - 2.2824 . 10^{-5} r^6\n",
    "$$\n",
    "\n",
    "which is the LHD-$\\iota$-profile. "
   ]
  },
  {
   "cell_type": "markdown",
   "metadata": {},
   "source": [
    "## Constants coefficients case\n",
    "\n",
    "Now taking the given radius $r = 0.9$ we get\n",
    "\n",
    "$$\n",
    "\\mathbf{b} = (b_1,b_2)^\\top = (1.1659397624413860850012270020670, 1. )^\\top\n",
    "$$\n"
   ]
  },
  {
   "cell_type": "code",
   "execution_count": 1,
   "metadata": {},
   "outputs": [],
   "source": [
    "from numpy import linspace, meshgrid, zeros, pi\n",
    "\n",
    "import matplotlib.pyplot as plt\n",
    "%matplotlib inline\n",
    "\n",
    "from IPython.display import Math\n",
    "\n",
    "from sympy.core.containers import Tuple\n",
    "from sympy import symbols\n",
    "from sympy import Symbol\n",
    "from sympy import Lambda\n",
    "from sympy import Function\n",
    "from sympy import IndexedBase\n",
    "\n",
    "from gelato.glt import glt_symbol\n",
    "from gelato.glt import glt_lambdify\n",
    "from gelato.glt import glt_approximate_eigenvalues\n",
    "from gelato.printing.latex import glt_latex\n",
    "from gelato.calculus   import (Dot, Cross, Grad, Curl, Rot, Div, dx, dy)\n",
    "from gelato.calculus   import Constant\n",
    "from gelato.fem.assembly import assemble_matrix\n",
    "from gelato.fem.utils    import compile_kernel\n",
    "from gelato.fem.utils    import compile_symbol\n",
    "\n",
    "from spl.fem.splines import SplineSpace\n",
    "from spl.fem.tensor  import TensorSpace"
   ]
  },
  {
   "cell_type": "code",
   "execution_count": 2,
   "metadata": {},
   "outputs": [],
   "source": [
    "x,y = symbols('x y')\n",
    "\n",
    "u = Symbol('u')\n",
    "v = Symbol('v')\n",
    "\n",
    "b1 = Constant('b1')\n",
    "b2 = Constant('b2')\n",
    "b = Tuple(b1, b2)\n",
    "\n",
    "a = Lambda((x,y,v,u), Dot(b, Grad(v)) * Dot(b, Grad(u)))\n"
   ]
  },
  {
   "cell_type": "code",
   "execution_count": 3,
   "metadata": {},
   "outputs": [],
   "source": [
    "# ...  create a finite element space\n",
    "p1  = 3 ; p2  = 3\n",
    "ne1 = 16 ; ne2 = 16\n",
    "\n",
    "grid_1 = linspace(0., 1., ne1+1)\n",
    "grid_2 = linspace(0., 1., ne2+1)\n",
    "\n",
    "V1 = SplineSpace(p1, grid=grid_1)\n",
    "V2 = SplineSpace(p2, grid=grid_2)\n",
    "\n",
    "V = TensorSpace(V1, V2)\n",
    "# ..."
   ]
  },
  {
   "cell_type": "code",
   "execution_count": 4,
   "metadata": {},
   "outputs": [],
   "source": [
    "a_m = Lambda((x,y,v,u), v * u)\n",
    "kernel_m_f90 = compile_kernel('kernel_m', a_m, V,\n",
    "                            backend='fortran')"
   ]
  },
  {
   "cell_type": "code",
   "execution_count": 5,
   "metadata": {},
   "outputs": [],
   "source": [
    "Mass = assemble_matrix(V, kernel_m_f90).tocsr()"
   ]
  },
  {
   "cell_type": "code",
   "execution_count": 6,
   "metadata": {},
   "outputs": [],
   "source": [
    "symbol_m = compile_symbol('symbol_m', a_m, V,\n",
    "                          backend='fortran')"
   ]
  },
  {
   "cell_type": "code",
   "execution_count": 7,
   "metadata": {},
   "outputs": [],
   "source": [
    "d_constants = {'b2': 1.}\n",
    "d_types = {'b1': 'double'}"
   ]
  },
  {
   "cell_type": "code",
   "execution_count": 8,
   "metadata": {},
   "outputs": [],
   "source": [
    "kernel_a_f90 = compile_kernel('kernel_1', a, V,\n",
    "                            d_constants=d_constants,\n",
    "                            d_args=d_types,\n",
    "                            backend='fortran')"
   ]
  },
  {
   "cell_type": "code",
   "execution_count": 9,
   "metadata": {},
   "outputs": [],
   "source": [
    "d_args = {'b1': 1.165939762441386085001227002067}"
   ]
  },
  {
   "cell_type": "code",
   "execution_count": 10,
   "metadata": {},
   "outputs": [],
   "source": [
    "M = assemble_matrix(V, kernel_a_f90, args=d_args).tocsr()"
   ]
  },
  {
   "cell_type": "code",
   "execution_count": 11,
   "metadata": {},
   "outputs": [],
   "source": [
    "# import eigenvalue solver\n",
    "from scipy.linalg import eig, inv\n",
    "\n",
    "M = M.todense()\n",
    "Mass = Mass.todense()\n",
    "M = M * inv(Mass)\n",
    "w, v = eig(M)\n",
    "wr = w.real\n",
    "wr.sort()"
   ]
  },
  {
   "cell_type": "code",
   "execution_count": 12,
   "metadata": {},
   "outputs": [],
   "source": [
    "symbol = glt_symbol(a, space=V, evaluate=False)\n"
   ]
  },
  {
   "cell_type": "code",
   "execution_count": 13,
   "metadata": {},
   "outputs": [],
   "source": [
    "symbol_a = compile_symbol('symbol_a', a, V,\n",
    "                          d_constants=d_constants,\n",
    "                          d_args=d_types,\n",
    "                          backend='fortran')"
   ]
  },
  {
   "cell_type": "code",
   "execution_count": 14,
   "metadata": {},
   "outputs": [],
   "source": [
    "# ... example of symbol evaluation\n",
    "[n1,n2] = [W.nbasis for W in V.spaces]\n",
    "\n",
    "t1 = linspace(-pi,pi, n1)\n",
    "t2 = linspace(-pi,pi, n2)\n",
    "x1 = linspace(0.,1., n1)\n",
    "x2 = linspace(0.,1., n2)\n",
    "e_a = zeros((n1, n2), order='F')\n",
    "e_m = zeros((n1, n2), order='F')\n",
    "symbol_a(x1,x2,t1,t2, e_a, d_args['b1'])\n",
    "symbol_m(x1,x2,t1,t2, e_m)\n",
    "e = e_a/e_m\n",
    "t = e.ravel()\n",
    "t.sort()\n",
    "# ..."
   ]
  },
  {
   "cell_type": "code",
   "execution_count": 15,
   "metadata": {},
   "outputs": [
    {
     "data": {
      "image/png": "[encoded data removed]",
      "text/plain": [
       "<Figure size 432x288 with 1 Axes>"
      ]
     },
     "metadata": {},
     "output_type": "display_data"
    }
   ],
   "source": [
    "plt.plot(t, \"+b\", label=\"glt symbol\")\n",
    "plt.plot(wr, \"xr\", label=\"eigenvalues\")\n",
    "plt.legend(loc=2);"
   ]
  },
  {
   "cell_type": "code",
   "execution_count": 16,
   "metadata": {},
   "outputs": [],
   "source": [
    "# ... compute the symbol f_a / f_m\n",
    "def plot_symbol(nx, ny):\n",
    "    \n",
    "    t1 = linspace(-pi,pi, nx)\n",
    "    t2 = linspace(-pi,pi, ny)\n",
    "    x1 = linspace(0.,1., nx)\n",
    "    x2 = linspace(0.,1., ny)\n",
    "    e_a = zeros((nx, ny), order='F')\n",
    "    e_m = zeros((nx, ny), order='F')\n",
    "    symbol_a(x1,x2,t1,t2, e_a, d_args['b1'])\n",
    "    symbol_m(x1,x2,t1,t2, e_m)\n",
    "    e = e_a/e_m\n",
    "    e = e / (4 * pi**2)\n",
    "    \n",
    "    T1,T2 = meshgrid(t1,t2)\n",
    "    plt.contourf(T1, T2, e)\n",
    "    plt.axis(\"equal\")\n",
    "# ..."
   ]
  },
  {
   "cell_type": "code",
   "execution_count": 17,
   "metadata": {},
   "outputs": [
    {
     "data": {
      "image/png": "[encoded data removed]",
      "text/plain": [
       "<Figure size 432x288 with 2 Axes>"
      ]
     },
     "metadata": {},
     "output_type": "display_data"
    }
   ],
   "source": [
    "# ... plot\n",
    "plot_symbol(100, 100)\n",
    "plt.colorbar();\n",
    "# ..."
   ]
  },
  {
   "cell_type": "code",
   "execution_count": 20,
   "metadata": {},
   "outputs": [],
   "source": [
    "_b1 = d_args['b1']\n",
    "_b2 = d_constants['b2']\n",
    "\n",
    "n = range(-ne1//2, ne1//2+1) \n",
    "m = range(-ne2//2, ne2//2+1)\n",
    "n,m = meshgrid(n,m)\n",
    "n = n.transpose()\n",
    "m = m.transpose()\n",
    "f = (_b1*n + _b2*m)**2 "
   ]
  },
  {
   "cell_type": "code",
   "execution_count": 21,
   "metadata": {},
   "outputs": [
    {
     "data": {
      "image/png": "[encoded data removed]",
      "text/plain": [
       "<Figure size 432x288 with 2 Axes>"
      ]
     },
     "metadata": {},
     "output_type": "display_data"
    }
   ],
   "source": [
    "nx = ne1+1 ; ny = ne2+1\n",
    "t1 = linspace(-pi,pi, nx)\n",
    "t2 = linspace(-pi,pi, ny)\n",
    "\n",
    "x1 = linspace(0.,1., nx)\n",
    "x2 = linspace(0.,1., ny)\n",
    "e_a = zeros((nx, ny), order='F')\n",
    "e_m = zeros((nx, ny), order='F')\n",
    "symbol_a(x1,x2,t1,t2, e_a, d_args['b1'])\n",
    "symbol_m(x1,x2,t1,t2, e_m)\n",
    "e = e_a/e_m\n",
    "e = e / (4 * pi**2)\n",
    "\n",
    "plt.contourf(t1, t2, abs(e-f))\n",
    "plt.axis(\"equal\")\n",
    "plt.colorbar();"
   ]
  },
  {
   "cell_type": "code",
   "execution_count": 22,
   "metadata": {},
   "outputs": [],
   "source": [
    "def mode(i,j):\n",
    "    t1 = i * 2 * pi / ne1\n",
    "    t2 = j * 2 * pi / ne2\n",
    "\n",
    "    x = 0.5 + i * 2. / ne1\n",
    "    y = 0.5 + j * 2. / ne2\n",
    "\n",
    "    nx = 1 ; ny = 1\n",
    "    x1 = [x] ; x2 = [y]\n",
    "    t1 = [t1] ; t2 = [t2]\n",
    "    e_a = zeros((nx, ny), order='F')\n",
    "    e_m = zeros((nx, ny), order='F')\n",
    "    symbol_a(x1,x2,t1,t2, e_a, d_args['b1'])\n",
    "    symbol_m(x1,x2,t1,t2, e_m)\n",
    "    e = e_a/e_m\n",
    "    e = e / (4 * pi**2)    \n",
    "    \n",
    "    return e"
   ]
  },
  {
   "cell_type": "code",
   "execution_count": 23,
   "metadata": {},
   "outputs": [],
   "source": [
    "table = []\n",
    "for i in range(-10,10+1):\n",
    "    for j in range(-10,10+1):\n",
    "        v = mode(i,j)\n",
    "        w = (_b1*i + _b2*j)**2\n",
    "        if v < 0.2:\n",
    "            line = []\n",
    "            line.append(\"(\" + str(i) + \",\" + str(j) + \")\")\n",
    "            # approximated eigenvalue\n",
    "            line.append(str(v))\n",
    "            # exact eigenvalue\n",
    "            line.append(str(w))\n",
    "            # absolute error\n",
    "            line.append(str(abs(v-w)))\n",
    "            # relative error\n",
    "            if abs(w) > 1.e-10:\n",
    "                line.append(str(abs(v-w)/w))\n",
    "            else:\n",
    "                line.append(\"\")\n",
    "            table.append(line)"
   ]
  },
  {
   "cell_type": "code",
   "execution_count": 24,
   "metadata": {},
   "outputs": [
    {
     "name": "stdout",
     "output_type": "stream",
     "text": [
      "| mode   | approximated      |    exact | abs-err            | rel-err            |\n",
      "|:-------|:------------------|---------:|:-------------------|:-------------------|\n",
      "| (-2,2) | [[0.11026398]]    | 0.110144 | [[0.00011996]]     | [[0.00108913]]     |\n",
      "| (-1,1) | [[0.02753633]]    | 0.027536 | [[3.27085629e-07]] | [[1.18784708e-05]] |\n",
      "| (0,0)  | [[3.1052801e-14]] | 0        | [[3.1052801e-14]]  |                    |\n",
      "| (1,-1) | [[0.02753633]]    | 0.027536 | [[3.27085629e-07]] | [[1.18784708e-05]] |\n",
      "| (2,-2) | [[0.11026398]]    | 0.110144 | [[0.00011996]]     | [[0.00108913]]     |\n"
     ]
    }
   ],
   "source": [
    "from tabulate import tabulate\n",
    "\n",
    "headers = [\"mode\", \"approximated\", \"exact\", \"abs-err\", \"rel-err\"]\n",
    "print(tabulate(table, headers, tablefmt=\"pipe\"))"
   ]
  },
  {
   "cell_type": "markdown",
   "metadata": {},
   "source": [
    "## Variable coefficients case\n",
    "\n",
    "We consider the following variable coefficients case for the magnetic field\n",
    "\n",
    "$$\n",
    " \\mathbf{b}(\\theta, \\varphi) = \n",
    " \\begin{pmatrix}\n",
    " \\iota (1 + 0.1 \\sin(2 \\pi \\varphi))\n",
    " \\\\\n",
    " (1 + 0.1 \\sin(2 \\pi \\varphi))\n",
    " \\end{pmatrix}\n",
    "$$\n"
   ]
  },
  {
   "cell_type": "code",
   "execution_count": 25,
   "metadata": {},
   "outputs": [
    {
     "name": "stdout",
     "output_type": "stream",
     "text": [
      "\u001b[1mpyccel\u001b[0m: [semantic] \n",
      " |\u001b[5m\u001b[32mwarning\u001b[0m| Duplicated import  (sin)\n",
      " |\u001b[5m\u001b[32mwarning\u001b[0m| Duplicated import  (pi)\n",
      "\n",
      "\u001b[1mpyccel\u001b[0m: [codegen] \n",
      " |\u001b[5m\u001b[32mwarning\u001b[0m| Duplicated import  (sin)\n",
      " |\u001b[5m\u001b[32mwarning\u001b[0m| Duplicated import  (pi)\n",
      "\n",
      "> input     := Lambda((x, y, v, u), (b0(x, y)*dx(u) + b1(x, y)*dy(u))*(b0(x, y)*dx(v) + b1(x, y)*dy(v)))\n",
      "> weak form := (Ni_x*b0(x, y) + Ni_y*b1(x, y))*(Nj_x*b0(x, y) + Nj_y*b1(x, y))\n",
      "\u001b[1mpyccel\u001b[0m: [semantic] \n",
      " |\u001b[5m\u001b[32mwarning\u001b[0m| Duplicated import  (sin)\n",
      " |\u001b[5m\u001b[32mwarning\u001b[0m| Duplicated import  (pi)\n",
      "\n",
      "\u001b[1mpyccel\u001b[0m: [semantic] \n",
      " |\u001b[5m\u001b[32mwarning\u001b[0m| Duplicated import  (sin)\n",
      " |\u001b[5m\u001b[32mwarning\u001b[0m| Duplicated import  (pi)\n",
      "\n",
      "\u001b[1mpyccel\u001b[0m: [codegen] \n",
      " |\u001b[5m\u001b[32mwarning\u001b[0m| Duplicated import  (sin)\n",
      " |\u001b[5m\u001b[32mwarning\u001b[0m| Duplicated import  (pi)\n",
      "\n"
     ]
    }
   ],
   "source": [
    "# ... define the weak formulation\n",
    "x,y = symbols('x y')\n",
    "\n",
    "u = Symbol('u')\n",
    "v = Symbol('v')\n",
    "\n",
    "b0 = Function('b0')\n",
    "b1 = Function('b1')\n",
    "\n",
    "a = Lambda((x,y,v,u),\n",
    "           (b0(x,y)*dx(v) + b1(x,y)*dy(v)) * (b0(x,y)*dx(u) + b1(x,y)*dy(u)))\n",
    "# ...\n",
    "\n",
    "# ... user defined function\n",
    "def b0(x,y):\n",
    "    from numpy import sin\n",
    "    from scipy import pi\n",
    "\n",
    "    r = 1.1659397624413860850012270020670 * (1.0 + 0.1 * sin(2*pi*y))\n",
    "    return r\n",
    "\n",
    "def b1(x,y):\n",
    "    from numpy import sin\n",
    "    from scipy import pi\n",
    "\n",
    "    r = 1.0 * (1.0 + 0.1 * sin(2*pi*y))\n",
    "    return r\n",
    "# ...\n",
    "\n",
    "# ... create an interactive pyccel context\n",
    "from pyccel.epyccel import ContextPyccel\n",
    "\n",
    "context = ContextPyccel(name='context_2')\n",
    "context.insert_function(b0, ['double', 'double'], kind='function', results=['double'])\n",
    "context.insert_function(b1, ['double', 'double'], kind='function', results=['double'])\n",
    "\n",
    "context.compile()\n",
    "# ...\n",
    "\n",
    "# ...\n",
    "kernel_f90 = compile_kernel('kernel_2', a, V,\n",
    "                            context=context,\n",
    "                            verbose=True,\n",
    "                            backend='fortran')\n",
    "# ...\n",
    "\n",
    "# ...\n",
    "M_f90 = assemble_matrix(V, kernel_f90)\n",
    "# ...\n"
   ]
  },
  {
   "cell_type": "code",
   "execution_count": 26,
   "metadata": {},
   "outputs": [],
   "source": [
    "symbol = glt_symbol(a, space=V, evaluate=False)"
   ]
  },
  {
   "cell_type": "code",
   "execution_count": 27,
   "metadata": {},
   "outputs": [
    {
     "data": {
      "text/latex": [
       "$$- 2 \\mathfrak{a}_p(\\theta_1) \\mathfrak{a}_p(\\theta_2) \\operatorname{b_{0}}{\\left (x,y \\right )} \\operatorname{b_{1}}{\\left (x,y \\right )} + \\mathfrak{m}_p(\\theta_1) \\mathfrak{s}_p(\\theta_2) \\operatorname{b_{1}}^{2}{\\left (x,y \\right )} + \\mathfrak{m}_p(\\theta_2) \\mathfrak{s}_p(\\theta_1) \\operatorname{b_{0}}^{2}{\\left (x,y \\right )}$$"
      ],
      "text/plain": [
       "<IPython.core.display.Math object>"
      ]
     },
     "execution_count": 27,
     "metadata": {},
     "output_type": "execute_result"
    }
   ],
   "source": [
    "Math(glt_latex(symbol))"
   ]
  },
  {
   "cell_type": "code",
   "execution_count": 30,
   "metadata": {},
   "outputs": [
    {
     "name": "stdout",
     "output_type": "stream",
     "text": [
      "\u001b[1mpyccel\u001b[0m: [semantic] \n",
      " |\u001b[5m\u001b[32mwarning\u001b[0m| Duplicated import  (sin)\n",
      " |\u001b[5m\u001b[32mwarning\u001b[0m| Duplicated import  (pi)\n",
      "\n",
      "\u001b[1mpyccel\u001b[0m: [semantic] \n",
      " |\u001b[5m\u001b[32mwarning\u001b[0m| Duplicated import  (sin)\n",
      " |\u001b[5m\u001b[32mwarning\u001b[0m| Duplicated import  (pi)\n",
      "\n",
      "\u001b[1mpyccel\u001b[0m: [codegen] \n",
      " |\u001b[5m\u001b[32mwarning\u001b[0m| Duplicated import  (sin)\n",
      " |\u001b[5m\u001b[32mwarning\u001b[0m| Duplicated import  (pi)\n",
      "\n"
     ]
    }
   ],
   "source": [
    "symbol_a2 = compile_symbol('symbol_a2', a, V,\n",
    "                            context=context,\n",
    "                            backend='fortran')"
   ]
  },
  {
   "cell_type": "code",
   "execution_count": 32,
   "metadata": {},
   "outputs": [
    {
     "data": {
      "image/png": "[encoded data removed]",
      "text/plain": [
       "<Figure size 432x288 with 2 Axes>"
      ]
     },
     "metadata": {},
     "output_type": "display_data"
    }
   ],
   "source": [
    "nx = 100 ; ny = 100\n",
    "t1 = linspace(-pi,pi, nx)\n",
    "t2 = linspace(-pi,pi, ny)\n",
    "\n",
    "x1 = linspace(0.,1., nx)\n",
    "x2 = linspace(0.,1., ny)\n",
    "e_a = zeros((nx, ny), order='F')\n",
    "e_m = zeros((nx, ny), order='F')\n",
    "symbol_a2(x1,x2,t1,t2, e_a)\n",
    "symbol_m(x1,x2,t1,t2, e_m)\n",
    "e = e_a/e_m\n",
    "e = e / (4 * pi**2)\n",
    "\n",
    "T1,T2 = meshgrid(t1,t2)\n",
    "plt.contourf(T1, T2, e)\n",
    "plt.axis(\"equal\")\n",
    "plt.colorbar();"
   ]
  },
  {
   "cell_type": "code",
   "execution_count": 1,
   "metadata": {},
   "outputs": [
    {
     "data": {
      "text/html": [
       "<link href='http://fonts.googleapis.com/css?family=Fenix' rel='stylesheet' type='text/css'>\n",
       "<link href='http://fonts.googleapis.com/css?family=Alegreya+Sans:100,300,400,500,700,800,900,100italic,300italic,400italic,500italic,700italic,800italic,900italic' rel='stylesheet' type='text/css'>\n",
       "<link href='http://fonts.googleapis.com/css?family=Source+Code+Pro:300,400' rel='stylesheet' type='text/css'>\n",
       "<style>\n",
       "    @font-face {\n",
       "        font-family: \"Computer Modern\";\n",
       "        src: url('http://mirrors.ctan.org/fonts/cm-unicode/fonts/otf/cmunss.otf');\n",
       "    }\n",
       "    div.cell{\n",
       "        width:600px;\n",
       "        margin-left:16% !important;\n",
       "        margin-right:auto;\n",
       "    }\n",
       "    h1 {\n",
       "        font-family: 'Alegreya Sans', sans-serif;\n",
       "    }\n",
       "    h2 {\n",
       "        font-family: 'Fenix', serif;\n",
       "    }\n",
       "    h3{\n",
       "\t\tfont-family: 'Fenix', serif;\n",
       "        margin-top:12px;\n",
       "        margin-bottom: 3px;\n",
       "       }\n",
       "\th4{\n",
       "\t\tfont-family: 'Fenix', serif;\n",
       "       }\n",
       "    h5 {\n",
       "        font-family: 'Alegreya Sans', sans-serif;\n",
       "    }\t   \n",
       "    div.text_cell_render{\n",
       "        font-family: 'Alegreya Sans',Computer Modern, \"Helvetica Neue\", Arial, Helvetica, Geneva, sans-serif;\n",
       "        line-height: 135%;\n",
       "        font-size: 120%;\n",
       "        width:600px;\n",
       "        margin-left:auto;\n",
       "        margin-right:auto;\n",
       "    }\n",
       "    .CodeMirror{\n",
       "            font-family: \"Source Code Pro\";\n",
       "\t\t\tfont-size: 90%;\n",
       "    }\n",
       "/*    .prompt{\n",
       "        display: None;\n",
       "    }*/\n",
       "    .text_cell_render h1 {\n",
       "        font-weight: 200;\n",
       "        font-size: 50pt;\n",
       "\t\tline-height: 100%;\n",
       "        color:#054BCD;\n",
       "        margin-bottom: 0.5em;\n",
       "        margin-top: 0.5em;\n",
       "        display: block;\n",
       "    }\t\n",
       "    .text_cell_render h5 {\n",
       "        font-weight: 300;\n",
       "        font-size: 16pt;\n",
       "        color: #054BCD;\n",
       "        font-style: italic;\n",
       "        margin-bottom: .5em;\n",
       "        margin-top: 0.5em;\n",
       "        display: block;\n",
       "    }\n",
       "    \n",
       "    .warning{\n",
       "        color: rgb( 240, 20, 20 )\n",
       "        }  \n",
       "</style>\n",
       "<script>\n",
       "    MathJax.Hub.Config({\n",
       "                        TeX: {\n",
       "                           extensions: [\"AMSmath.js\"]\n",
       "                           },\n",
       "                tex2jax: {\n",
       "                    inlineMath: [ ['$','$'], [\"\\\\(\",\"\\\\)\"] ],\n",
       "                    displayMath: [ ['$$','$$'], [\"\\\\[\",\"\\\\]\"] ]\n",
       "                },\n",
       "                displayAlign: 'center', // Change this to 'center' to center equations.\n",
       "                \"HTML-CSS\": {\n",
       "                    styles: {'.MathJax_Display': {\"margin\": 4}}\n",
       "                }\n",
       "        });\n",
       "</script>\n"
      ],
      "text/plain": [
       "<IPython.core.display.HTML object>"
      ]
     },
     "execution_count": 1,
     "metadata": {},
     "output_type": "execute_result"
    }
   ],
   "source": [
    "from IPython.core.display import HTML\n",
    "def css_styling():\n",
    "    styles = open(\"../../styles/custom.css\", \"r\").read()\n",
    "    return HTML(styles)\n",
    "css_styling()"
   ]
  },
  {
   "cell_type": "code",
   "execution_count": null,
   "metadata": {},
   "outputs": [],
   "source": []
  }
 ],
 "metadata": {
  "kernelspec": {
   "display_name": "Python 3",
   "language": "python",
   "name": "python3"
  },
  "language_info": {
   "codemirror_mode": {
    "name": "ipython",
    "version": 3
   },
   "file_extension": ".py",
   "mimetype": "text/x-python",
   "name": "python",
   "nbconvert_exporter": "python",
   "pygments_lexer": "ipython3",
   "version": "3.5.2"
  }
 },
 "nbformat": 4,
 "nbformat_minor": 2
}
