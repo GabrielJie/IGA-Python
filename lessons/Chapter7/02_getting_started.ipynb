{
 "cells": [
  {
   "cell_type": "markdown",
   "metadata": {},
   "source": [
    "# 2. Getting started\n",
    "\n",
    "## Introducing the GeLaTo library\n",
    "\n",
    "From now on, we shall use the Python library [spl](https://github.com/pyccel/spl). \n",
    "\n",
    "Let us consider the following weak formulation\n",
    "\n",
    "$$\\int_{\\Omega} N_i N_j + \\nabla N_i \\cdot \\nabla N_j ~d\\Omega$$\n",
    "\n",
    "In the case where $\\Omega$ is the unit cube, we should expect the GLT symbol\n",
    "\n",
    "$$\n",
    "\\mathfrak{m}_p(\\theta_1) \\mathfrak{m}_p(\\theta_2) \\mathfrak{m}_p(\\theta_3) + \\mathfrak{m}_p(\\theta_1) \\mathfrak{m}_p(\\theta_2) \\mathfrak{s}_p(\\theta_3) + \\mathfrak{m}_p(\\theta_1) \\mathfrak{s}_p(\\theta_2) \\mathfrak{m}_p(\\theta_3) + \\mathfrak{s}_p(\\theta_1) \\mathfrak{m}_p(\\theta_2) \\mathfrak{m}_p(\\theta_3)\n",
    "$$"
   ]
  },
  {
   "cell_type": "code",
   "execution_count": 2,
   "metadata": {},
   "outputs": [],
   "source": [
    "# ... some imports\n",
    "from numpy import linspace, zeros, pi\n",
    "\n",
    "from sympy.core.containers import Tuple\n",
    "from sympy import symbols\n",
    "from sympy import Symbol\n",
    "from sympy import Lambda\n",
    "from sympy import IndexedBase\n",
    "\n",
    "from gelato.glt import glt_symbol\n",
    "from gelato.calculus   import (Dot, Cross, Grad, Curl, Rot, Div)\n",
    "from gelato.fem.utils    import compile_symbol\n",
    "\n",
    "from spl.fem.splines import SplineSpace\n",
    "from spl.fem.tensor  import TensorSpace"
   ]
  },
  {
   "cell_type": "markdown",
   "metadata": {},
   "source": [
    "We define our weak formulation using"
   ]
  },
  {
   "cell_type": "code",
   "execution_count": 3,
   "metadata": {},
   "outputs": [],
   "source": [
    "x,y,z = symbols('x y z')\n",
    "\n",
    "u = Symbol('u')\n",
    "v = Symbol('v')\n",
    "\n",
    "a = Lambda((x,y,z,v,u), Dot(Grad(u), Grad(v)))"
   ]
  },
  {
   "cell_type": "markdown",
   "metadata": {},
   "source": [
    "The GLT symbol can then be computed by giving a discretization"
   ]
  },
  {
   "cell_type": "code",
   "execution_count": 4,
   "metadata": {},
   "outputs": [],
   "source": [
    "\n",
    "# ...  create a finite element space\n",
    "p1  = 3 ; p2  = 3 ; p3  = 3\n",
    "ne1 = 16 ; ne2 = 16 ; ne3 = 16\n",
    "\n",
    "grid_1 = linspace(0., 1., ne1+1)\n",
    "grid_2 = linspace(0., 1., ne2+1)\n",
    "grid_3 = linspace(0., 1., ne3+1)\n",
    "\n",
    "V1 = SplineSpace(p1, grid=grid_1)\n",
    "V2 = SplineSpace(p2, grid=grid_2)\n",
    "V3 = SplineSpace(p3, grid=grid_3)\n",
    "\n",
    "V = TensorSpace(V1, V2, V3)\n",
    "# ...\n",
    "\n",
    "# ... create a glt symbol from a string without evaluation\n",
    "symbol = glt_symbol(a, space=V)\n",
    "# ..."
   ]
  },
  {
   "cell_type": "markdown",
   "metadata": {},
   "source": [
    "We get a *sympy* expression, that we can manipulate like any other *sympy*\n",
    "expression. Let's print it"
   ]
  },
  {
   "cell_type": "code",
   "execution_count": 5,
   "metadata": {},
   "outputs": [
    {
     "name": "stdout",
     "output_type": "stream",
     "text": [
      "m1*m2*s3 + m1*m3*s2 + m2*m3*s1\n"
     ]
    }
   ],
   "source": [
    "print (symbol)"
   ]
  },
  {
   "cell_type": "markdown",
   "metadata": {},
   "source": [
    "Good, but that's not readable for a human. You can now convert this expression to latex using"
   ]
  },
  {
   "cell_type": "code",
   "execution_count": 6,
   "metadata": {},
   "outputs": [
    {
     "data": {
      "text/latex": [
       "$$m_{1} m_{2} s_{3} + m_{1} m_{3} s_{2} + m_{2} m_{3} s_{1}$$"
      ],
      "text/plain": [
       "<IPython.core.display.Math object>"
      ]
     },
     "execution_count": 6,
     "metadata": {},
     "output_type": "execute_result"
    }
   ],
   "source": [
    "from IPython.display import Math\n",
    "from sympy import latex\n",
    "\n",
    "Math(latex(symbol))"
   ]
  },
  {
   "cell_type": "markdown",
   "metadata": {},
   "source": [
    "For pretty printing, you may use the **glt_latex** function"
   ]
  },
  {
   "cell_type": "code",
   "execution_count": 7,
   "metadata": {},
   "outputs": [
    {
     "data": {
      "text/latex": [
       "$$\\mathfrak{m}_p(\\theta_1) \\mathfrak{m}_p(\\theta_2) \\mathfrak{s}_p(\\theta_3) + \\mathfrak{m}_p(\\theta_1) \\mathfrak{m}_p(\\theta_3) \\mathfrak{s}_p(\\theta_2) + \\mathfrak{m}_p(\\theta_2) \\mathfrak{m}_p(\\theta_3) \\mathfrak{s}_p(\\theta_1)$$"
      ],
      "text/plain": [
       "<IPython.core.display.Math object>"
      ]
     },
     "execution_count": 7,
     "metadata": {},
     "output_type": "execute_result"
    }
   ],
   "source": [
    "from gelato.printing.latex import glt_latex\n",
    "\n",
    "Math(glt_latex(symbol))"
   ]
  },
  {
   "cell_type": "markdown",
   "metadata": {},
   "source": [
    "Let's now **evaluate** our symbol (in the symbolic sens) in order to do some diagnostics"
   ]
  },
  {
   "cell_type": "code",
   "execution_count": 8,
   "metadata": {},
   "outputs": [],
   "source": [
    "symbol = glt_symbol(a, space=V, evaluate=True)"
   ]
  },
  {
   "cell_type": "code",
   "execution_count": 9,
   "metadata": {},
   "outputs": [
    {
     "data": {
      "text/latex": [
       "$$\\left(- 4 \\cos{\\left (\\theta_1 \\right )} - \\frac{32}{5} \\cos{\\left (2 \\theta_1 \\right )} - \\frac{4}{15} \\cos{\\left (3 \\theta_1 \\right )} + \\frac{32}{3}\\right) \\left(\\frac{397}{13440} \\cos{\\left (\\theta_2 \\right )} + \\frac{1}{336} \\cos{\\left (2 \\theta_2 \\right )} + \\frac{1}{40320} \\cos{\\left (3 \\theta_2 \\right )} + \\frac{2396825387}{79999999672}\\right) \\left(\\frac{397}{13440} \\cos{\\left (\\theta_3 \\right )} + \\frac{1}{336} \\cos{\\left (2 \\theta_3 \\right )} + \\frac{1}{40320} \\cos{\\left (3 \\theta_3 \\right )} + \\frac{2396825387}{79999999672}\\right) + \\left(\\frac{397}{13440} \\cos{\\left (\\theta_1 \\right )} + \\frac{1}{336} \\cos{\\left (2 \\theta_1 \\right )} + \\frac{1}{40320} \\cos{\\left (3 \\theta_1 \\right )} + \\frac{2396825387}{79999999672}\\right) \\left(- 4 \\cos{\\left (\\theta_2 \\right )} - \\frac{32}{5} \\cos{\\left (2 \\theta_2 \\right )} - \\frac{4}{15} \\cos{\\left (3 \\theta_2 \\right )} + \\frac{32}{3}\\right) \\left(\\frac{397}{13440} \\cos{\\left (\\theta_3 \\right )} + \\frac{1}{336} \\cos{\\left (2 \\theta_3 \\right )} + \\frac{1}{40320} \\cos{\\left (3 \\theta_3 \\right )} + \\frac{2396825387}{79999999672}\\right) + \\left(\\frac{397}{13440} \\cos{\\left (\\theta_1 \\right )} + \\frac{1}{336} \\cos{\\left (2 \\theta_1 \\right )} + \\frac{1}{40320} \\cos{\\left (3 \\theta_1 \\right )} + \\frac{2396825387}{79999999672}\\right) \\left(\\frac{397}{13440} \\cos{\\left (\\theta_2 \\right )} + \\frac{1}{336} \\cos{\\left (2 \\theta_2 \\right )} + \\frac{1}{40320} \\cos{\\left (3 \\theta_2 \\right )} + \\frac{2396825387}{79999999672}\\right) \\left(- 4 \\cos{\\left (\\theta_3 \\right )} - \\frac{32}{5} \\cos{\\left (2 \\theta_3 \\right )} - \\frac{4}{15} \\cos{\\left (3 \\theta_3 \\right )} + \\frac{32}{3}\\right)$$"
      ],
      "text/plain": [
       "<IPython.core.display.Math object>"
      ]
     },
     "execution_count": 9,
     "metadata": {},
     "output_type": "execute_result"
    }
   ],
   "source": [
    "Math(glt_latex(symbol.expr))"
   ]
  },
  {
   "cell_type": "markdown",
   "metadata": {},
   "source": [
    "We recall that the eigenvalues of the matrix associated to our weak formulation can be *approximated* by a *uniform sampling* of the symbol"
   ]
  },
  {
   "cell_type": "code",
   "execution_count": 10,
   "metadata": {},
   "outputs": [],
   "source": [
    "# ... make the symbol a callable function, that can be evaluated numericaly\n",
    "symbol_f90 = compile_symbol('symbol_3d', a, V, backend='fortran')\n",
    "# ..."
   ]
  },
  {
   "cell_type": "code",
   "execution_count": 11,
   "metadata": {},
   "outputs": [],
   "source": [
    "# ... example of symbol evaluation\n",
    "t1 = linspace(-pi,pi, ne1+1)\n",
    "t2 = linspace(-pi,pi, ne2+1)\n",
    "t3 = linspace(-pi,pi, ne3+1)\n",
    "x1 = linspace(0.,1., ne1+1)\n",
    "x2 = linspace(0.,1., ne2+1)\n",
    "x3 = linspace(0.,1., ne3+1)\n",
    "eig = zeros((ne1+1, ne2+1, ne3+1), order='F')\n",
    "symbol_f90(x1,x2,x3,t1,t2,t3, eig)\n",
    "# ..."
   ]
  },
  {
   "cell_type": "code",
   "execution_count": 12,
   "metadata": {},
   "outputs": [],
   "source": [
    "%matplotlib inline\n",
    "import matplotlib.pyplot as plt"
   ]
  },
  {
   "cell_type": "code",
   "execution_count": 13,
   "metadata": {},
   "outputs": [
    {
     "data": {
      "image/png": "[encoded data removed]",
      "text/plain": [
       "<Figure size 432x288 with 1 Axes>"
      ]
     },
     "metadata": {},
     "output_type": "display_data"
    }
   ],
   "source": [
    "t = eig.ravel()\n",
    "t.sort()\n",
    "plt.plot(t, \"+b\", label=\"glt symbol\")\n",
    "plt.legend(loc=2);"
   ]
  },
  {
   "cell_type": "markdown",
   "metadata": {},
   "source": [
    "## Using SPL and GeLaTo\n",
    "\n",
    "In this section, we show how to use both [GeLaTo](https://github.com/pyccel/GeLaTo) and [spl](https://github.com/pyccel/spl) in order to assemble a weak-formulation and study its spectral properties.\n",
    "\n",
    "We start by the Laplace operator in **1D**. As in the previous section, we define its weak formulation using the **lambda** expression"
   ]
  },
  {
   "cell_type": "code",
   "execution_count": 14,
   "metadata": {},
   "outputs": [],
   "source": [
    "# ... define the weak formulation\n",
    "x = Symbol('x')\n",
    "\n",
    "u = Symbol('u')\n",
    "v = Symbol('v')\n",
    "\n",
    "expr = Lambda((x,v,u), Dot(Grad(u), Grad(v)) + u*v)\n",
    "# ..."
   ]
  },
  {
   "cell_type": "code",
   "execution_count": 15,
   "metadata": {},
   "outputs": [],
   "source": [
    "# needed imports\n",
    "from numpy import linspace\n",
    "from spl.fem.splines import SplineSpace\n",
    "from gelato.fem.assembly import assemble_matrix\n",
    "from gelato.fem.utils    import compile_kernel"
   ]
  },
  {
   "cell_type": "code",
   "execution_count": 16,
   "metadata": {},
   "outputs": [],
   "source": [
    "# ...  create a finite element space\n",
    "p  = 3\n",
    "ne = 64\n",
    "\n",
    "grid = linspace(0., 1., ne+1)\n",
    "\n",
    "V = SplineSpace(p, grid=grid)\n",
    "# ..."
   ]
  },
  {
   "cell_type": "markdown",
   "metadata": {},
   "source": [
    "*GeLaTo* has a nice function **compile_kernel**, that constructs the FEM assembly kernel, given a weak formulation. You can call it this way:"
   ]
  },
  {
   "cell_type": "code",
   "execution_count": 17,
   "metadata": {},
   "outputs": [],
   "source": [
    "kernel_py = compile_kernel('kernel_1', a, V)"
   ]
  },
  {
   "cell_type": "markdown",
   "metadata": {},
   "source": [
    "You can now assemble the corresponding matrix, using:"
   ]
  },
  {
   "cell_type": "code",
   "execution_count": 18,
   "metadata": {},
   "outputs": [],
   "source": [
    "M_py  = assemble_matrix(V, kernel_py).tocsr()"
   ]
  },
  {
   "cell_type": "markdown",
   "metadata": {},
   "source": [
    "The **compile_kernel** function has a **backend** argument which is used to decide the target language (*Python/Fortran*) for the kernel. The available choices are *'python'* or *'fortran'*. For *Fortran*, you can call it this way:"
   ]
  },
  {
   "cell_type": "code",
   "execution_count": 19,
   "metadata": {},
   "outputs": [],
   "source": [
    "kernel_f90 = compile_kernel('kernel_1', a, V, backend='fortran')\n",
    "M_f90 = assemble_matrix(V, kernel_f90).tocsr()"
   ]
  },
  {
   "cell_type": "markdown",
   "metadata": {},
   "source": [
    "Now, we convert the sparse matrix to a dense one, in order to use lapack eigenvalue solver."
   ]
  },
  {
   "cell_type": "code",
   "execution_count": 20,
   "metadata": {},
   "outputs": [],
   "source": [
    "M = M_f90.todense()"
   ]
  },
  {
   "cell_type": "code",
   "execution_count": 21,
   "metadata": {},
   "outputs": [],
   "source": [
    "# import eigenvalue solver\n",
    "from scipy.linalg import eig\n",
    "\n",
    "w, v = eig(M)\n",
    "wr = w.real\n",
    "wr.sort()"
   ]
  },
  {
   "cell_type": "code",
   "execution_count": 22,
   "metadata": {},
   "outputs": [],
   "source": [
    "# compile the glt symbol to get a callable function that can be evaluated\n",
    "symbol_f90 = compile_symbol('symbol_1d', a, V, backend='fortran')"
   ]
  },
  {
   "cell_type": "code",
   "execution_count": 23,
   "metadata": {},
   "outputs": [],
   "source": [
    "# example of symbol evaluation\n",
    "t1 = linspace(-pi,pi, ne+1)\n",
    "x1 = linspace(0.,1., ne+1)\n",
    "e = zeros(ne+1)\n",
    "symbol_f90(x1, t1, e)\n",
    "e.sort()"
   ]
  },
  {
   "cell_type": "code",
   "execution_count": 24,
   "metadata": {},
   "outputs": [
    {
     "data": {
      "image/png": "[encoded data removed]",
      "text/plain": [
       "<Figure size 432x288 with 1 Axes>"
      ]
     },
     "metadata": {},
     "output_type": "display_data"
    }
   ],
   "source": [
    "plt.plot(e, \"+b\", label=\"glt symbol\")\n",
    "plt.plot(wr, \"xr\", label=\"eigenvalues\")\n",
    "plt.legend(loc=2);"
   ]
  },
  {
   "cell_type": "code",
   "execution_count": null,
   "metadata": {},
   "outputs": [],
   "source": []
  },
  {
   "cell_type": "code",
   "execution_count": 1,
   "metadata": {},
   "outputs": [
    {
     "data": {
      "text/html": [
       "<link href='http://fonts.googleapis.com/css?family=Fenix' rel='stylesheet' type='text/css'>\n",
       "<link href='http://fonts.googleapis.com/css?family=Alegreya+Sans:100,300,400,500,700,800,900,100italic,300italic,400italic,500italic,700italic,800italic,900italic' rel='stylesheet' type='text/css'>\n",
       "<link href='http://fonts.googleapis.com/css?family=Source+Code+Pro:300,400' rel='stylesheet' type='text/css'>\n",
       "<style>\n",
       "    @font-face {\n",
       "        font-family: \"Computer Modern\";\n",
       "        src: url('http://mirrors.ctan.org/fonts/cm-unicode/fonts/otf/cmunss.otf');\n",
       "    }\n",
       "    div.cell{\n",
       "        width:600px;\n",
       "        margin-left:16% !important;\n",
       "        margin-right:auto;\n",
       "    }\n",
       "    h1 {\n",
       "        font-family: 'Alegreya Sans', sans-serif;\n",
       "    }\n",
       "    h2 {\n",
       "        font-family: 'Fenix', serif;\n",
       "    }\n",
       "    h3{\n",
       "\t\tfont-family: 'Fenix', serif;\n",
       "        margin-top:12px;\n",
       "        margin-bottom: 3px;\n",
       "       }\n",
       "\th4{\n",
       "\t\tfont-family: 'Fenix', serif;\n",
       "       }\n",
       "    h5 {\n",
       "        font-family: 'Alegreya Sans', sans-serif;\n",
       "    }\t   \n",
       "    div.text_cell_render{\n",
       "        font-family: 'Alegreya Sans',Computer Modern, \"Helvetica Neue\", Arial, Helvetica, Geneva, sans-serif;\n",
       "        line-height: 135%;\n",
       "        font-size: 120%;\n",
       "        width:600px;\n",
       "        margin-left:auto;\n",
       "        margin-right:auto;\n",
       "    }\n",
       "    .CodeMirror{\n",
       "            font-family: \"Source Code Pro\";\n",
       "\t\t\tfont-size: 90%;\n",
       "    }\n",
       "/*    .prompt{\n",
       "        display: None;\n",
       "    }*/\n",
       "    .text_cell_render h1 {\n",
       "        font-weight: 200;\n",
       "        font-size: 50pt;\n",
       "\t\tline-height: 100%;\n",
       "        color:#054BCD;\n",
       "        margin-bottom: 0.5em;\n",
       "        margin-top: 0.5em;\n",
       "        display: block;\n",
       "    }\t\n",
       "    .text_cell_render h5 {\n",
       "        font-weight: 300;\n",
       "        font-size: 16pt;\n",
       "        color: #054BCD;\n",
       "        font-style: italic;\n",
       "        margin-bottom: .5em;\n",
       "        margin-top: 0.5em;\n",
       "        display: block;\n",
       "    }\n",
       "    \n",
       "    .warning{\n",
       "        color: rgb( 240, 20, 20 )\n",
       "        }  \n",
       "</style>\n",
       "<script>\n",
       "    MathJax.Hub.Config({\n",
       "                        TeX: {\n",
       "                           extensions: [\"AMSmath.js\"]\n",
       "                           },\n",
       "                tex2jax: {\n",
       "                    inlineMath: [ ['$','$'], [\"\\\\(\",\"\\\\)\"] ],\n",
       "                    displayMath: [ ['$$','$$'], [\"\\\\[\",\"\\\\]\"] ]\n",
       "                },\n",
       "                displayAlign: 'center', // Change this to 'center' to center equations.\n",
       "                \"HTML-CSS\": {\n",
       "                    styles: {'.MathJax_Display': {\"margin\": 4}}\n",
       "                }\n",
       "        });\n",
       "</script>\n"
      ],
      "text/plain": [
       "<IPython.core.display.HTML object>"
      ]
     },
     "execution_count": 1,
     "metadata": {},
     "output_type": "execute_result"
    }
   ],
   "source": [
    "from IPython.core.display import HTML\n",
    "def css_styling():\n",
    "    styles = open(\"../../styles/custom.css\", \"r\").read()\n",
    "    return HTML(styles)\n",
    "css_styling()"
   ]
  }
 ],
 "metadata": {
  "kernelspec": {
   "display_name": "Python 3",
   "language": "python",
   "name": "python3"
  },
  "language_info": {
   "codemirror_mode": {
    "name": "ipython",
    "version": 3
   },
   "file_extension": ".py",
   "mimetype": "text/x-python",
   "name": "python",
   "nbconvert_exporter": "python",
   "pygments_lexer": "ipython3",
   "version": "3.5.2"
  }
 },
 "nbformat": 4,
 "nbformat_minor": 2
}
