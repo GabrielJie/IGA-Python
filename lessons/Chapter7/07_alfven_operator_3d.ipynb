{
 "cells": [
  {
   "cell_type": "markdown",
   "metadata": {},
   "source": [
    "# 7. Alfven operator"
   ]
  },
  {
   "cell_type": "code",
   "execution_count": 1,
   "metadata": {},
   "outputs": [],
   "source": [
    "from numpy import linspace, meshgrid, pi, zeros, asarray\n",
    "from scipy.linalg import eig\n",
    "\n",
    "import matplotlib.pyplot as plt\n",
    "%matplotlib inline\n",
    "\n",
    "from IPython.display import Math\n",
    "\n",
    "from sympy.core.containers import Tuple\n",
    "from sympy import symbols\n",
    "from sympy import Symbol\n",
    "from sympy import Lambda\n",
    "from sympy import IndexedBase\n",
    "\n",
    "from gelato.glt import glt_symbol\n",
    "from gelato.glt import glt_lambdify\n",
    "from gelato.glt import glt_approximate_eigenvalues\n",
    "from gelato.printing.latex import glt_latex\n",
    "from gelato.calculus   import (Dot, Cross, Grad, Curl, Rot, Div)\n",
    "from gelato.calculus   import Constant\n",
    "from gelato.fem.assembly import assemble_matrix\n",
    "from gelato.fem.utils    import compile_kernel\n",
    "from gelato.fem.utils    import compile_symbol\n",
    "\n",
    "from spl.fem.splines import SplineSpace\n",
    "from spl.fem.tensor  import TensorFemSpace\n",
    "from spl.fem.vector  import VectorFemSpace"
   ]
  },
  {
   "cell_type": "code",
   "execution_count": 2,
   "metadata": {},
   "outputs": [],
   "source": [
    "x,y,z = symbols('x y z')\n",
    "\n",
    "u = IndexedBase('u')\n",
    "v = IndexedBase('v')\n",
    "\n",
    "bx = Constant('bx')\n",
    "by = Constant('by')\n",
    "bz = Constant('bz')\n",
    "b = Tuple(bx, by, bz)\n",
    "\n",
    "c0,c1,c2 = symbols('c0 c1 c2')\n",
    "\n",
    "a = Lambda((x,y,z,v,u), (  c0 * Dot(u, v)\n",
    "                         + c1 * Div(u) * Div(v)\n",
    "                         + c2 * Dot(Curl(Cross(b,u)), Curl(Cross(b,v)))))\n"
   ]
  },
  {
   "cell_type": "code",
   "execution_count": 4,
   "metadata": {},
   "outputs": [],
   "source": [
    "# ...  create a finite element space\n",
    "p1  = 2 ; p2  = 2 ; p3  = 2\n",
    "ne1 = 8 ; ne2 = 8 ; ne3 = 8\n",
    "\n",
    "grid_1 = linspace(0., 1., ne1+1)\n",
    "grid_2 = linspace(0., 1., ne2+1)\n",
    "grid_3 = linspace(0., 1., ne3+1)\n",
    "\n",
    "V1 = SplineSpace(p1, grid=grid_1)\n",
    "V2 = SplineSpace(p2, grid=grid_2)\n",
    "V3 = SplineSpace(p3, grid=grid_3)\n",
    "\n",
    "W = TensorFemSpace(V1, V2, V3)\n",
    "# ...\n",
    "\n",
    "V = VectorFemSpace(W, W, W)"
   ]
  },
  {
   "cell_type": "code",
   "execution_count": 5,
   "metadata": {},
   "outputs": [
    {
     "data": {
      "text/latex": [
       "$$\\left[\\begin{matrix}by^{2} c_{2} m_{1} m_{3} s_{2} + by^{2} c_{2} m_{2} m_{3} s_{1} - 2 by bz a_{2} a_{3} c_{2} m_{1} + bz^{2} c_{2} m_{1} m_{2} s_{3} + bz^{2} c_{2} m_{2} m_{3} s_{1} + c_{0} m_{1} m_{2} m_{3} + c_{1} m_{2} m_{3} s_{1} & - bx by c_{2} m_{1} m_{3} s_{2} - bx by c_{2} m_{2} m_{3} s_{1} + bx bz a_{2} a_{3} c_{2} m_{1} + by bz a_{1} a_{3} c_{2} m_{2} - bz^{2} a_{1} a_{2} c_{2} m_{3} - a_{1} a_{2} c_{1} m_{3} & bx by a_{2} a_{3} c_{2} m_{1} - bx bz c_{2} m_{1} m_{2} s_{3} - bx bz c_{2} m_{2} m_{3} s_{1} - by^{2} a_{1} a_{3} c_{2} m_{2} + by bz a_{1} a_{2} c_{2} m_{3} - a_{1} a_{3} c_{1} m_{2}\\\\- bx by c_{2} m_{1} m_{3} s_{2} - bx by c_{2} m_{2} m_{3} s_{1} + bx bz a_{2} a_{3} c_{2} m_{1} + by bz a_{1} a_{3} c_{2} m_{2} - bz^{2} a_{1} a_{2} c_{2} m_{3} - a_{1} a_{2} c_{1} m_{3} & bx^{2} c_{2} m_{1} m_{3} s_{2} + bx^{2} c_{2} m_{2} m_{3} s_{1} - 2 bx bz a_{1} a_{3} c_{2} m_{2} + bz^{2} c_{2} m_{1} m_{2} s_{3} + bz^{2} c_{2} m_{1} m_{3} s_{2} + c_{0} m_{1} m_{2} m_{3} + c_{1} m_{1} m_{3} s_{2} & - bx^{2} a_{2} a_{3} c_{2} m_{1} + bx by a_{1} a_{3} c_{2} m_{2} + bx bz a_{1} a_{2} c_{2} m_{3} - by bz c_{2} m_{1} m_{2} s_{3} - by bz c_{2} m_{1} m_{3} s_{2} - a_{2} a_{3} c_{1} m_{1}\\\\bx by a_{2} a_{3} c_{2} m_{1} - bx bz c_{2} m_{1} m_{2} s_{3} - bx bz c_{2} m_{2} m_{3} s_{1} - by^{2} a_{1} a_{3} c_{2} m_{2} + by bz a_{1} a_{2} c_{2} m_{3} - a_{1} a_{3} c_{1} m_{2} & - bx^{2} a_{2} a_{3} c_{2} m_{1} + bx by a_{1} a_{3} c_{2} m_{2} + bx bz a_{1} a_{2} c_{2} m_{3} - by bz c_{2} m_{1} m_{2} s_{3} - by bz c_{2} m_{1} m_{3} s_{2} - a_{2} a_{3} c_{1} m_{1} & bx^{2} c_{2} m_{1} m_{2} s_{3} + bx^{2} c_{2} m_{2} m_{3} s_{1} - 2 bx by a_{1} a_{2} c_{2} m_{3} + by^{2} c_{2} m_{1} m_{2} s_{3} + by^{2} c_{2} m_{1} m_{3} s_{2} + c_{0} m_{1} m_{2} m_{3} + c_{1} m_{1} m_{2} s_{3}\\end{matrix}\\right]$$"
      ],
      "text/plain": [
       "<IPython.core.display.Math object>"
      ]
     },
     "execution_count": 5,
     "metadata": {},
     "output_type": "execute_result"
    }
   ],
   "source": [
    "from IPython.display import Math\n",
    "from gelato.printing.latex import glt_latex\n",
    "from sympy import latex\n",
    "\n",
    "symbol = glt_symbol(a, space=V, evaluate=False)\n",
    "\n",
    "Math(latex(symbol))\n",
    "#Math(glt_latex(symbol))"
   ]
  },
  {
   "cell_type": "code",
   "execution_count": 6,
   "metadata": {},
   "outputs": [],
   "source": [
    "d_types = {'c0': 'double', 'c1': 'double', 'c2': 'double', \n",
    "           'bx': 'double', 'by': 'double', 'bz': 'double'}"
   ]
  },
  {
   "cell_type": "code",
   "execution_count": 7,
   "metadata": {},
   "outputs": [],
   "source": [
    "kernel = compile_kernel('kernel_alfven', a, V,\n",
    "                        d_args=d_types,\n",
    "                        backend='fortran')"
   ]
  },
  {
   "cell_type": "code",
   "execution_count": 8,
   "metadata": {},
   "outputs": [],
   "source": [
    "symbol_f90 = compile_symbol('symbol_alfven', a, V, \n",
    "                            d_args=d_types,\n",
    "                            backend='fortran')"
   ]
  },
  {
   "cell_type": "code",
   "execution_count": 9,
   "metadata": {},
   "outputs": [],
   "source": [
    "d_args = {'c0': 1.e-12, 'c1': 1.e-4, 'c2': 1.e-2, \n",
    "          'bx': 0., 'by': 0., 'bz': 1.}"
   ]
  },
  {
   "cell_type": "code",
   "execution_count": 10,
   "metadata": {},
   "outputs": [],
   "source": [
    "M = assemble_matrix(V, kernel, args=d_args)"
   ]
  },
  {
   "cell_type": "code",
   "execution_count": 11,
   "metadata": {},
   "outputs": [],
   "source": [
    "from utils import coo_from_blocks\n",
    "\n",
    "n_block_rows = 3 ; n_block_cols = 3\n",
    "matrices = []\n",
    "for ir in range(0, n_block_rows):\n",
    "    line = []\n",
    "    for ic in range(0, n_block_cols):\n",
    "        coo = M[ir][ic].tocoo() \n",
    "        coo.eliminate_zeros()\n",
    "        line.append(coo)\n",
    "    matrices.append(line)\n",
    "_M = M    \n",
    "M = coo_from_blocks(matrices, \n",
    "                    n_block_rows=n_block_rows, \n",
    "                    n_block_cols=n_block_cols)"
   ]
  },
  {
   "cell_type": "code",
   "execution_count": 12,
   "metadata": {},
   "outputs": [],
   "source": [
    "# import eigenvalue solver\n",
    "from scipy.linalg import eig\n",
    "\n",
    "M = M.todense()\n",
    "w, v = eig(M)\n",
    "wr = w.real\n",
    "wr.sort()"
   ]
  },
  {
   "cell_type": "code",
   "execution_count": 13,
   "metadata": {},
   "outputs": [],
   "source": [
    "# ... example of symbol evaluation\n",
    "n1 = V1.nbasis\n",
    "n2 = V2.nbasis\n",
    "n3 = V3.nbasis\n",
    "t1 = linspace(-pi,pi, n1)\n",
    "t2 = linspace(-pi,pi, n2)\n",
    "t3 = linspace(-pi,pi, n3)\n",
    "x1 = linspace(0.,1., n1)\n",
    "x2 = linspace(0.,1., n2)\n",
    "x3 = linspace(0.,1., n3)\n",
    "e = zeros((3, 3, n1, n2, n3), order='F')\n",
    "symbol_f90(x1,x2,x3,t1,t2,t3, e, \n",
    "           d_args['bx'], d_args['by'], d_args['bz'], \n",
    "           d_args['c0'], d_args['c1'], d_args['c2'])\n",
    "# ..."
   ]
  },
  {
   "cell_type": "code",
   "execution_count": 14,
   "metadata": {},
   "outputs": [],
   "source": [
    "W = []\n",
    "for i1 in range(0, n1):\n",
    "    for i2 in range(0, n2):\n",
    "        for i3 in range(0, n3):\n",
    "            mat = e[:,:,i1,i2,i3]\n",
    "            w,v = eig(mat)\n",
    "            W += list(w.real)\n",
    "t = asarray(W)\n",
    "t.sort()"
   ]
  },
  {
   "cell_type": "code",
   "execution_count": 15,
   "metadata": {},
   "outputs": [
    {
     "data": {
      "image/png": "[encoded data removed]",
      "text/plain": [
       "<Figure size 432x288 with 1 Axes>"
      ]
     },
     "metadata": {},
     "output_type": "display_data"
    }
   ],
   "source": [
    "plt.plot(t, \"+b\", label=\"glt symbol\")\n",
    "plt.plot(wr, \"xr\", label=\"eigenvalues\")\n",
    "plt.legend(loc=2);"
   ]
  },
  {
   "cell_type": "code",
   "execution_count": null,
   "metadata": {},
   "outputs": [],
   "source": []
  },
  {
   "cell_type": "code",
   "execution_count": 16,
   "metadata": {},
   "outputs": [
    {
     "data": {
      "text/html": [
       "<link href='http://fonts.googleapis.com/css?family=Fenix' rel='stylesheet' type='text/css'>\n",
       "<link href='http://fonts.googleapis.com/css?family=Alegreya+Sans:100,300,400,500,700,800,900,100italic,300italic,400italic,500italic,700italic,800italic,900italic' rel='stylesheet' type='text/css'>\n",
       "<link href='http://fonts.googleapis.com/css?family=Source+Code+Pro:300,400' rel='stylesheet' type='text/css'>\n",
       "<style>\n",
       "    @font-face {\n",
       "        font-family: \"Computer Modern\";\n",
       "        src: url('http://mirrors.ctan.org/fonts/cm-unicode/fonts/otf/cmunss.otf');\n",
       "    }\n",
       "    div.cell{\n",
       "        width:600px;\n",
       "        margin-left:16% !important;\n",
       "        margin-right:auto;\n",
       "    }\n",
       "    h1 {\n",
       "        font-family: 'Alegreya Sans', sans-serif;\n",
       "    }\n",
       "    h2 {\n",
       "        font-family: 'Fenix', serif;\n",
       "    }\n",
       "    h3{\n",
       "\t\tfont-family: 'Fenix', serif;\n",
       "        margin-top:12px;\n",
       "        margin-bottom: 3px;\n",
       "       }\n",
       "\th4{\n",
       "\t\tfont-family: 'Fenix', serif;\n",
       "       }\n",
       "    h5 {\n",
       "        font-family: 'Alegreya Sans', sans-serif;\n",
       "    }\t   \n",
       "    div.text_cell_render{\n",
       "        font-family: 'Alegreya Sans',Computer Modern, \"Helvetica Neue\", Arial, Helvetica, Geneva, sans-serif;\n",
       "        line-height: 135%;\n",
       "        font-size: 120%;\n",
       "        width:600px;\n",
       "        margin-left:auto;\n",
       "        margin-right:auto;\n",
       "    }\n",
       "    .CodeMirror{\n",
       "            font-family: \"Source Code Pro\";\n",
       "\t\t\tfont-size: 90%;\n",
       "    }\n",
       "/*    .prompt{\n",
       "        display: None;\n",
       "    }*/\n",
       "    .text_cell_render h1 {\n",
       "        font-weight: 200;\n",
       "        font-size: 50pt;\n",
       "\t\tline-height: 100%;\n",
       "        color:#054BCD;\n",
       "        margin-bottom: 0.5em;\n",
       "        margin-top: 0.5em;\n",
       "        display: block;\n",
       "    }\t\n",
       "    .text_cell_render h5 {\n",
       "        font-weight: 300;\n",
       "        font-size: 16pt;\n",
       "        color: #054BCD;\n",
       "        font-style: italic;\n",
       "        margin-bottom: .5em;\n",
       "        margin-top: 0.5em;\n",
       "        display: block;\n",
       "    }\n",
       "    \n",
       "    .warning{\n",
       "        color: rgb( 240, 20, 20 )\n",
       "        }  \n",
       "</style>\n",
       "<script>\n",
       "    MathJax.Hub.Config({\n",
       "                        TeX: {\n",
       "                           extensions: [\"AMSmath.js\"]\n",
       "                           },\n",
       "                tex2jax: {\n",
       "                    inlineMath: [ ['$','$'], [\"\\\\(\",\"\\\\)\"] ],\n",
       "                    displayMath: [ ['$$','$$'], [\"\\\\[\",\"\\\\]\"] ]\n",
       "                },\n",
       "                displayAlign: 'center', // Change this to 'center' to center equations.\n",
       "                \"HTML-CSS\": {\n",
       "                    styles: {'.MathJax_Display': {\"margin\": 4}}\n",
       "                }\n",
       "        });\n",
       "</script>\n"
      ],
      "text/plain": [
       "<IPython.core.display.HTML object>"
      ]
     },
     "execution_count": 16,
     "metadata": {},
     "output_type": "execute_result"
    }
   ],
   "source": [
    "from IPython.core.display import HTML\n",
    "def css_styling():\n",
    "    styles = open(\"../../styles/custom.css\", \"r\").read()\n",
    "    return HTML(styles)\n",
    "css_styling()"
   ]
  },
  {
   "cell_type": "code",
   "execution_count": null,
   "metadata": {},
   "outputs": [],
   "source": []
  }
 ],
 "metadata": {
  "kernelspec": {
   "display_name": "Python 3",
   "language": "python",
   "name": "python3"
  },
  "language_info": {
   "codemirror_mode": {
    "name": "ipython",
    "version": 3
   },
   "file_extension": ".py",
   "mimetype": "text/x-python",
   "name": "python",
   "nbconvert_exporter": "python",
   "pygments_lexer": "ipython3",
   "version": "3.5.2"
  }
 },
 "nbformat": 4,
 "nbformat_minor": 2
}
