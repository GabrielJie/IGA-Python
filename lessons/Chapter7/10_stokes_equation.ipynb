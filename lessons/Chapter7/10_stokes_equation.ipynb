{
 "cells": [
  {
   "cell_type": "markdown",
   "metadata": {},
   "source": [
    "# 10. Stokes equation"
   ]
  },
  {
   "cell_type": "markdown",
   "metadata": {},
   "source": [
    "In this tutorial, we consider the *2D* Stokes problem using $H^1(\\Omega)$ discretization.\n",
    "\n",
    "Let $\\mathbf{u}$ and $p$ denote respectively the velocity and the pressure.\n",
    "\n",
    "The Stokes problem writes\n",
    "\n",
    "\\begin{align*}\n",
    "    - \\nabla^2 \\mathbf{u} + \\nabla p &= 0 \\\\\n",
    "    \\nabla \\cdot \\mathbf{u} &= 0\n",
    "\\end{align*}"
   ]
  },
  {
   "cell_type": "markdown",
   "metadata": {},
   "source": [
    "---\n",
    "**note:**\n",
    "The actual version of **GeLaTo** does not allow to mix scalar and vector fem spaces. We will have to use a component-wise version of the Stokes problem.\n",
    "\n",
    "---"
   ]
  },
  {
   "cell_type": "markdown",
   "metadata": {},
   "source": [
    "Let's define $\\mathbf{u} = \\begin{pmatrix} u_1 \\\\ u_2 \\end{pmatrix}$\n",
    "\n",
    "The Stokes equation writes\n",
    "\n",
    "\\begin{align*}\n",
    "    - \\nabla^2 u_1 + \\partial_x p &= 0 \\\\\n",
    "    - \\nabla^2 u_2 + \\partial_y p &= 0 \\\\\n",
    "    \\partial_x u_1 + \\partial_y u_2 &= 0\n",
    "\\end{align*}\n",
    "\n",
    "Let $v \\in \\mathcal{V}_h$ be a test function and we consider the following weak formulation\n",
    "\n",
    "\\begin{align*}\n",
    "    \\langle \\nabla v, \\nabla u_1 \\rangle - \\langle \\partial_x  v, p \\rangle &= 0 \\\\\n",
    "    \\langle \\nabla v, \\nabla u_2 \\rangle - \\langle \\partial_y  v, p \\rangle &= 0 \\\\\n",
    "    \\langle v, \\partial_x u_1 + \\partial_y u_2 \\rangle &= 0\n",
    "\\end{align*}\n",
    "\n",
    "\n"
   ]
  },
  {
   "cell_type": "code",
   "execution_count": 1,
   "metadata": {},
   "outputs": [],
   "source": [
    "# needed imports\n",
    "from numpy import linspace, meshgrid, pi, zeros, asarray\n",
    "from scipy.linalg import eig\n",
    "\n",
    "import matplotlib.pyplot as plt\n",
    "%matplotlib inline\n",
    "\n",
    "from IPython.display import Math\n",
    "\n",
    "from sympy import symbols, Symbol, Lambda, IndexedBase, Tuple\n",
    "from sympy import latex\n",
    "\n",
    "from gelato.glt import glt_symbol\n",
    "from gelato.printing.latex import glt_latex\n",
    "from gelato.calculus   import (Dot, Cross, Grad, Curl, Rot, Div, dx, dy)\n",
    "from gelato.calculus   import Constant\n",
    "from gelato.fem.assembly import assemble_matrix\n",
    "from gelato.fem.utils    import compile_kernel\n",
    "from gelato.fem.utils    import compile_symbol\n",
    "\n",
    "from spl.fem.splines import SplineSpace\n",
    "from spl.fem.tensor  import TensorSpace\n",
    "from spl.fem.vector  import VectorFemSpace"
   ]
  },
  {
   "cell_type": "code",
   "execution_count": 2,
   "metadata": {},
   "outputs": [],
   "source": [
    "x, y = symbols('x y')\n",
    "\n",
    "u = Symbol('u')\n",
    "v = Symbol('v')\n",
    "\n",
    "epsilon = Constant('epsilon')\n",
    "\n",
    "Laplace = lambda v,u: Dot(Grad(v), Grad(u))\n",
    "Mass = lambda v,u: v*u"
   ]
  },
  {
   "cell_type": "code",
   "execution_count": 3,
   "metadata": {},
   "outputs": [],
   "source": [
    "u1,u2,p = symbols('u1 u2 p')\n",
    "v1,v2,q = symbols('v1 v2 q')\n",
    "\n",
    "a = Lambda((x,y,v1,v2,q,u1,u2,p), \n",
    "             Laplace(v1,u1) - dx(v1) * p \n",
    "           + Laplace(v2,u2) - dy(v2) * p\n",
    "           + q * (dx(u1) + dy(u2)) \n",
    "           + epsilon * Mass(q,p))"
   ]
  },
  {
   "cell_type": "code",
   "execution_count": 4,
   "metadata": {},
   "outputs": [],
   "source": [
    "# ...  create a finite element space\n",
    "p1  = 3 ; p2  = 3\n",
    "ne1 = 16 ; ne2 = 16\n",
    "\n",
    "grid_1 = linspace(0., 1., ne1+1)\n",
    "grid_2 = linspace(0., 1., ne2+1)\n",
    "\n",
    "V1 = SplineSpace(p1, grid=grid_1)\n",
    "V2 = SplineSpace(p2, grid=grid_2)\n",
    "\n",
    "V = TensorSpace(V1, V2)\n",
    "# ...\n",
    "\n",
    "# ... create a vector fem space\n",
    "V = VectorFemSpace(V, V, V)\n",
    "# ..."
   ]
  },
  {
   "cell_type": "code",
   "execution_count": 5,
   "metadata": {},
   "outputs": [],
   "source": [
    "symbol = glt_symbol(a, space=V)"
   ]
  },
  {
   "cell_type": "code",
   "execution_count": 6,
   "metadata": {},
   "outputs": [
    {
     "data": {
      "text/latex": [
       "$$\\left[\\begin{matrix}m_{1} s_{2} + m_{2} s_{1} & 0 & a_{1} m_{2}\\\\0 & m_{1} s_{2} + m_{2} s_{1} & a_{2} m_{1}\\\\a_{1} m_{2} & a_{2} m_{1} & \\epsilon m_{1} m_{2}\\end{matrix}\\right]$$"
      ],
      "text/plain": [
       "<IPython.core.display.Math object>"
      ]
     },
     "execution_count": 6,
     "metadata": {},
     "output_type": "execute_result"
    }
   ],
   "source": [
    "Math(latex(symbol))"
   ]
  },
  {
   "cell_type": "code",
   "execution_count": 7,
   "metadata": {},
   "outputs": [],
   "source": [
    "eigen = symbol.eigenvals()\n",
    "eigen = list(eigen.keys())"
   ]
  },
  {
   "cell_type": "code",
   "execution_count": 8,
   "metadata": {},
   "outputs": [
    {
     "data": {
      "text/latex": [
       "$$\\left [ \\frac{m_{1} m_{2}}{2} \\epsilon + \\frac{m_{1} s_{2}}{2} + \\frac{m_{2} s_{1}}{2} - \\frac{1}{2} \\sqrt{\\epsilon^{2} m_{1}^{2} m_{2}^{2} - 2 \\epsilon m_{1}^{2} m_{2} s_{2} - 2 \\epsilon m_{1} m_{2}^{2} s_{1} + 4 a_{1}^{2} m_{2}^{2} + 4 a_{2}^{2} m_{1}^{2} + m_{1}^{2} s_{2}^{2} + 2 m_{1} m_{2} s_{1} s_{2} + m_{2}^{2} s_{1}^{2}}, \\quad \\frac{m_{1} m_{2}}{2} \\epsilon + \\frac{m_{1} s_{2}}{2} + \\frac{m_{2} s_{1}}{2} + \\frac{1}{2} \\sqrt{\\epsilon^{2} m_{1}^{2} m_{2}^{2} - 2 \\epsilon m_{1}^{2} m_{2} s_{2} - 2 \\epsilon m_{1} m_{2}^{2} s_{1} + 4 a_{1}^{2} m_{2}^{2} + 4 a_{2}^{2} m_{1}^{2} + m_{1}^{2} s_{2}^{2} + 2 m_{1} m_{2} s_{1} s_{2} + m_{2}^{2} s_{1}^{2}}, \\quad m_{1} s_{2} + m_{2} s_{1}\\right ]$$"
      ],
      "text/plain": [
       "<IPython.core.display.Math object>"
      ]
     },
     "execution_count": 8,
     "metadata": {},
     "output_type": "execute_result"
    }
   ],
   "source": [
    "Math(latex(eigen))"
   ]
  },
  {
   "cell_type": "code",
   "execution_count": 9,
   "metadata": {},
   "outputs": [
    {
     "name": "stdout",
     "output_type": "stream",
     "text": [
      "\u001b[1mpyccel\u001b[0m: [semantic] \n",
      " |\u001b[1m\u001b[5m\u001b[31merror\u001b[0m: [43,29-48]| Incompatible types in assignment (|v_01| double <-> int)\n",
      " |\u001b[1m\u001b[5m\u001b[31merror\u001b[0m: [45,29-48]| Incompatible types in assignment (|v_10| double <-> int)\n",
      "\n",
      "\u001b[1mpyccel\u001b[0m: [codegen] \n",
      " |\u001b[1m\u001b[5m\u001b[31merror\u001b[0m: [43,29-48]| Incompatible types in assignment (|v_01| double <-> int)\n",
      " |\u001b[1m\u001b[5m\u001b[31merror\u001b[0m: [45,29-48]| Incompatible types in assignment (|v_10| double <-> int)\n",
      "\n"
     ]
    }
   ],
   "source": [
    "# TODO not working yet \n",
    "d_types = {'epsilon': 'double'}\n",
    "kernel_f90 = compile_kernel('kernel_2d', a, V, \n",
    "                            d_args=d_types, \n",
    "                            backend='fortran')"
   ]
  },
  {
   "cell_type": "code",
   "execution_count": 10,
   "metadata": {},
   "outputs": [],
   "source": [
    "M = assemble_matrix(V, kernel_f90, \n",
    "                    args={'epsilon': 1.e-3})"
   ]
  },
  {
   "cell_type": "code",
   "execution_count": 11,
   "metadata": {},
   "outputs": [],
   "source": [
    "from utils import coo_from_blocks"
   ]
  },
  {
   "cell_type": "code",
   "execution_count": 12,
   "metadata": {},
   "outputs": [],
   "source": [
    "n_block_rows = 3 ; n_block_cols = 3\n",
    "matrices = []\n",
    "for ir in range(0, n_block_rows):\n",
    "    line = []\n",
    "    for ic in range(0, n_block_cols):\n",
    "        line.append(M[ir][ic].tocoo())\n",
    "    matrices.append(line)\n",
    "_M = M    \n",
    "M = coo_from_blocks(matrices, \n",
    "                    n_block_rows=n_block_rows, \n",
    "                    n_block_cols=n_block_cols)"
   ]
  },
  {
   "cell_type": "code",
   "execution_count": 13,
   "metadata": {},
   "outputs": [],
   "source": [
    "# import eigenvalue solver\n",
    "from scipy.linalg import eig\n",
    "\n",
    "M = M.todense()\n",
    "w, v = eig(M)\n",
    "wr = w.real\n",
    "wr.sort()"
   ]
  },
  {
   "cell_type": "code",
   "execution_count": 10,
   "metadata": {},
   "outputs": [],
   "source": [
    "# TODO not working yet => complex numbers\n",
    "#symbol_f90 = compile_symbol('symbol_2d', a, V, backend='fortran')"
   ]
  },
  {
   "cell_type": "code",
   "execution_count": 14,
   "metadata": {},
   "outputs": [],
   "source": [
    "# TODO remove later\n",
    "from gelato.glt import glt_lambdify\n",
    "symbol = glt_symbol(a, space=V, evaluate=True)\n",
    "\n",
    "symbol = symbol.subs({epsilon: 1.e-3})\n",
    "f = glt_lambdify(symbol)"
   ]
  },
  {
   "cell_type": "code",
   "execution_count": 15,
   "metadata": {},
   "outputs": [],
   "source": [
    "n1 = V1.nbasis\n",
    "n2 = V2.nbasis\n",
    "t1 = linspace(-pi,pi, n1)\n",
    "t2 = linspace(-pi,pi, n2)\n",
    "x1 = linspace(0.,1., n1)\n",
    "x2 = linspace(0.,1., n2)"
   ]
  },
  {
   "cell_type": "code",
   "execution_count": 16,
   "metadata": {},
   "outputs": [],
   "source": [
    "from numpy import imag\n",
    "tol = 1.e-13\n",
    "\n",
    "W = []\n",
    "for i1 in range(0,n1):\n",
    "    _x1 = x1[i1]\n",
    "    _t1 = t1[i1]\n",
    "    for i2 in range(0,n2):\n",
    "        _x2 = x2[i2]\n",
    "        _t2 = t2[i2]\n",
    "        e = f(_x1,_x2,_t1,_t2)\n",
    "        w,v = eig(e)\n",
    "        assert([abs(imag(i)) < tol for i in w])\n",
    "        W += list(w.real)\n",
    "t = asarray(W)\n",
    "t.sort()"
   ]
  },
  {
   "cell_type": "code",
   "execution_count": 17,
   "metadata": {},
   "outputs": [
    {
     "name": "stdout",
     "output_type": "stream",
     "text": [
      "> len(t) =  1083\n",
      "> len(xmins) =  131\n"
     ]
    }
   ],
   "source": [
    "from numpy import where\n",
    "xmins = where(t < 1.e-4)\n",
    "print('> len(t) = ', len(t))\n",
    "print('> len(xmins) = ', len(xmins[0]))"
   ]
  },
  {
   "cell_type": "code",
   "execution_count": 18,
   "metadata": {},
   "outputs": [
    {
     "data": {
      "image/png": "[encoded data removed]",
      "text/plain": [
       "<Figure size 432x288 with 1 Axes>"
      ]
     },
     "metadata": {},
     "output_type": "display_data"
    }
   ],
   "source": [
    "plt.plot(t, \"+b\", label=\"glt symbol\")\n",
    "plt.plot(wr, \"xr\", label=\"eigenvalues\")\n",
    "plt.legend(loc=2);"
   ]
  },
  {
   "cell_type": "code",
   "execution_count": null,
   "metadata": {},
   "outputs": [],
   "source": []
  },
  {
   "cell_type": "code",
   "execution_count": null,
   "metadata": {},
   "outputs": [],
   "source": []
  },
  {
   "cell_type": "code",
   "execution_count": null,
   "metadata": {},
   "outputs": [],
   "source": []
  },
  {
   "cell_type": "code",
   "execution_count": 1,
   "metadata": {},
   "outputs": [
    {
     "data": {
      "text/html": [
       "<link href='http://fonts.googleapis.com/css?family=Fenix' rel='stylesheet' type='text/css'>\n",
       "<link href='http://fonts.googleapis.com/css?family=Alegreya+Sans:100,300,400,500,700,800,900,100italic,300italic,400italic,500italic,700italic,800italic,900italic' rel='stylesheet' type='text/css'>\n",
       "<link href='http://fonts.googleapis.com/css?family=Source+Code+Pro:300,400' rel='stylesheet' type='text/css'>\n",
       "<style>\n",
       "    @font-face {\n",
       "        font-family: \"Computer Modern\";\n",
       "        src: url('http://mirrors.ctan.org/fonts/cm-unicode/fonts/otf/cmunss.otf');\n",
       "    }\n",
       "    div.cell{\n",
       "        width:600px;\n",
       "        margin-left:16% !important;\n",
       "        margin-right:auto;\n",
       "    }\n",
       "    h1 {\n",
       "        font-family: 'Alegreya Sans', sans-serif;\n",
       "    }\n",
       "    h2 {\n",
       "        font-family: 'Fenix', serif;\n",
       "    }\n",
       "    h3{\n",
       "\t\tfont-family: 'Fenix', serif;\n",
       "        margin-top:12px;\n",
       "        margin-bottom: 3px;\n",
       "       }\n",
       "\th4{\n",
       "\t\tfont-family: 'Fenix', serif;\n",
       "       }\n",
       "    h5 {\n",
       "        font-family: 'Alegreya Sans', sans-serif;\n",
       "    }\t   \n",
       "    div.text_cell_render{\n",
       "        font-family: 'Alegreya Sans',Computer Modern, \"Helvetica Neue\", Arial, Helvetica, Geneva, sans-serif;\n",
       "        line-height: 135%;\n",
       "        font-size: 120%;\n",
       "        width:600px;\n",
       "        margin-left:auto;\n",
       "        margin-right:auto;\n",
       "    }\n",
       "    .CodeMirror{\n",
       "            font-family: \"Source Code Pro\";\n",
       "\t\t\tfont-size: 90%;\n",
       "    }\n",
       "/*    .prompt{\n",
       "        display: None;\n",
       "    }*/\n",
       "    .text_cell_render h1 {\n",
       "        font-weight: 200;\n",
       "        font-size: 50pt;\n",
       "\t\tline-height: 100%;\n",
       "        color:#054BCD;\n",
       "        margin-bottom: 0.5em;\n",
       "        margin-top: 0.5em;\n",
       "        display: block;\n",
       "    }\t\n",
       "    .text_cell_render h5 {\n",
       "        font-weight: 300;\n",
       "        font-size: 16pt;\n",
       "        color: #054BCD;\n",
       "        font-style: italic;\n",
       "        margin-bottom: .5em;\n",
       "        margin-top: 0.5em;\n",
       "        display: block;\n",
       "    }\n",
       "    \n",
       "    .warning{\n",
       "        color: rgb( 240, 20, 20 )\n",
       "        }  \n",
       "</style>\n",
       "<script>\n",
       "    MathJax.Hub.Config({\n",
       "                        TeX: {\n",
       "                           extensions: [\"AMSmath.js\"]\n",
       "                           },\n",
       "                tex2jax: {\n",
       "                    inlineMath: [ ['$','$'], [\"\\\\(\",\"\\\\)\"] ],\n",
       "                    displayMath: [ ['$$','$$'], [\"\\\\[\",\"\\\\]\"] ]\n",
       "                },\n",
       "                displayAlign: 'center', // Change this to 'center' to center equations.\n",
       "                \"HTML-CSS\": {\n",
       "                    styles: {'.MathJax_Display': {\"margin\": 4}}\n",
       "                }\n",
       "        });\n",
       "</script>\n"
      ],
      "text/plain": [
       "<IPython.core.display.HTML object>"
      ]
     },
     "execution_count": 1,
     "metadata": {},
     "output_type": "execute_result"
    }
   ],
   "source": [
    "from IPython.core.display import HTML\n",
    "def css_styling():\n",
    "    styles = open(\"../../styles/custom.css\", \"r\").read()\n",
    "    return HTML(styles)\n",
    "css_styling()"
   ]
  },
  {
   "cell_type": "code",
   "execution_count": null,
   "metadata": {},
   "outputs": [],
   "source": []
  }
 ],
 "metadata": {
  "kernelspec": {
   "display_name": "Python 3",
   "language": "python",
   "name": "python3"
  },
  "language_info": {
   "codemirror_mode": {
    "name": "ipython",
    "version": 3
   },
   "file_extension": ".py",
   "mimetype": "text/x-python",
   "name": "python",
   "nbconvert_exporter": "python",
   "pygments_lexer": "ipython3",
   "version": "3.5.2"
  }
 },
 "nbformat": 4,
 "nbformat_minor": 2
}
