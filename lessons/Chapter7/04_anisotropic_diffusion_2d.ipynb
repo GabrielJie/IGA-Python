{
 "cells": [
  {
   "cell_type": "markdown",
   "metadata": {},
   "source": [
    "# 4. 2-D Anisotropic Diffusion\n",
    "\n",
    "In this tutorial, we consider the following anisotropic diffusion problem\n",
    "\n",
    "$$\n",
    "\ta(v, u) = \\int_{\\Omega}  \\frac{\\kappa_{\\parallel}}{\\|\\mathbf{B}\\|^2} (\\textbf{B} \\cdot \\nabla v) (\\textbf{B} \\cdot \\nabla u) + \\kappa_{I} \\nabla v \\cdot \\nabla u d\\Omega, \\quad \\forall u,v \\in \\mathcal{V}_h\n",
    "$$\n",
    "\n",
    "where $\\textbf{B}$ denotes the magnetic field, $\\Omega$ is our 2D computational domain and $\\mathcal{V}_h \\subset H^1(\\Omega)$. \n",
    "We are interested in highly anisotropic configurations with $\\displaystyle \\frac{\\kappa_{\\parallel}}{\\kappa_{I}} \\simeq 10^6 \\gg 1$."
   ]
  },
  {
   "cell_type": "code",
   "execution_count": 1,
   "metadata": {},
   "outputs": [],
   "source": [
    "from numpy import linspace, zeros, meshgrid, pi\n",
    "\n",
    "import matplotlib.pyplot as plt\n",
    "%matplotlib inline\n",
    "\n",
    "from IPython.display import Math\n",
    "\n",
    "from sympy.core.containers import Tuple\n",
    "from sympy import symbols\n",
    "from sympy import Symbol\n",
    "from sympy import Lambda\n",
    "from sympy import IndexedBase\n",
    "from sympy import Function\n",
    "\n",
    "from gelato.glt import glt_symbol\n",
    "from gelato.glt import glt_lambdify\n",
    "from gelato.glt import glt_approximate_eigenvalues\n",
    "from gelato.calculus   import (Dot, Cross, Grad, Curl, Rot, Div)\n",
    "from gelato.calculus   import (dx, dy)\n",
    "from gelato.calculus   import Constant\n",
    "from gelato.fem.assembly import assemble_matrix\n",
    "from gelato.fem.utils    import compile_kernel\n",
    "from gelato.fem.utils    import compile_symbol\n",
    "\n",
    "from spl.fem.splines import SplineSpace\n",
    "from spl.fem.tensor  import TensorSpace"
   ]
  },
  {
   "cell_type": "code",
   "execution_count": 2,
   "metadata": {},
   "outputs": [],
   "source": [
    "x,y = symbols('x y')\n",
    "\n",
    "u = Symbol('u')\n",
    "v = Symbol('v')\n",
    "\n",
    "k_par = Constant('k_par')\n",
    "k_perp = Constant('k_perp')\n",
    "\n",
    "b1 = Constant('b1')\n",
    "b2 = Constant('b2')\n",
    "b = Tuple(b1, b2)\n",
    "\n",
    "a = Lambda((x,y,v,u), k_perp * Dot(Grad(v), Grad(u)) + k_par * Dot(b, Grad(v)) * Dot(b, Grad(u)))\n"
   ]
  },
  {
   "cell_type": "code",
   "execution_count": 4,
   "metadata": {},
   "outputs": [],
   "source": [
    "# ...  create a finite element space\n",
    "p1  = 3 ; p2  = 3\n",
    "ne1 = 32 ; ne2 = 32\n",
    "\n",
    "grid_1 = linspace(0., 1., ne1+1)\n",
    "grid_2 = linspace(0., 1., ne2+1)\n",
    "\n",
    "V1 = SplineSpace(p1, grid=grid_1)\n",
    "V2 = SplineSpace(p2, grid=grid_2)\n",
    "\n",
    "V = TensorSpace(V1, V2)\n",
    "# ..."
   ]
  },
  {
   "cell_type": "code",
   "execution_count": 5,
   "metadata": {},
   "outputs": [],
   "source": [
    "d_constants = {'b2': 1., 'k_perp': 1.}\n",
    "d_types = {'b1': 'double', 'k_par': 'double'}"
   ]
  },
  {
   "cell_type": "code",
   "execution_count": 6,
   "metadata": {},
   "outputs": [],
   "source": [
    "kernel_a = compile_kernel('kernel_a', a, V,\n",
    "                          d_constants=d_constants,\n",
    "                          d_args=d_types,\n",
    "                          backend='fortran')"
   ]
  },
  {
   "cell_type": "code",
   "execution_count": 7,
   "metadata": {},
   "outputs": [],
   "source": [
    "d_args = {'b1': 1.165939762441386085001227002067, \n",
    "          'k_par': 1.e5}"
   ]
  },
  {
   "cell_type": "code",
   "execution_count": 8,
   "metadata": {},
   "outputs": [],
   "source": [
    "M = assemble_matrix(V, kernel_a, args=d_args).tocsr()"
   ]
  },
  {
   "cell_type": "code",
   "execution_count": 9,
   "metadata": {},
   "outputs": [],
   "source": [
    "# import eigenvalue solver\n",
    "from scipy.linalg import eig\n",
    "\n",
    "M = M.todense()\n",
    "w, v = eig(M)\n",
    "wr = w.real\n",
    "wr.sort()"
   ]
  },
  {
   "cell_type": "code",
   "execution_count": 10,
   "metadata": {},
   "outputs": [],
   "source": [
    "symbol_a = compile_symbol('symbol_a', a, V,\n",
    "                          d_constants=d_constants,\n",
    "                          d_args=d_types,\n",
    "                          backend='fortran')"
   ]
  },
  {
   "cell_type": "code",
   "execution_count": 11,
   "metadata": {},
   "outputs": [],
   "source": [
    "# ... example of symbol evaluation\n",
    "[n1,n2] = [W.nbasis for W in V.spaces]\n",
    "\n",
    "t1 = linspace(-pi,pi, n1)\n",
    "t2 = linspace(-pi,pi, n2)\n",
    "x1 = linspace(0.,1., n1)\n",
    "x2 = linspace(0.,1., n2)\n",
    "e = zeros((n1, n2), order='F')\n",
    "symbol_a(x1,x2,t1,t2, e, d_args['k_par'], d_args['b1'])\n",
    "t = e.ravel()\n",
    "t.sort()\n",
    "# ..."
   ]
  },
  {
   "cell_type": "code",
   "execution_count": 12,
   "metadata": {},
   "outputs": [
    {
     "data": {
      "image/png": "[encoded data removed]",
      "text/plain": [
       "<Figure size 432x288 with 1 Axes>"
      ]
     },
     "metadata": {},
     "output_type": "display_data"
    }
   ],
   "source": [
    "plt.plot(t, \"+b\", label=\"glt symbol\")\n",
    "plt.plot(wr, \"xr\", label=\"eigenvalues\")\n",
    "plt.legend(loc=2);"
   ]
  },
  {
   "cell_type": "code",
   "execution_count": 13,
   "metadata": {},
   "outputs": [
    {
     "data": {
      "image/png": "[encoded data removed]",
      "text/plain": [
       "<Figure size 432x288 with 2 Axes>"
      ]
     },
     "metadata": {},
     "output_type": "display_data"
    }
   ],
   "source": [
    "# ... compute the symbol f_a / f_c\n",
    "nx = 100 ; ny = 100\n",
    "t1 = linspace(-pi,pi, nx)\n",
    "t2 = linspace(-pi,pi, ny)\n",
    "\n",
    "x = linspace(0.,1.,nx)\n",
    "y = linspace(0.,1.,ny)\n",
    "\n",
    "f = zeros((nx, ny), order='F')\n",
    "symbol_a(x,y,t1,t2, f, d_args['k_par'], d_args['b1'])\n",
    "# ...\n",
    "\n",
    "# ... plot\n",
    "T1,T2 = meshgrid(t1,t2)\n",
    "plt.contourf(T1, T2, f)\n",
    "plt.axis(\"equal\")\n",
    "plt.colorbar();\n",
    "# ..."
   ]
  },
  {
   "cell_type": "markdown",
   "metadata": {},
   "source": [
    "Let's now create the symbol for linear B-Splines"
   ]
  },
  {
   "cell_type": "code",
   "execution_count": 14,
   "metadata": {},
   "outputs": [],
   "source": [
    "# ...  create a finite element space\n",
    "W1 = SplineSpace(degree=1, grid=grid_1)\n",
    "W2 = SplineSpace(degree=1, grid=grid_2)\n",
    "\n",
    "W = TensorSpace(W1, W2)\n",
    "# ...\n",
    "\n",
    "symbol_p1 = compile_symbol('symbol_p1', a, W,\n",
    "                           d_constants=d_constants,\n",
    "                           d_args=d_types,\n",
    "                           backend='fortran')"
   ]
  },
  {
   "cell_type": "code",
   "execution_count": 15,
   "metadata": {},
   "outputs": [
    {
     "data": {
      "image/png": "[encoded data removed]",
      "text/plain": [
       "<Figure size 432x288 with 2 Axes>"
      ]
     },
     "metadata": {},
     "output_type": "display_data"
    }
   ],
   "source": [
    "# ... compute the symbol f_a / f_c\n",
    "nx = 100 ; ny = 100\n",
    "t1 = linspace(-pi,pi, nx)\n",
    "t2 = linspace(-pi,pi, ny)\n",
    "\n",
    "x = linspace(0.,1.,nx)\n",
    "y = linspace(0.,1.,ny)\n",
    "\n",
    "f_a = zeros((nx, ny), order='F')\n",
    "symbol_a(x,y,t1,t2, f_a, d_args['k_par'], d_args['b1'])\n",
    "\n",
    "f_p1 = zeros((nx, ny), order='F')\n",
    "symbol_p1(x,y,t1,t2, f_p1, d_args['k_par'], d_args['b1'])\n",
    "\n",
    "f = f_a/f_p1\n",
    "# ...\n",
    "\n",
    "# ... plot\n",
    "T1,T2 = meshgrid(t1,t2)\n",
    "plt.contourf(T1, T2, f)\n",
    "plt.axis(\"equal\")\n",
    "plt.colorbar();\n",
    "# ..."
   ]
  },
  {
   "cell_type": "markdown",
   "metadata": {},
   "source": [
    "## Variable coefficient case"
   ]
  },
  {
   "cell_type": "code",
   "execution_count": 2,
   "metadata": {},
   "outputs": [
    {
     "name": "stdout",
     "output_type": "stream",
     "text": [
      "\u001b[1mpyccel\u001b[0m: [semantic] \n",
      " |\u001b[5m\u001b[32mwarning\u001b[0m| Duplicated import  (sqrt)\n",
      "\n",
      "\u001b[1mpyccel\u001b[0m: [codegen] \n",
      " |\u001b[5m\u001b[32mwarning\u001b[0m| Duplicated import  (sqrt)\n",
      "\n",
      "\u001b[1mpyccel\u001b[0m: [semantic] \n",
      " |\u001b[5m\u001b[32mwarning\u001b[0m| Duplicated import  (sqrt)\n",
      "\n",
      "\u001b[1mpyccel\u001b[0m: [semantic] \n",
      " |\u001b[5m\u001b[32mwarning\u001b[0m| Duplicated import  (sqrt)\n",
      "\n",
      "\u001b[1mpyccel\u001b[0m: [codegen] \n",
      " |\u001b[5m\u001b[32mwarning\u001b[0m| Duplicated import  (sqrt)\n",
      "\n"
     ]
    }
   ],
   "source": [
    "# ... define the weak formulation\n",
    "x,y = symbols('x y')\n",
    "\n",
    "u = Symbol('u')\n",
    "v = Symbol('v')\n",
    "\n",
    "b0 = Function('b0')\n",
    "b1 = Function('b1')\n",
    "\n",
    "k_par = Constant('k_par')\n",
    "k_perp = Constant('k_perp')\n",
    "\n",
    "a = Lambda((x,y,v,u),\n",
    "            k_par * (b0(x,y)*dx(v) + b1(x,y)*dy(v)) \n",
    "                  * (b0(x,y)*dx(u) + b1(x,y)*dy(u)) \n",
    "          + k_perp * Dot(Grad(v), Grad(u)))\n",
    "# ...\n",
    "\n",
    "# ... user defined function\n",
    "def b0(x,y):\n",
    "    from numpy import sqrt\n",
    "    \n",
    "    r = sqrt(x**2+y**2)\n",
    "    b = -y/r\n",
    "    \n",
    "    return b\n",
    "\n",
    "def b1(x,y):\n",
    "    from numpy import sqrt\n",
    "\n",
    "    r = sqrt(x**2+y**2)\n",
    "    b = x/r\n",
    "    \n",
    "    return b\n",
    "# ...\n",
    "\n",
    "# ... create an interactive pyccel context\n",
    "from pyccel.epyccel import ContextPyccel\n",
    "\n",
    "context = ContextPyccel(name='context_2')\n",
    "context.insert_function(b0, ['double', 'double'], \n",
    "                        kind='function', results=['double'])\n",
    "context.insert_function(b1, ['double', 'double'], \n",
    "                        kind='function', results=['double'])\n",
    "\n",
    "context.compile()\n",
    "# ...\n",
    "\n",
    "# ...  create a finite element space\n",
    "p1  = 3 ; p2  = 3\n",
    "ne1 = 32 ; ne2 = 32\n",
    "\n",
    "grid_1 = linspace(0., 1., ne1+1)\n",
    "grid_2 = linspace(0., 1., ne2+1)\n",
    "\n",
    "V1 = SplineSpace(p1, grid=grid_1)\n",
    "V2 = SplineSpace(p2, grid=grid_2)\n",
    "\n",
    "V = TensorSpace(V1, V2)\n",
    "# ...\n",
    "\n",
    "# ...\n",
    "d_constants = {'k_perp': 1.}\n",
    "d_types = {'k_par': 'double'}\n",
    "\n",
    "kernel_f90 = compile_kernel('kernel_2', a, V,\n",
    "                            context=context,\n",
    "                            d_constants=d_constants,\n",
    "                            d_args=d_types,\n",
    "                            backend='fortran')\n",
    "# ..."
   ]
  },
  {
   "cell_type": "code",
   "execution_count": 3,
   "metadata": {},
   "outputs": [],
   "source": [
    "d_args = {'k_par': 1.e5}\n",
    "M = assemble_matrix(V, kernel_f90, args=d_args).tocsr()"
   ]
  },
  {
   "cell_type": "code",
   "execution_count": 4,
   "metadata": {},
   "outputs": [],
   "source": [
    "# import eigenvalue solver\n",
    "from scipy.linalg import eig\n",
    "\n",
    "M = M.todense()\n",
    "w, v = eig(M)\n",
    "wr = w.real\n",
    "wr.sort()"
   ]
  },
  {
   "cell_type": "code",
   "execution_count": 5,
   "metadata": {},
   "outputs": [
    {
     "name": "stdout",
     "output_type": "stream",
     "text": [
      "\u001b[1mpyccel\u001b[0m: [semantic] \n",
      " |\u001b[5m\u001b[32mwarning\u001b[0m| Duplicated import  (sqrt)\n",
      "\n",
      "\u001b[1mpyccel\u001b[0m: [semantic] \n",
      " |\u001b[5m\u001b[32mwarning\u001b[0m| Duplicated import  (sqrt)\n",
      "\n",
      "\u001b[1mpyccel\u001b[0m: [codegen] \n",
      " |\u001b[5m\u001b[32mwarning\u001b[0m| Duplicated import  (sqrt)\n",
      "\n"
     ]
    }
   ],
   "source": [
    "symbol_a = compile_symbol('symbol_2', a, V,\n",
    "                          context=context,\n",
    "                          d_constants=d_constants,\n",
    "                          d_args=d_types,\n",
    "                          backend='fortran')"
   ]
  },
  {
   "cell_type": "code",
   "execution_count": 6,
   "metadata": {},
   "outputs": [],
   "source": [
    "# ... example of symbol evaluation\n",
    "[n1,n2] = [W.nbasis for W in V.spaces]\n",
    "\n",
    "t1 = linspace(-pi,pi, n1)\n",
    "t2 = linspace(-pi,pi, n2)\n",
    "x1 = linspace(0.,1., n1)\n",
    "x2 = linspace(0.,1., n2)\n",
    "e = zeros((n1, n2), order='F')\n",
    "symbol_a(x1,x2,t1,t2, e, d_args['k_par'])\n",
    "t = e.ravel()\n",
    "t.sort()\n",
    "# ..."
   ]
  },
  {
   "cell_type": "code",
   "execution_count": 7,
   "metadata": {},
   "outputs": [
    {
     "data": {
      "image/png": "[encoded data removed]",
      "text/plain": [
       "<Figure size 432x288 with 1 Axes>"
      ]
     },
     "metadata": {},
     "output_type": "display_data"
    }
   ],
   "source": [
    "plt.plot(t, \"+b\", label=\"glt symbol\")\n",
    "plt.plot(wr, \"xr\", label=\"eigenvalues\")\n",
    "plt.legend(loc=2);"
   ]
  },
  {
   "cell_type": "code",
   "execution_count": 8,
   "metadata": {},
   "outputs": [
    {
     "data": {
      "image/png": "[encoded data removed]",
      "text/plain": [
       "<Figure size 432x288 with 2 Axes>"
      ]
     },
     "metadata": {},
     "output_type": "display_data"
    }
   ],
   "source": [
    "# ... compute the symbol f_a / f_c\n",
    "nx = 100 ; ny = 100\n",
    "t1 = linspace(-pi,pi, nx)\n",
    "t2 = linspace(-pi,pi, ny)\n",
    "\n",
    "x = linspace(0.,1.,nx)\n",
    "y = linspace(0.,1.,ny)\n",
    "\n",
    "f = zeros((nx, ny), order='F')\n",
    "symbol_a(x,y,t1,t2, f, d_args['k_par'])\n",
    "# ...\n",
    "\n",
    "# ... plot\n",
    "T1,T2 = meshgrid(t1,t2)\n",
    "plt.contourf(T1, T2, f)\n",
    "plt.axis(\"equal\")\n",
    "plt.colorbar();\n",
    "# ..."
   ]
  },
  {
   "cell_type": "code",
   "execution_count": 9,
   "metadata": {},
   "outputs": [
    {
     "name": "stdout",
     "output_type": "stream",
     "text": [
      "\u001b[1mpyccel\u001b[0m: [semantic] \n",
      " |\u001b[5m\u001b[32mwarning\u001b[0m| Duplicated import  (sqrt)\n",
      "\n",
      "\u001b[1mpyccel\u001b[0m: [semantic] \n",
      " |\u001b[5m\u001b[32mwarning\u001b[0m| Duplicated import  (sqrt)\n",
      "\n",
      "\u001b[1mpyccel\u001b[0m: [codegen] \n",
      " |\u001b[5m\u001b[32mwarning\u001b[0m| Duplicated import  (sqrt)\n",
      "\n"
     ]
    }
   ],
   "source": [
    "# ...  create a finite element space\n",
    "W1 = SplineSpace(degree=1, grid=grid_1)\n",
    "W2 = SplineSpace(degree=1, grid=grid_2)\n",
    "\n",
    "W = TensorSpace(W1, W2)\n",
    "# ...\n",
    "\n",
    "symbol_p1 = compile_symbol('symbol_p1_2', a, W,\n",
    "                           context=context,\n",
    "                           d_constants=d_constants,\n",
    "                           d_args=d_types,\n",
    "                           backend='fortran')"
   ]
  },
  {
   "cell_type": "code",
   "execution_count": 10,
   "metadata": {},
   "outputs": [
    {
     "data": {
      "image/png": "[encoded data removed]",
      "text/plain": [
       "<Figure size 432x288 with 2 Axes>"
      ]
     },
     "metadata": {},
     "output_type": "display_data"
    }
   ],
   "source": [
    "# ... compute the symbol f_a / f_c\n",
    "nx = 200 ; ny = 200\n",
    "t1 = linspace(-pi,pi, nx)\n",
    "t2 = linspace(-pi,pi, ny)\n",
    "\n",
    "x = linspace(0.,1.,nx)\n",
    "y = linspace(0.,1.,ny)\n",
    "\n",
    "f_a = zeros((nx, ny), order='F')\n",
    "symbol_a(x,y,t1,t2, f_a, d_args['k_par'])\n",
    "\n",
    "f_p1 = zeros((nx, ny), order='F')\n",
    "symbol_p1(x,y,t1,t2, f_p1, d_args['k_par'])\n",
    "\n",
    "f = f_a/f_p1\n",
    "# ...\n",
    "\n",
    "# ... plot\n",
    "T1,T2 = meshgrid(t1,t2)\n",
    "plt.contourf(T1, T2, f)\n",
    "plt.axis(\"equal\")\n",
    "plt.colorbar();\n",
    "# ..."
   ]
  },
  {
   "cell_type": "code",
   "execution_count": 15,
   "metadata": {},
   "outputs": [
    {
     "data": {
      "text/html": [
       "<link href='http://fonts.googleapis.com/css?family=Fenix' rel='stylesheet' type='text/css'>\n",
       "<link href='http://fonts.googleapis.com/css?family=Alegreya+Sans:100,300,400,500,700,800,900,100italic,300italic,400italic,500italic,700italic,800italic,900italic' rel='stylesheet' type='text/css'>\n",
       "<link href='http://fonts.googleapis.com/css?family=Source+Code+Pro:300,400' rel='stylesheet' type='text/css'>\n",
       "<style>\n",
       "    @font-face {\n",
       "        font-family: \"Computer Modern\";\n",
       "        src: url('http://mirrors.ctan.org/fonts/cm-unicode/fonts/otf/cmunss.otf');\n",
       "    }\n",
       "    div.cell{\n",
       "        width:600px;\n",
       "        margin-left:16% !important;\n",
       "        margin-right:auto;\n",
       "    }\n",
       "    h1 {\n",
       "        font-family: 'Alegreya Sans', sans-serif;\n",
       "    }\n",
       "    h2 {\n",
       "        font-family: 'Fenix', serif;\n",
       "    }\n",
       "    h3{\n",
       "\t\tfont-family: 'Fenix', serif;\n",
       "        margin-top:12px;\n",
       "        margin-bottom: 3px;\n",
       "       }\n",
       "\th4{\n",
       "\t\tfont-family: 'Fenix', serif;\n",
       "       }\n",
       "    h5 {\n",
       "        font-family: 'Alegreya Sans', sans-serif;\n",
       "    }\t   \n",
       "    div.text_cell_render{\n",
       "        font-family: 'Alegreya Sans',Computer Modern, \"Helvetica Neue\", Arial, Helvetica, Geneva, sans-serif;\n",
       "        line-height: 135%;\n",
       "        font-size: 120%;\n",
       "        width:600px;\n",
       "        margin-left:auto;\n",
       "        margin-right:auto;\n",
       "    }\n",
       "    .CodeMirror{\n",
       "            font-family: \"Source Code Pro\";\n",
       "\t\t\tfont-size: 90%;\n",
       "    }\n",
       "/*    .prompt{\n",
       "        display: None;\n",
       "    }*/\n",
       "    .text_cell_render h1 {\n",
       "        font-weight: 200;\n",
       "        font-size: 50pt;\n",
       "\t\tline-height: 100%;\n",
       "        color:#054BCD;\n",
       "        margin-bottom: 0.5em;\n",
       "        margin-top: 0.5em;\n",
       "        display: block;\n",
       "    }\t\n",
       "    .text_cell_render h5 {\n",
       "        font-weight: 300;\n",
       "        font-size: 16pt;\n",
       "        color: #054BCD;\n",
       "        font-style: italic;\n",
       "        margin-bottom: .5em;\n",
       "        margin-top: 0.5em;\n",
       "        display: block;\n",
       "    }\n",
       "    \n",
       "    .warning{\n",
       "        color: rgb( 240, 20, 20 )\n",
       "        }  \n",
       "</style>\n",
       "<script>\n",
       "    MathJax.Hub.Config({\n",
       "                        TeX: {\n",
       "                           extensions: [\"AMSmath.js\"]\n",
       "                           },\n",
       "                tex2jax: {\n",
       "                    inlineMath: [ ['$','$'], [\"\\\\(\",\"\\\\)\"] ],\n",
       "                    displayMath: [ ['$$','$$'], [\"\\\\[\",\"\\\\]\"] ]\n",
       "                },\n",
       "                displayAlign: 'center', // Change this to 'center' to center equations.\n",
       "                \"HTML-CSS\": {\n",
       "                    styles: {'.MathJax_Display': {\"margin\": 4}}\n",
       "                }\n",
       "        });\n",
       "</script>\n"
      ],
      "text/plain": [
       "<IPython.core.display.HTML object>"
      ]
     },
     "execution_count": 15,
     "metadata": {},
     "output_type": "execute_result"
    }
   ],
   "source": [
    "from IPython.core.display import HTML\n",
    "def css_styling():\n",
    "    styles = open(\"../../styles/custom.css\", \"r\").read()\n",
    "    return HTML(styles)\n",
    "css_styling()"
   ]
  },
  {
   "cell_type": "code",
   "execution_count": null,
   "metadata": {},
   "outputs": [],
   "source": []
  }
 ],
 "metadata": {
  "kernelspec": {
   "display_name": "Python 3",
   "language": "python",
   "name": "python3"
  },
  "language_info": {
   "codemirror_mode": {
    "name": "ipython",
    "version": 3
   },
   "file_extension": ".py",
   "mimetype": "text/x-python",
   "name": "python",
   "nbconvert_exporter": "python",
   "pygments_lexer": "ipython3",
   "version": "3.5.2"
  }
 },
 "nbformat": 4,
 "nbformat_minor": 2
}
