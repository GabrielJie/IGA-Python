{
 "cells": [
  {
   "cell_type": "markdown",
   "metadata": {},
   "source": [
    "# 5. Curl-Div operator\n",
    "\n",
    "We consider the following differential operator, in its strong form, on the unit square or cube $\\Omega$:\n",
    "\n",
    "$$\n",
    "\\mathcal{L}^{\\alpha, \\beta} \\mathbf{u} := \\alpha \\nabla \\times \\nabla \\mathbf{u} - \\beta \\nabla (\\nabla \\cdot \\mathbf{u})\n",
    "$$\n",
    "\n",
    "where $\\mathbf{u}$ is supposed to be in $H^1(\\Omega)$ (or $H_0^1(\\Omega)$).\n",
    "\n",
    "For our experiments, we will set $\\alpha = 1$."
   ]
  },
  {
   "cell_type": "code",
   "execution_count": 1,
   "metadata": {},
   "outputs": [],
   "source": [
    "# needed imports\n",
    "from numpy import linspace, meshgrid, pi\n",
    "\n",
    "import matplotlib.pyplot as plt\n",
    "%matplotlib inline\n",
    "\n",
    "from IPython.display import Math\n",
    "\n",
    "from sympy.core.containers import Tuple\n",
    "from sympy import symbols\n",
    "from sympy import Symbol\n",
    "from sympy import Lambda\n",
    "from sympy import IndexedBase\n",
    "\n",
    "from gelato.glt import glt_symbol\n",
    "from gelato.glt import glt_lambdify\n",
    "from gelato.glt import glt_approximate_eigenvalues\n",
    "from gelato.printing.latex import glt_latex\n",
    "from gelato.calculus   import (Dot, Cross, Grad, Curl, Rot, Div)\n",
    "from gelato.fem.assembly import assemble_matrix\n",
    "from gelato.fem.utils    import compile_kernel\n",
    "\n",
    "from spl.fem.splines import SplineSpace\n",
    "from spl.fem.tensor  import TensorSpace\n",
    "from spl.fem.vector  import VectorFemSpace"
   ]
  },
  {
   "cell_type": "markdown",
   "metadata": {},
   "source": [
    "## 2-D case\n",
    "\n",
    "The weak formulation writes:\n",
    "\n",
    "$$\n",
    "a(\\mathbf{v},\\mathbf{u}) = \\int_{\\Omega} \\alpha \\left( \\mathrm{rot}~ \\mathbf{v} \\right)  \\left( \\mathrm{rot}~ \\mathbf{u} \\right) + \\beta \\left( \\nabla \\cdot \\mathbf{v} \\right) \\left( \\nabla \\cdot \\mathbf{u} \\right) ~d\\Omega\n",
    "$$"
   ]
  },
  {
   "cell_type": "code",
   "execution_count": 2,
   "metadata": {},
   "outputs": [],
   "source": [
    "x,y = symbols('x y')\n",
    "\n",
    "u = IndexedBase('u')\n",
    "v = IndexedBase('v')\n",
    "\n",
    "alpha = Symbol('alpha')\n",
    "beta = Symbol('beta')\n",
    "\n",
    "a = Lambda((x,y,v,u), alpha * Rot(v) * Rot(u) + beta * Div(v) * Div(u))"
   ]
  },
  {
   "cell_type": "code",
   "execution_count": 3,
   "metadata": {},
   "outputs": [],
   "source": [
    "# ...  create a finite element space\n",
    "p1  = 3 ; p2  = 3\n",
    "ne1 = 32 ; ne2 = 32\n",
    "\n",
    "grid_1 = linspace(0., 1., ne1+1)\n",
    "grid_2 = linspace(0., 1., ne2+1)\n",
    "\n",
    "V1 = SplineSpace(p1, grid=grid_1)\n",
    "V2 = SplineSpace(p2, grid=grid_2)\n",
    "\n",
    "V = TensorSpace(V1, V2)\n",
    "# ..."
   ]
  },
  {
   "cell_type": "markdown",
   "metadata": {},
   "source": [
    "Let's first compute the GLT-symbol, without evaluating it *symbolicaly*:"
   ]
  },
  {
   "cell_type": "code",
   "execution_count": 4,
   "metadata": {},
   "outputs": [
    {
     "data": {
      "text/latex": [
       "$$2 \\mathfrak{a}_p(\\theta_1) \\mathfrak{a}_p(\\theta_2) \\alpha - 2 \\mathfrak{a}_p(\\theta_1) \\mathfrak{a}_p(\\theta_2) \\beta + \\alpha \\mathfrak{m}_p(\\theta_1) \\mathfrak{s}_p(\\theta_2) + \\alpha \\mathfrak{m}_p(\\theta_2) \\mathfrak{s}_p(\\theta_1) + \\beta \\mathfrak{m}_p(\\theta_1) \\mathfrak{s}_p(\\theta_2) + \\beta \\mathfrak{m}_p(\\theta_2) \\mathfrak{s}_p(\\theta_1)$$"
      ],
      "text/plain": [
       "<IPython.core.display.Math object>"
      ]
     },
     "execution_count": 4,
     "metadata": {},
     "output_type": "execute_result"
    }
   ],
   "source": [
    "symbol = glt_symbol(a, space=V, evaluate=False)\n",
    "\n",
    "Math(glt_latex(symbol))"
   ]
  },
  {
   "cell_type": "code",
   "execution_count": 5,
   "metadata": {},
   "outputs": [],
   "source": [
    "d_constants = {'alpha': 1.}\n",
    "d_types = {'beta': 'double'}"
   ]
  },
  {
   "cell_type": "markdown",
   "metadata": {},
   "source": [
    "We define the FEM kernel, needed to assemble the associated matrix"
   ]
  },
  {
   "cell_type": "code",
   "execution_count": 6,
   "metadata": {},
   "outputs": [],
   "source": [
    "kernel_f90 = compile_kernel('kernel_2d', a, V,\n",
    "                            d_constants=d_constants,\n",
    "                            d_args=d_types,\n",
    "                            backend='fortran')"
   ]
  },
  {
   "cell_type": "markdown",
   "metadata": {},
   "source": [
    "For our experiment, we will use the following value for $\\beta$"
   ]
  },
  {
   "cell_type": "code",
   "execution_count": 7,
   "metadata": {},
   "outputs": [],
   "source": [
    "d_args = {'beta': 1.e-3}"
   ]
  },
  {
   "cell_type": "markdown",
   "metadata": {},
   "source": [
    "We assemble the FEM matrix"
   ]
  },
  {
   "cell_type": "code",
   "execution_count": 8,
   "metadata": {},
   "outputs": [],
   "source": [
    "M = assemble_matrix(V, kernel_f90, args=d_args).tocsr()"
   ]
  },
  {
   "cell_type": "markdown",
   "metadata": {},
   "source": [
    "We compute the eigenvalues, using *Lapack*"
   ]
  },
  {
   "cell_type": "code",
   "execution_count": 9,
   "metadata": {},
   "outputs": [],
   "source": [
    "# import eigenvalue solver\n",
    "from scipy.linalg import eig\n",
    "\n",
    "M = M.todense()\n",
    "w, v = eig(M)\n",
    "wr = w.real\n",
    "wr.sort()"
   ]
  },
  {
   "cell_type": "markdown",
   "metadata": {},
   "source": [
    "We now evaluate oyr symbol, to prepare for the classical comparison with the FEM matrix"
   ]
  },
  {
   "cell_type": "code",
   "execution_count": 10,
   "metadata": {},
   "outputs": [],
   "source": [
    "symbol = glt_symbol(a, space=V, evaluate=True)\n",
    "\n",
    "# ... lambdify the glt symbol\n",
    "# TODO improve\n",
    "symbol = symbol.subs(d_constants)\n",
    "symbol = symbol.subs(d_args)\n",
    "# ..."
   ]
  },
  {
   "cell_type": "markdown",
   "metadata": {},
   "source": [
    "Sampling the GLT symbol in the Fourier space, is done as usual by calling:"
   ]
  },
  {
   "cell_type": "code",
   "execution_count": 11,
   "metadata": {},
   "outputs": [],
   "source": [
    "eig = glt_approximate_eigenvalues(symbol, space=V)\n",
    "t = eig\n",
    "t.sort()"
   ]
  },
  {
   "cell_type": "code",
   "execution_count": 12,
   "metadata": {},
   "outputs": [
    {
     "data": {
      "image/png": "[encoded data removed]",
      "text/plain": [
       "<Figure size 432x288 with 1 Axes>"
      ]
     },
     "metadata": {},
     "output_type": "display_data"
    }
   ],
   "source": [
    "plt.plot(t, \"+b\", label=\"glt symbol\")\n",
    "plt.plot(wr, \"xr\", label=\"eigenvalues\")\n",
    "plt.legend(loc=2);"
   ]
  },
  {
   "cell_type": "markdown",
   "metadata": {},
   "source": [
    "## 3-D case\n",
    "\n",
    "The weak formulation writes:\n",
    "\n",
    "$$\n",
    "a(\\mathbf{v},\\mathbf{u}) = \\int_{\\Omega} \\alpha \\left( \\nabla \\times \\mathbf{v} \\right)  \\left( \\nabla \\times \\mathbf{u} \\right) + \\beta \\left( \\nabla \\cdot \\mathbf{v} \\right) \\left( \\nabla \\cdot \\mathbf{u} \\right) ~d\\Omega\n",
    "$$"
   ]
  },
  {
   "cell_type": "code",
   "execution_count": 2,
   "metadata": {},
   "outputs": [],
   "source": [
    "x,y,z = symbols('x y z')\n",
    "\n",
    "u = IndexedBase('u')\n",
    "v = IndexedBase('v')\n",
    "\n",
    "alpha = Symbol('alpha')\n",
    "beta = Symbol('beta')\n",
    "\n",
    "a = Lambda((x,y,z,v,u), alpha * Dot(Curl(u), Curl(v)) + beta * Div(v) * Div(u))"
   ]
  },
  {
   "cell_type": "code",
   "execution_count": 3,
   "metadata": {},
   "outputs": [],
   "source": [
    "# ...  create a finite element space\n",
    "p1  = 2 ; p2  = 2 ; p3  = 2\n",
    "ne1 = 8 ; ne2 = 8 ; ne3 = 8\n",
    "\n",
    "grid_1 = linspace(0., 1., ne1+1)\n",
    "grid_2 = linspace(0., 1., ne2+1)\n",
    "grid_3 = linspace(0., 1., ne3+1)\n",
    "\n",
    "V1 = SplineSpace(p1, grid=grid_1)\n",
    "V2 = SplineSpace(p2, grid=grid_2)\n",
    "V3 = SplineSpace(p3, grid=grid_3)\n",
    "\n",
    "Vs = TensorSpace(V1, V2, V3)\n",
    "# ...\n",
    "\n",
    "V = VectorFemSpace(Vs, Vs, Vs)"
   ]
  },
  {
   "cell_type": "markdown",
   "metadata": {},
   "source": [
    "Let's first compute the GLT symbol and print it"
   ]
  },
  {
   "cell_type": "code",
   "execution_count": 4,
   "metadata": {},
   "outputs": [
    {
     "data": {
      "text/latex": [
       "$$\\left[\\begin{matrix}\\alpha \\mathfrak{m}_p(\\theta_1) \\mathfrak{m}_p(\\theta_2) \\mathfrak{s}_p(\\theta_3) + \\alpha \\mathfrak{m}_p(\\theta_1) \\mathfrak{m}_p(\\theta_3) \\mathfrak{s}_p(\\theta_2) + \\beta \\mathfrak{m}_p(\\theta_2) \\mathfrak{m}_p(\\theta_3) \\mathfrak{s}_p(\\theta_1) & \\mathfrak{a}_p(\\theta_1) \\mathfrak{a}_p(\\theta_2) \\alpha \\mathfrak{m}_p(\\theta_3) - \\mathfrak{a}_p(\\theta_1) \\mathfrak{a}_p(\\theta_2) \\beta \\mathfrak{m}_p(\\theta_3) & \\mathfrak{a}_p(\\theta_1) \\mathfrak{a}_p(\\theta_3) \\alpha \\mathfrak{m}_p(\\theta_2) - \\mathfrak{a}_p(\\theta_1) \\mathfrak{a}_p(\\theta_3) \\beta \\mathfrak{m}_p(\\theta_2)\\\\\\mathfrak{a}_p(\\theta_1) \\mathfrak{a}_p(\\theta_2) \\alpha \\mathfrak{m}_p(\\theta_3) - \\mathfrak{a}_p(\\theta_1) \\mathfrak{a}_p(\\theta_2) \\beta \\mathfrak{m}_p(\\theta_3) & \\alpha \\mathfrak{m}_p(\\theta_1) \\mathfrak{m}_p(\\theta_2) \\mathfrak{s}_p(\\theta_3) + \\alpha \\mathfrak{m}_p(\\theta_2) \\mathfrak{m}_p(\\theta_3) \\mathfrak{s}_p(\\theta_1) + \\beta \\mathfrak{m}_p(\\theta_1) \\mathfrak{m}_p(\\theta_3) \\mathfrak{s}_p(\\theta_2) & \\mathfrak{a}_p(\\theta_2) \\mathfrak{a}_p(\\theta_3) \\alpha \\mathfrak{m}_p(\\theta_1) - \\mathfrak{a}_p(\\theta_2) \\mathfrak{a}_p(\\theta_3) \\beta \\mathfrak{m}_p(\\theta_1)\\\\\\mathfrak{a}_p(\\theta_1) \\mathfrak{a}_p(\\theta_3) \\alpha \\mathfrak{m}_p(\\theta_2) - \\mathfrak{a}_p(\\theta_1) \\mathfrak{a}_p(\\theta_3) \\beta \\mathfrak{m}_p(\\theta_2) & \\mathfrak{a}_p(\\theta_2) \\mathfrak{a}_p(\\theta_3) \\alpha \\mathfrak{m}_p(\\theta_1) - \\mathfrak{a}_p(\\theta_2) \\mathfrak{a}_p(\\theta_3) \\beta \\mathfrak{m}_p(\\theta_1) & \\alpha \\mathfrak{m}_p(\\theta_1) \\mathfrak{m}_p(\\theta_3) \\mathfrak{s}_p(\\theta_2) + \\alpha \\mathfrak{m}_p(\\theta_2) \\mathfrak{m}_p(\\theta_3) \\mathfrak{s}_p(\\theta_1) + \\beta \\mathfrak{m}_p(\\theta_1) \\mathfrak{m}_p(\\theta_2) \\mathfrak{s}_p(\\theta_3)\\end{matrix}\\right]$$"
      ],
      "text/plain": [
       "<IPython.core.display.Math object>"
      ]
     },
     "execution_count": 4,
     "metadata": {},
     "output_type": "execute_result"
    }
   ],
   "source": [
    "symbol = glt_symbol(a, space=V, evaluate=False)\n",
    "\n",
    "Math(glt_latex(symbol))"
   ]
  },
  {
   "cell_type": "code",
   "execution_count": 5,
   "metadata": {},
   "outputs": [],
   "source": [
    "d_constants = {'alpha': 1.}\n",
    "d_types = {'beta': 'double'}"
   ]
  },
  {
   "cell_type": "code",
   "execution_count": null,
   "metadata": {},
   "outputs": [],
   "source": [
    "# TODO\n",
    "kernel_f90 = compile_kernel('kernel_3d', a, V,\n",
    "                            d_constants=d_constants,\n",
    "                            d_args=d_types,\n",
    "                            backend='fortran')"
   ]
  },
  {
   "cell_type": "code",
   "execution_count": 6,
   "metadata": {},
   "outputs": [],
   "source": [
    "d_args = {'beta': 1.e-3}"
   ]
  },
  {
   "cell_type": "code",
   "execution_count": null,
   "metadata": {},
   "outputs": [],
   "source": [
    "# TODO\n",
    "M = assemble_matrix(V, kernel_f90, args=d_args).tocsr()"
   ]
  },
  {
   "cell_type": "code",
   "execution_count": null,
   "metadata": {},
   "outputs": [],
   "source": [
    "# TODO\n",
    "# import eigenvalue solver\n",
    "from scipy.linalg import eig\n",
    "\n",
    "M = M.todense()\n",
    "w, v = eig(M)\n",
    "wr = w.real\n",
    "wr.sort()"
   ]
  },
  {
   "cell_type": "code",
   "execution_count": 7,
   "metadata": {},
   "outputs": [],
   "source": [
    "symbol = glt_symbol(a, space=V, evaluate=True)\n",
    "\n",
    "# ... lambdify the glt symbol\n",
    "# TODO improve\n",
    "symbol = symbol.subs(d_constants)\n",
    "symbol = symbol.subs(d_args)\n",
    "# ..."
   ]
  },
  {
   "cell_type": "code",
   "execution_count": 8,
   "metadata": {},
   "outputs": [],
   "source": [
    "eig = glt_approximate_eigenvalues(symbol, space=V)\n",
    "t = eig\n",
    "t.sort()"
   ]
  },
  {
   "cell_type": "code",
   "execution_count": 9,
   "metadata": {},
   "outputs": [
    {
     "data": {
      "image/png": "[encoded data removed]",
      "text/plain": [
       "<Figure size 432x288 with 1 Axes>"
      ]
     },
     "metadata": {},
     "output_type": "display_data"
    }
   ],
   "source": [
    "plt.plot(t, \"+b\", label=\"glt symbol\")\n",
    "#plt.plot(wr, \"xr\", label=\"eigenvalues\")\n",
    "plt.legend(loc=2);"
   ]
  },
  {
   "cell_type": "code",
   "execution_count": null,
   "metadata": {},
   "outputs": [],
   "source": []
  },
  {
   "cell_type": "code",
   "execution_count": 13,
   "metadata": {},
   "outputs": [
    {
     "data": {
      "text/html": [
       "<link href='http://fonts.googleapis.com/css?family=Fenix' rel='stylesheet' type='text/css'>\n",
       "<link href='http://fonts.googleapis.com/css?family=Alegreya+Sans:100,300,400,500,700,800,900,100italic,300italic,400italic,500italic,700italic,800italic,900italic' rel='stylesheet' type='text/css'>\n",
       "<link href='http://fonts.googleapis.com/css?family=Source+Code+Pro:300,400' rel='stylesheet' type='text/css'>\n",
       "<style>\n",
       "    @font-face {\n",
       "        font-family: \"Computer Modern\";\n",
       "        src: url('http://mirrors.ctan.org/fonts/cm-unicode/fonts/otf/cmunss.otf');\n",
       "    }\n",
       "    div.cell{\n",
       "        width:600px;\n",
       "        margin-left:16% !important;\n",
       "        margin-right:auto;\n",
       "    }\n",
       "    h1 {\n",
       "        font-family: 'Alegreya Sans', sans-serif;\n",
       "    }\n",
       "    h2 {\n",
       "        font-family: 'Fenix', serif;\n",
       "    }\n",
       "    h3{\n",
       "\t\tfont-family: 'Fenix', serif;\n",
       "        margin-top:12px;\n",
       "        margin-bottom: 3px;\n",
       "       }\n",
       "\th4{\n",
       "\t\tfont-family: 'Fenix', serif;\n",
       "       }\n",
       "    h5 {\n",
       "        font-family: 'Alegreya Sans', sans-serif;\n",
       "    }\t   \n",
       "    div.text_cell_render{\n",
       "        font-family: 'Alegreya Sans',Computer Modern, \"Helvetica Neue\", Arial, Helvetica, Geneva, sans-serif;\n",
       "        line-height: 135%;\n",
       "        font-size: 120%;\n",
       "        width:600px;\n",
       "        margin-left:auto;\n",
       "        margin-right:auto;\n",
       "    }\n",
       "    .CodeMirror{\n",
       "            font-family: \"Source Code Pro\";\n",
       "\t\t\tfont-size: 90%;\n",
       "    }\n",
       "/*    .prompt{\n",
       "        display: None;\n",
       "    }*/\n",
       "    .text_cell_render h1 {\n",
       "        font-weight: 200;\n",
       "        font-size: 50pt;\n",
       "\t\tline-height: 100%;\n",
       "        color:#054BCD;\n",
       "        margin-bottom: 0.5em;\n",
       "        margin-top: 0.5em;\n",
       "        display: block;\n",
       "    }\t\n",
       "    .text_cell_render h5 {\n",
       "        font-weight: 300;\n",
       "        font-size: 16pt;\n",
       "        color: #054BCD;\n",
       "        font-style: italic;\n",
       "        margin-bottom: .5em;\n",
       "        margin-top: 0.5em;\n",
       "        display: block;\n",
       "    }\n",
       "    \n",
       "    .warning{\n",
       "        color: rgb( 240, 20, 20 )\n",
       "        }  \n",
       "</style>\n",
       "<script>\n",
       "    MathJax.Hub.Config({\n",
       "                        TeX: {\n",
       "                           extensions: [\"AMSmath.js\"]\n",
       "                           },\n",
       "                tex2jax: {\n",
       "                    inlineMath: [ ['$','$'], [\"\\\\(\",\"\\\\)\"] ],\n",
       "                    displayMath: [ ['$$','$$'], [\"\\\\[\",\"\\\\]\"] ]\n",
       "                },\n",
       "                displayAlign: 'center', // Change this to 'center' to center equations.\n",
       "                \"HTML-CSS\": {\n",
       "                    styles: {'.MathJax_Display': {\"margin\": 4}}\n",
       "                }\n",
       "        });\n",
       "</script>\n"
      ],
      "text/plain": [
       "<IPython.core.display.HTML object>"
      ]
     },
     "execution_count": 13,
     "metadata": {},
     "output_type": "execute_result"
    }
   ],
   "source": [
    "from IPython.core.display import HTML\n",
    "def css_styling():\n",
    "    styles = open(\"../../styles/custom.css\", \"r\").read()\n",
    "    return HTML(styles)\n",
    "css_styling()"
   ]
  },
  {
   "cell_type": "code",
   "execution_count": null,
   "metadata": {},
   "outputs": [],
   "source": []
  }
 ],
 "metadata": {
  "kernelspec": {
   "display_name": "Python 3",
   "language": "python",
   "name": "python3"
  },
  "language_info": {
   "codemirror_mode": {
    "name": "ipython",
    "version": 3
   },
   "file_extension": ".py",
   "mimetype": "text/x-python",
   "name": "python",
   "nbconvert_exporter": "python",
   "pygments_lexer": "ipython3",
   "version": "3.5.2"
  }
 },
 "nbformat": 4,
 "nbformat_minor": 2
}
