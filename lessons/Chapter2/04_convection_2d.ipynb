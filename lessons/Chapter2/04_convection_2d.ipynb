{
 "cells": [
  {
   "cell_type": "markdown",
   "metadata": {},
   "source": [
    "# 1. 2D Linear Convection\n",
    "\n",
    "We consider the 1d linear Convection equation, under a constant velocity\n",
    "\n",
    "$$\n",
    "\\partial_t u + \\mathbf{a} \\cdot \\nabla u = 0\n",
    "$$"
   ]
  },
  {
   "cell_type": "code",
   "execution_count": 1,
   "metadata": {},
   "outputs": [],
   "source": [
    "# needed imports\n",
    "from numpy import zeros, ones, linspace, zeros_like\n",
    "from matplotlib.pyplot import plot, contourf, show, colorbar\n",
    "%matplotlib inline"
   ]
  },
  {
   "cell_type": "code",
   "execution_count": 2,
   "metadata": {},
   "outputs": [],
   "source": [
    "# Initial condition\n",
    "import numpy as np\n",
    "u0 = lambda x,y: np.exp(-(x-.3)**2/.05**2)*np.exp(-(y-.3)**2/.05**2)\n",
    "\n",
    "ts = linspace(0., 1., 401)\n",
    "x,y = np.meshgrid(ts,ts)\n",
    "u = u0(x,y) "
   ]
  },
  {
   "cell_type": "code",
   "execution_count": 3,
   "metadata": {},
   "outputs": [
    {
     "data": {
      "image/png": "[encoded data removed]",
      "text/plain": [
       "<Figure size 432x288 with 2 Axes>"
      ]
     },
     "metadata": {
      "needs_background": "light"
     },
     "output_type": "display_data"
    }
   ],
   "source": [
    "contourf(x,y, u); colorbar() ; show()"
   ]
  },
  {
   "cell_type": "markdown",
   "metadata": {},
   "source": [
    "### Time scheme\n",
    "\n",
    "$$\\frac{u^{n+1}-u^n}{\\Delta t} + \\mathbf{a} \\cdot \\nabla u^{n+1} = 0 $$\n",
    "\n",
    "$$ \\left(I + \\Delta t \\mathbf{a} \\cdot \\nabla \\right) u^{n+1} = u^n $$\n",
    "\n",
    "### Weak formulation\n",
    "\n",
    "$$\n",
    "\\langle v, u^{n+1} \\rangle + \\Delta t ~ \\langle v, \\mathbf{a} \\cdot \\nabla u^{n+1} \\rangle = \\langle v, u^n \\rangle\n",
    "$$\n",
    "if we assume $\\mathbf{a} = \\left( a_1, a_2 \\right)^T$ is a constant, then our weak formulation writes\n",
    "$$\n",
    "\\langle v, u^{n+1} \\rangle - \\Delta t ~ \\langle \\mathbf{a} \\cdot \\nabla v ,  u^{n+1} \\rangle = \\langle v, u^n \\rangle\n",
    "$$\n",
    "\n",
    "expending $u^n$ over the fem basis, we get the linear system\n",
    "\n",
    "$$A U^{n+1} = M U^n$$\n",
    "\n",
    "where\n",
    "\n",
    "$$\n",
    "M_{ij} = \\langle b_i, b_j \\rangle\n",
    "$$\n",
    "\n",
    "$$\n",
    "A_{ij} = \\langle b_i, b_j \\rangle - \\Delta t ~ \\langle \\mathbf{a} \\cdot \\nabla b_i, b_j \\rangle\n",
    "$$\n"
   ]
  },
  {
   "cell_type": "markdown",
   "metadata": {},
   "source": [
    "## Abstract Model using SymPDE"
   ]
  },
  {
   "cell_type": "code",
   "execution_count": 4,
   "metadata": {},
   "outputs": [],
   "source": [
    "from sympde.core import Constant\n",
    "from sympde.expr import BilinearForm, LinearForm, integral\n",
    "from sympde.topology import ScalarFunctionSpace, Square, element_of, grad, dot\n",
    "from sympy import Tuple"
   ]
  },
  {
   "cell_type": "code",
   "execution_count": 5,
   "metadata": {},
   "outputs": [],
   "source": [
    "# ... abstract model\n",
    "domain = Square()\n",
    "\n",
    "V = ScalarFunctionSpace('V', domain)\n",
    "\n",
    "x,y = domain.coordinates\n",
    "\n",
    "u,v = [element_of(V, name=i) for i in ['u', 'v']]\n",
    "\n",
    "a1 = Constant('a1')\n",
    "a2 = Constant('a2')\n",
    "dt = Constant('dt')\n",
    "\n",
    "a = Tuple(a1,a2)\n",
    "\n",
    "# bilinear form\n",
    "# expr = v*u - c*dt*dx(v)*u # TODO BUG not working\n",
    "expr = v*u + dt* dot(a, grad(u))*v\n",
    "a = BilinearForm((u,v), integral(domain , expr))\n",
    "\n",
    "# bilinear form for the mass matrix\n",
    "expr = u*v\n",
    "m  = BilinearForm((u,v), integral(domain , expr))\n",
    "\n",
    "# linear form for initial condition\n",
    "from sympy import exp\n",
    "expr = exp(-(x-.3)**2/.05**2)*exp(-(y-.3)**2/.05**2)*v\n",
    "l = LinearForm(v, integral(domain, expr))"
   ]
  },
  {
   "cell_type": "markdown",
   "metadata": {},
   "source": [
    "## Discretization using Psydac"
   ]
  },
  {
   "cell_type": "code",
   "execution_count": 6,
   "metadata": {},
   "outputs": [],
   "source": [
    "from psydac.api.discretization import discretize"
   ]
  },
  {
   "cell_type": "code",
   "execution_count": 17,
   "metadata": {},
   "outputs": [],
   "source": [
    "a1 = 1. ; a2 = 0. # wavespeed\n",
    "T = 0.25  # T final time\n",
    "dt = 0.001\n",
    "niter = int(T / dt)\n",
    "\n",
    "degree = [3,3]    # spline degree\n",
    "ncells = [64,64]   # number of elements"
   ]
  },
  {
   "cell_type": "code",
   "execution_count": 18,
   "metadata": {},
   "outputs": [],
   "source": [
    "# Create computational domain from topological domain\n",
    "domain_h = discretize(domain, ncells=ncells, comm=None)\n",
    "\n",
    "# Discrete spaces\n",
    "Vh = discretize(V, domain_h, degree=degree)\n",
    "\n",
    "# Discretize the bilinear forms\n",
    "ah = discretize(a, domain_h, [Vh, Vh])\n",
    "mh = discretize(m, domain_h, [Vh, Vh])\n",
    "\n",
    "# Discretize the linear form for the initial condition\n",
    "lh = discretize(l, domain_h, Vh)"
   ]
  },
  {
   "cell_type": "code",
   "execution_count": 19,
   "metadata": {},
   "outputs": [],
   "source": [
    "# assemble matrices and convert them to scipy\n",
    "M = mh.assemble().tosparse()\n",
    "A = ah.assemble(a1=a1, a2=a2, dt=dt).tosparse()\n",
    "\n",
    "# assemble the rhs and convert it to numpy array\n",
    "rhs = lh.assemble().toarray()"
   ]
  },
  {
   "cell_type": "code",
   "execution_count": 20,
   "metadata": {},
   "outputs": [],
   "source": [
    "from scipy.sparse.linalg import cg, gmres"
   ]
  },
  {
   "cell_type": "code",
   "execution_count": 21,
   "metadata": {},
   "outputs": [],
   "source": [
    "# L2 projection of the initial condition\n",
    "un, status = cg(M, rhs, tol=1.e-8, maxiter=5000) "
   ]
  },
  {
   "cell_type": "code",
   "execution_count": 22,
   "metadata": {},
   "outputs": [
    {
     "data": {
      "image/png": "[encoded data removed]",
      "text/plain": [
       "<Figure size 432x288 with 2 Axes>"
      ]
     },
     "metadata": {
      "needs_background": "light"
     },
     "output_type": "display_data"
    }
   ],
   "source": [
    "from simplines import plot_field_2d\n",
    "\n",
    "nbasis = [W.nbasis for W in Vh.spaces]\n",
    "plot_field_2d(Vh.knots, Vh.degree, un.reshape(nbasis)) ; colorbar() ; show()"
   ]
  },
  {
   "cell_type": "code",
   "execution_count": 23,
   "metadata": {},
   "outputs": [],
   "source": [
    "for i in range(0, niter):\n",
    "    b = M.dot(un)\n",
    "    un, status = gmres(A, b, tol=1.e-8, maxiter=5000)"
   ]
  },
  {
   "cell_type": "code",
   "execution_count": 24,
   "metadata": {},
   "outputs": [
    {
     "data": {
      "image/png": "[encoded data removed]",
      "text/plain": [
       "<Figure size 432x288 with 2 Axes>"
      ]
     },
     "metadata": {
      "needs_background": "light"
     },
     "output_type": "display_data"
    }
   ],
   "source": [
    "nbasis = [W.nbasis for W in Vh.spaces]\n",
    "plot_field_2d(Vh.knots, Vh.degree, un.reshape(nbasis)) ; colorbar() ; show()"
   ]
  },
  {
   "cell_type": "code",
   "execution_count": null,
   "metadata": {},
   "outputs": [],
   "source": []
  },
  {
   "cell_type": "code",
   "execution_count": null,
   "metadata": {},
   "outputs": [],
   "source": []
  }
 ],
 "metadata": {
  "kernelspec": {
   "display_name": ".iga-python",
   "language": "python",
   "name": ".iga-python"
  },
  "language_info": {
   "codemirror_mode": {
    "name": "ipython",
    "version": 3
   },
   "file_extension": ".py",
   "mimetype": "text/x-python",
   "name": "python",
   "nbconvert_exporter": "python",
   "pygments_lexer": "ipython3",
   "version": "3.8.5"
  }
 },
 "nbformat": 4,
 "nbformat_minor": 2
}
