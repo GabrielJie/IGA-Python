{
 "cells": [
  {
   "cell_type": "markdown",
   "metadata": {},
   "source": [
    "# 1-D Convection-Diffusion equation\n",
    "\n",
    "In this tutorial, we consider the **1D** convection-diffusion equation\n",
    "\n",
    "$$\n",
    "\\frac{\\partial u}{\\partial t} + c \\partial_x u - \\nu \\frac{\\partial^2 u}{\\partial x^2} = 0\n",
    "$$"
   ]
  },
  {
   "cell_type": "code",
   "execution_count": 1,
   "metadata": {},
   "outputs": [],
   "source": [
    "# needed imports\n",
    "from numpy import zeros, ones, linspace, zeros_like\n",
    "from matplotlib.pyplot import plot, show\n",
    "%matplotlib inline"
   ]
  },
  {
   "cell_type": "code",
   "execution_count": 2,
   "metadata": {},
   "outputs": [
    {
     "data": {
      "image/png": "[encoded data removed]",
      "text/plain": [
       "<Figure size 432x288 with 1 Axes>"
      ]
     },
     "metadata": {
      "needs_background": "light"
     },
     "output_type": "display_data"
    }
   ],
   "source": [
    "# Initial condition\n",
    "import numpy as np\n",
    "u0 = lambda x: np.exp(-(x-.5)**2/.05**2)\n",
    "\n",
    "grid = linspace(0., 1., 401)\n",
    "u = u0(grid) \n",
    "plot(grid, u) ; show()"
   ]
  },
  {
   "cell_type": "markdown",
   "metadata": {},
   "source": [
    "### Time scheme\n",
    "\n",
    "$$\\frac{u^{n+1}-u^n}{\\Delta t}  + c \\partial_x u^{n+1} - \\nu \\partial_{xx} u^{n+1} = 0 $$\n",
    "\n",
    "$$ \\left(I + c \\Delta t \\partial_x - \\nu \\Delta t \\partial_{xx} \\right) u^{n+1} = u^n $$"
   ]
  },
  {
   "cell_type": "markdown",
   "metadata": {},
   "source": [
    "### Weak formulation\n",
    "\n",
    "$$\n",
    "\\langle v, u^{n+1} \\rangle - c \\Delta t ~ \\langle \\partial_x v, u^{n+1} \\rangle + \\nu \\Delta t ~ \\langle \\partial_x v, \\partial_x u^{n+1} \\rangle = \\langle v, u^n \\rangle\n",
    "$$\n",
    "expending $u^n$ over the fem basis, we get the linear system\n",
    "\n",
    "$$A U^{n+1} = M U^n$$\n",
    "\n",
    "where\n",
    "\n",
    "$$\n",
    "M_{ij} = \\langle b_i, b_j \\rangle\n",
    "$$\n",
    "\n",
    "$$\n",
    "A_{ij} = \\langle b_i, b_j \\rangle - c \\Delta t ~ \\langle \\partial_x b_i, b_j \\rangle + \\nu \\Delta t ~ \\langle \\partial_x b_i, \\partial_x b_j \\rangle\n",
    "$$"
   ]
  },
  {
   "cell_type": "markdown",
   "metadata": {},
   "source": [
    "## Abstract Model using SymPDE"
   ]
  },
  {
   "cell_type": "code",
   "execution_count": 3,
   "metadata": {},
   "outputs": [],
   "source": [
    "from sympde.core import Constant\n",
    "from sympde.expr import BilinearForm, LinearForm, integral\n",
    "from sympde.topology import ScalarFunctionSpace, Line, element_of, dx\n",
    "from sympde.topology import dx1 # TODO: this is a bug right now"
   ]
  },
  {
   "cell_type": "code",
   "execution_count": 4,
   "metadata": {},
   "outputs": [],
   "source": [
    "# ... abstract model\n",
    "domain = Line()\n",
    "\n",
    "V = ScalarFunctionSpace('V', domain)\n",
    "\n",
    "x = domain.coordinates\n",
    "\n",
    "u,v = [element_of(V, name=i) for i in ['u', 'v']]\n",
    "\n",
    "c = Constant('c')\n",
    "nu = Constant('nu')\n",
    "dt = Constant('dt')\n",
    "\n",
    "# bilinear form\n",
    "# expr = v*u - c*dt*dx(v)*u # TODO BUG not working\n",
    "expr = v*u - c*dt*dx1(v)*u + nu*dt*dx1(v)*dx1(u)\n",
    "a = BilinearForm((u,v), integral(domain , expr))\n",
    "\n",
    "# bilinear form for the mass matrix\n",
    "expr = u*v\n",
    "m  = BilinearForm((u,v), integral(domain , expr))\n",
    "\n",
    "# linear form for initial condition\n",
    "from sympy import exp\n",
    "expr = exp(-(x-.5)**2/.05**2)*v\n",
    "l = LinearForm(v, integral(domain, expr))"
   ]
  },
  {
   "cell_type": "markdown",
   "metadata": {},
   "source": [
    "## Discretization using Psydac"
   ]
  },
  {
   "cell_type": "code",
   "execution_count": 5,
   "metadata": {},
   "outputs": [],
   "source": [
    "from psydac.api.discretization import discretize"
   ]
  },
  {
   "cell_type": "code",
   "execution_count": 6,
   "metadata": {},
   "outputs": [],
   "source": [
    "c = 1     # wavespeed\n",
    "nu = 0.01   # viscosity\n",
    "T = 0.2  # T final time\n",
    "dt = 0.001\n",
    "niter = int(T / dt)\n",
    "\n",
    "degree = [3]    # spline degree\n",
    "ncells = [64]   # number of elements"
   ]
  },
  {
   "cell_type": "code",
   "execution_count": 7,
   "metadata": {},
   "outputs": [],
   "source": [
    "# Create computational domain from topological domain\n",
    "domain_h = discretize(domain, ncells=ncells, comm=None)\n",
    "\n",
    "# Discrete spaces\n",
    "Vh = discretize(V, domain_h, degree=degree)\n",
    "\n",
    "# Discretize the bilinear forms\n",
    "ah = discretize(a, domain_h, [Vh, Vh])\n",
    "mh = discretize(m, domain_h, [Vh, Vh])\n",
    "\n",
    "# Discretize the linear form for the initial condition\n",
    "lh = discretize(l, domain_h, Vh)"
   ]
  },
  {
   "cell_type": "code",
   "execution_count": 8,
   "metadata": {},
   "outputs": [],
   "source": [
    "# assemble matrices and convert them to scipy\n",
    "M = mh.assemble().tosparse()\n",
    "A = ah.assemble(c=c, nu=nu, dt=dt).tosparse()\n",
    "\n",
    "# assemble the rhs and convert it to numpy array\n",
    "rhs = lh.assemble().toarray()"
   ]
  },
  {
   "cell_type": "code",
   "execution_count": 9,
   "metadata": {},
   "outputs": [],
   "source": [
    "from scipy.sparse.linalg import cg, gmres"
   ]
  },
  {
   "cell_type": "code",
   "execution_count": 10,
   "metadata": {},
   "outputs": [],
   "source": [
    "# L2 projection of the initial condition\n",
    "un, status = cg(M, rhs, tol=1.e-8, maxiter=5000) "
   ]
  },
  {
   "cell_type": "code",
   "execution_count": 11,
   "metadata": {},
   "outputs": [
    {
     "data": {
      "image/png": "[encoded data removed]",
      "text/plain": [
       "<Figure size 432x288 with 1 Axes>"
      ]
     },
     "metadata": {
      "needs_background": "light"
     },
     "output_type": "display_data"
    }
   ],
   "source": [
    "from simplines import plot_field_1d\n",
    "plot_field_1d(Vh.knots[0], Vh.degree[0], un, nx=401)"
   ]
  },
  {
   "cell_type": "code",
   "execution_count": 12,
   "metadata": {},
   "outputs": [],
   "source": [
    "for i in range(0, niter):\n",
    "    b = M.dot(un)\n",
    "    un, status = gmres(A, b, tol=1.e-8, maxiter=5000)"
   ]
  },
  {
   "cell_type": "code",
   "execution_count": 13,
   "metadata": {},
   "outputs": [
    {
     "data": {
      "image/png": "[encoded data removed]",
      "text/plain": [
       "<Figure size 432x288 with 1 Axes>"
      ]
     },
     "metadata": {
      "needs_background": "light"
     },
     "output_type": "display_data"
    }
   ],
   "source": [
    "plot_field_1d(Vh.knots[0], Vh.degree[0], un, nx=401)"
   ]
  },
  {
   "cell_type": "code",
   "execution_count": null,
   "metadata": {},
   "outputs": [],
   "source": []
  },
  {
   "cell_type": "code",
   "execution_count": null,
   "metadata": {},
   "outputs": [],
   "source": []
  }
 ],
 "metadata": {
  "kernelspec": {
   "display_name": ".iga-python",
   "language": "python",
   "name": ".iga-python"
  },
  "language_info": {
   "codemirror_mode": {
    "name": "ipython",
    "version": 3
   },
   "file_extension": ".py",
   "mimetype": "text/x-python",
   "name": "python",
   "nbconvert_exporter": "python",
   "pygments_lexer": "ipython3",
   "version": "3.8.5"
  }
 },
 "nbformat": 4,
 "nbformat_minor": 2
}
