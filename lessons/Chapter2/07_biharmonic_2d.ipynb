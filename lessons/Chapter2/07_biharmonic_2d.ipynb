{
 "cells": [
  {
   "cell_type": "markdown",
   "metadata": {},
   "source": [
    "# 2D Biharmonic equation"
   ]
  },
  {
   "cell_type": "markdown",
   "metadata": {},
   "source": [
    "We now consider the (inhomogeneous) biharmonic equation on the unit square $\\Omega := (0,1) \\times (0,1)$, with homogeneous essential boundary conditions on all sides.\n",
    "Given a function $f \\colon \\Omega \\to \\mathbb{R}$, we search for a solution $\\phi \\colon \\Omega \\to \\mathbb{R}$ that satisfies\n",
    "\n",
    "\\begin{equation}\n",
    "\\label{eq:BiharmonicEx_Dir_Strong}\n",
    "\\left\\{\n",
    "\\begin{aligned}\n",
    "        \\nabla^4 \\phi &= f  && \\text{in $\\Omega$}, \\\\\n",
    "                    \\phi &= 0  && \\text{on $\\partial\\Omega$}, \\\\\n",
    "     \\nabla \\phi \\cdot \\mathbf{n} &= 0  && \\text{on $\\partial\\Omega$},\n",
    "\\end{aligned}\n",
    "\\right.\n",
    "\\end{equation}\n",
    "where $\\mathbf{n}$ is the unit vector normal to the boundary, pointing outwards.\n",
    "\n",
    "If we let $f \\in L^2(\\Omega)$ and choose $H^2_0(\\Omega)$ for the trial and test spaces, the weak formulation of reads:\n",
    "\n",
    "\\begin{equation}\n",
    "\\label{eq:BiharmonicEx_Dir_Weak}\n",
    "        \\text{Find $\\phi \\in H^2_0(\\Omega)$ s.t.}\n",
    "\\quad\n",
    "        \\int_{\\Omega} \\nabla^2\\phi\\, \\nabla^2\\psi ~d\\Omega = \\int_{\\Omega} f \\psi ~d\\Omega\n",
    "\\quad\n",
    "        \\forall \\psi \\in H^2_0(\\Omega).\n",
    "\\end{equation}\n",
    "\n",
    "For testing purposes we choose a manufactured solution $\\phi$ that vanishes at the boundary, and whose gradient also vanishes:\n",
    "\n",
    "\\begin{equation}\n",
    "\\begin{split}\n",
    "        \\phi(x,y) &:= \\sin^2(\\pi x) \\sin^2(\\pi y), \\\\\n",
    "           f(x,y) &:= \\pi^{4} \\left(64 \\sin^{2}{\\left (\\pi x \\right )} \\sin^{2}{\\left (\\pi y \\right )}\n",
    "                     - 24 \\sin^{2}{\\left (\\pi x \\right )} - 24 \\sin^{2}{\\left (\\pi y \\right )} + 8\\right).\n",
    "\\end{split}\n",
    "\\end{equation}"
   ]
  },
  {
   "cell_type": "code",
   "execution_count": 12,
   "metadata": {},
   "outputs": [
    {
     "data": {
      "image/png": "[encoded data removed]",
      "text/plain": [
       "<Figure size 432x288 with 2 Axes>"
      ]
     },
     "metadata": {
      "needs_background": "light"
     },
     "output_type": "display_data"
    }
   ],
   "source": [
    "# Exact solution\n",
    "import numpy as np\n",
    "u = lambda x,y: (np.sin(np.pi*x)*np.sin(np.pi*y))**2\n",
    "\n",
    "ts = np.linspace(0., 1., 401)\n",
    "x,y = np.meshgrid(ts,ts)\n",
    "contourf(x,y, u(x,y)); colorbar() ; show()"
   ]
  },
  {
   "cell_type": "markdown",
   "metadata": {},
   "source": [
    "### Abstract Model"
   ]
  },
  {
   "cell_type": "code",
   "execution_count": 1,
   "metadata": {},
   "outputs": [],
   "source": [
    "from sympy  import sin, pi\n",
    "\n",
    "from sympde.calculus import laplace, dot, grad\n",
    "from sympde.topology import Square, NormalVector\n",
    "from sympde.topology import ScalarFunctionSpace, element_of\n",
    "from sympde.expr     import integral, BilinearForm, LinearForm\n",
    "from sympde.expr     import EssentialBC, find, Norm\n",
    "\n",
    "from psydac.api.discretization import discretize"
   ]
  },
  {
   "cell_type": "code",
   "execution_count": 18,
   "metadata": {},
   "outputs": [],
   "source": [
    "# Define topological domain\n",
    "Omega = Square()\n",
    "\n",
    "# Method of manufactured solutions: define exact\n",
    "# solution phi_e, then compute right-hand side f\n",
    "x, y  = Omega.coordinates\n",
    "phi_e = (sin(pi*x)*sin(pi*y))**2\n",
    "f     = laplace(laplace(phi_e))\n",
    "\n",
    "# Define abstract model\n",
    "V = ScalarFunctionSpace('V', Omega)\n",
    "v = element_of(V, name='v')\n",
    "u = element_of(V, name='u')\n",
    "\n",
    "a = BilinearForm((u,v), integral(Omega, laplace(v) * laplace(u)))\n",
    "l =   LinearForm(   v , integral(Omega, f * v))\n",
    "\n",
    "nn = NormalVector('nn')\n",
    "bc = [EssentialBC(               u, 0, Omega.boundary),\n",
    "      EssentialBC(dot(grad(u), nn), 0, Omega.boundary)]\n",
    "\n",
    "equation = find(u, forall=v, lhs=a(u,v), rhs=l(v), bc=bc)\n",
    "\n",
    "# Define (abstract) error norms\n",
    "phi    = element_of(V, name='phi')\n",
    "error  = phi - phi_e\n",
    "l2norm = Norm(error, Omega, kind='l2')\n",
    "h1norm = Norm(error, Omega, kind='h1')\n",
    "h2norm = Norm(error, Omega, kind='h2')"
   ]
  },
  {
   "cell_type": "markdown",
   "metadata": {},
   "source": [
    "### Discretization"
   ]
  },
  {
   "cell_type": "code",
   "execution_count": 24,
   "metadata": {},
   "outputs": [],
   "source": [
    "degree = [3,3]\n",
    "ncells = [16,16]"
   ]
  },
  {
   "cell_type": "code",
   "execution_count": 25,
   "metadata": {},
   "outputs": [],
   "source": [
    "# Create computational domain from topological domain\n",
    "Omega_h = discretize(Omega, ncells=ncells, comm=None)\n",
    "\n",
    "# Create discrete spline space\n",
    "Vh = discretize(V, Omega_h, degree=degree)\n",
    "\n",
    "# Discretize equation\n",
    "equation_h = discretize(equation, Omega_h, [Vh, Vh])\n",
    "\n",
    "# Discretize norms\n",
    "l2norm_h = discretize(l2norm, Omega_h, Vh)\n",
    "h1norm_h = discretize(h1norm, Omega_h, Vh)\n",
    "h2norm_h = discretize(h2norm, Omega_h, Vh)"
   ]
  },
  {
   "cell_type": "markdown",
   "metadata": {},
   "source": [
    "### Solving the PDE"
   ]
  },
  {
   "cell_type": "code",
   "execution_count": 22,
   "metadata": {},
   "outputs": [],
   "source": [
    "# Solve discrete equation to obtain numerical solution\n",
    "phi_h = equation_h.solve()\n",
    "\n",
    "# Compute error norms from solution field\n",
    "l2_error = l2norm_h.assemble(phi=phi_h)\n",
    "h1_error = h1norm_h.assemble(phi=phi_h)\n",
    "h2_error = h2norm_h.assemble(phi=phi_h)"
   ]
  },
  {
   "cell_type": "code",
   "execution_count": 23,
   "metadata": {},
   "outputs": [
    {
     "name": "stdout",
     "output_type": "stream",
     "text": [
      "> L2-norm =  0.3152385970932358\n",
      "> H2-norm =  2.2763892151212564\n",
      "> H2-norm =  18.06867041845471\n"
     ]
    }
   ],
   "source": [
    "print('> L2-norm = ', l2_error)\n",
    "print('> H2-norm = ', h1_error)\n",
    "print('> H2-norm = ', h2_error)"
   ]
  },
  {
   "cell_type": "markdown",
   "metadata": {},
   "source": [
    "### Plotting the solution"
   ]
  },
  {
   "cell_type": "code",
   "execution_count": 7,
   "metadata": {},
   "outputs": [],
   "source": [
    "from matplotlib.pyplot import plot, contourf, show, colorbar\n",
    "%matplotlib inline\n",
    "from simplines import plot_field_2d"
   ]
  },
  {
   "cell_type": "code",
   "execution_count": 9,
   "metadata": {},
   "outputs": [
    {
     "data": {
      "image/png": "[encoded data removed]",
      "text/plain": [
       "<Figure size 432x288 with 2 Axes>"
      ]
     },
     "metadata": {
      "needs_background": "light"
     },
     "output_type": "display_data"
    }
   ],
   "source": [
    "nbasis = [W.nbasis for W in Vh.spaces]\n",
    "x = phi_h.toarray().reshape(nbasis)\n",
    "plot_field_2d(Vh.knots, Vh.degree, x ); colorbar() ; show()"
   ]
  },
  {
   "cell_type": "code",
   "execution_count": null,
   "metadata": {},
   "outputs": [],
   "source": []
  }
 ],
 "metadata": {
  "kernelspec": {
   "display_name": ".iga-python",
   "language": "python",
   "name": ".iga-python"
  },
  "language_info": {
   "codemirror_mode": {
    "name": "ipython",
    "version": 3
   },
   "file_extension": ".py",
   "mimetype": "text/x-python",
   "name": "python",
   "nbconvert_exporter": "python",
   "pygments_lexer": "ipython3",
   "version": "3.8.5"
  }
 },
 "nbformat": 4,
 "nbformat_minor": 4
}
