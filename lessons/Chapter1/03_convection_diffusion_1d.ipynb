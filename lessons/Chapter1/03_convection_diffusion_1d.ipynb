{
 "cells": [
  {
   "cell_type": "markdown",
   "metadata": {},
   "source": [
    "# 1-D Convection-Diffusion equation\n",
    "\n",
    "In this tutorial, we consider the **1D** convection-diffusion equation\n",
    "\n",
    "$$\n",
    "\\frac{\\partial u}{\\partial t} + c \\partial_x u - \\nu \\frac{\\partial^2 u}{\\partial x^2} = 0\n",
    "$$"
   ]
  },
  {
   "cell_type": "code",
   "execution_count": 1,
   "metadata": {},
   "outputs": [],
   "source": [
    "# needed imports\n",
    "from numpy import zeros, ones, linspace, zeros_like\n",
    "from matplotlib.pyplot import plot, show\n",
    "%matplotlib inline"
   ]
  },
  {
   "cell_type": "code",
   "execution_count": 2,
   "metadata": {},
   "outputs": [
    {
     "data": {
      "image/png": "[encoded data removed]",
      "text/plain": [
       "<Figure size 432x288 with 1 Axes>"
      ]
     },
     "metadata": {},
     "output_type": "display_data"
    }
   ],
   "source": [
    "# Initial condition\n",
    "from numpy import exp\n",
    "u0 = lambda x: exp(-(x-.5)**2/.05**2)\n",
    "\n",
    "grid = linspace(0., 1., 401)\n",
    "u = u0(grid) \n",
    "plot(grid, u) ; show()"
   ]
  },
  {
   "cell_type": "markdown",
   "metadata": {},
   "source": [
    "## Time scheme\n",
    "\n",
    "$$\\frac{u^{n+1}-u^n}{\\Delta t}  + c \\partial_x u^{n+1} - \\nu \\partial_{xx} u^{n+1} = 0 $$\n",
    "\n",
    "$$ \\left(I + c \\Delta t \\partial_x - \\nu \\Delta t \\partial_{xx} \\right) u^{n+1} = u^n $$"
   ]
  },
  {
   "cell_type": "markdown",
   "metadata": {},
   "source": [
    "## Weak formulation\n",
    "\n",
    "$$\n",
    "\\langle v, u^{n+1} \\rangle - c \\Delta t ~ \\langle \\partial_x v, u^{n+1} \\rangle + \\nu \\Delta t ~ \\langle \\partial_x v, \\partial_x u^{n+1} \\rangle = \\langle v, u^n \\rangle\n",
    "$$\n",
    "expending $u^n$ over the fem basis, we get the linear system\n",
    "\n",
    "$$D U^{n+1} = M U^n$$\n",
    "\n",
    "where\n",
    "\n",
    "$$\n",
    "M_{ij} = \\langle b_i, b_j \\rangle\n",
    "$$\n",
    "\n",
    "$$\n",
    "D_{ij} = \\langle b_i, b_j \\rangle - c \\Delta t ~ \\langle \\partial_x b_i, b_j \\rangle + \\nu \\Delta t ~ \\langle \\partial_x b_i, \\partial_x b_j \\rangle\n",
    "$$"
   ]
  },
  {
   "cell_type": "code",
   "execution_count": 3,
   "metadata": {},
   "outputs": [],
   "source": [
    "# needed imports\n",
    "from spl.linalg.stencil import StencilVector, StencilMatrix\n",
    "from spl.fem.splines import SplineSpace\n",
    "from scipy.sparse.linalg import cg, gmres\n",
    "from utils import assemble_matrix_1d\n",
    "from utils import assemble_rhs_1d\n",
    "\n",
    "c = 1     # wavespeed\n",
    "nu = 0.01   # viscosity\n",
    "T = 0.2  # T final time\n",
    "dt = 0.001\n",
    "niter = int(T / dt)\n",
    "\n",
    "p  = 3    # spline degree\n",
    "ne = 64   # number of elements\n",
    "\n",
    "grid = linspace(0., 1., ne+1)\n",
    "    \n",
    "# create a finite element space\n",
    "V = SplineSpace(p, grid=grid)"
   ]
  },
  {
   "cell_type": "code",
   "execution_count": 4,
   "metadata": {},
   "outputs": [],
   "source": [
    "# kernel for mass matrix\n",
    "def kernel_M(p1, k1, basis, w, mat):\n",
    "    mat[:,:] = 0.\n",
    "    for il_1 in range(0, p1+1):\n",
    "        for jl_1 in range(0, p1+1):\n",
    "\n",
    "            v = 0.0\n",
    "            for g1 in range(0, k1):\n",
    "                bi_0 = basis[il_1, 0, g1]\n",
    "                bi_x = basis[il_1, 1, g1]\n",
    "\n",
    "                bj_0 = basis[jl_1, 0, g1]\n",
    "                bj_x = basis[jl_1, 1, g1]\n",
    "\n",
    "                wvol = w[g1]\n",
    "\n",
    "                v += (bi_0 * bj_0) * wvol\n",
    "            mat[il_1, p1 + jl_1 - il_1] = v\n",
    "            \n",
    "# kernel for D matrix\n",
    "def kernel_D(p1, k1, basis, w, mat, c, nu, dt):\n",
    "    mat[:,:] = 0.\n",
    "    for il_1 in range(0, p1+1):\n",
    "        for jl_1 in range(0, p1+1):\n",
    "\n",
    "            v = 0.0\n",
    "            for g1 in range(0, k1):\n",
    "                bi_0 = basis[il_1, 0, g1]\n",
    "                bi_x = basis[il_1, 1, g1]\n",
    "\n",
    "                bj_0 = basis[jl_1, 0, g1]\n",
    "                bj_x = basis[jl_1, 1, g1]\n",
    "\n",
    "                wvol = w[g1]\n",
    "\n",
    "                v += (  bi_0 * bj_0 \n",
    "                      - c * dt * bi_x * bj_0 \n",
    "                      + nu * dt * bi_x * bj_x) * wvol\n",
    "            mat[il_1, p1 + jl_1 - il_1] = v"
   ]
  },
  {
   "cell_type": "code",
   "execution_count": 5,
   "metadata": {},
   "outputs": [],
   "source": [
    "M = assemble_matrix_1d(V, kernel_M).tocsr()\n",
    "D = assemble_matrix_1d(V, kernel_D, args=(c, nu, dt)).tocsr()"
   ]
  },
  {
   "cell_type": "code",
   "execution_count": 6,
   "metadata": {},
   "outputs": [],
   "source": [
    "# L2 projection of u0\n",
    "rhs = assemble_rhs_1d(V, u0).toarray()\n",
    "un, status = cg(M, rhs, tol=1.e-8, maxiter=5000) "
   ]
  },
  {
   "cell_type": "code",
   "execution_count": 7,
   "metadata": {},
   "outputs": [
    {
     "data": {
      "image/png": "[encoded data removed]",
      "text/plain": [
       "<Figure size 432x288 with 1 Axes>"
      ]
     },
     "metadata": {},
     "output_type": "display_data"
    }
   ],
   "source": [
    "# TODO - to be replaced by the Field evaluation\n",
    "#      - implement setfromarray \n",
    "from scipy.interpolate import splev\n",
    "def evaluate_field(un, x):\n",
    "    c_un = zeros_like(V.knots)\n",
    "    c_un[:len(un)] = un[:]\n",
    "    tck = (V.knots, c_un, p)\n",
    "    y = splev( x, tck )\n",
    "    return y\n",
    "\n",
    "grid = linspace(0., 1., 401)\n",
    "plot(grid, evaluate_field(un, grid)) ; show()"
   ]
  },
  {
   "cell_type": "code",
   "execution_count": 8,
   "metadata": {},
   "outputs": [],
   "source": [
    "for i in range(0, niter):\n",
    "    b = M.dot(un)\n",
    "    un, status = gmres(D, b, tol=1.e-8, maxiter=5000)"
   ]
  },
  {
   "cell_type": "code",
   "execution_count": 9,
   "metadata": {},
   "outputs": [
    {
     "data": {
      "image/png": "[encoded data removed]",
      "text/plain": [
       "<Figure size 432x288 with 1 Axes>"
      ]
     },
     "metadata": {},
     "output_type": "display_data"
    }
   ],
   "source": [
    "plot(grid, evaluate_field(un, grid)) ; show()"
   ]
  },
  {
   "cell_type": "code",
   "execution_count": 10,
   "metadata": {},
   "outputs": [
    {
     "data": {
      "text/html": [
       "<link href='http://fonts.googleapis.com/css?family=Fenix' rel='stylesheet' type='text/css'>\n",
       "<link href='http://fonts.googleapis.com/css?family=Alegreya+Sans:100,300,400,500,700,800,900,100italic,300italic,400italic,500italic,700italic,800italic,900italic' rel='stylesheet' type='text/css'>\n",
       "<link href='http://fonts.googleapis.com/css?family=Source+Code+Pro:300,400' rel='stylesheet' type='text/css'>\n",
       "<style>\n",
       "    @font-face {\n",
       "        font-family: \"Computer Modern\";\n",
       "        src: url('http://mirrors.ctan.org/fonts/cm-unicode/fonts/otf/cmunss.otf');\n",
       "    }\n",
       "    div.cell{\n",
       "        width:600px;\n",
       "        margin-left:16% !important;\n",
       "        margin-right:auto;\n",
       "    }\n",
       "    h1 {\n",
       "        font-family: 'Alegreya Sans', sans-serif;\n",
       "    }\n",
       "    h2 {\n",
       "        font-family: 'Fenix', serif;\n",
       "    }\n",
       "    h3{\n",
       "\t\tfont-family: 'Fenix', serif;\n",
       "        margin-top:12px;\n",
       "        margin-bottom: 3px;\n",
       "       }\n",
       "\th4{\n",
       "\t\tfont-family: 'Fenix', serif;\n",
       "       }\n",
       "    h5 {\n",
       "        font-family: 'Alegreya Sans', sans-serif;\n",
       "    }\t   \n",
       "    div.text_cell_render{\n",
       "        font-family: 'Alegreya Sans',Computer Modern, \"Helvetica Neue\", Arial, Helvetica, Geneva, sans-serif;\n",
       "        line-height: 135%;\n",
       "        font-size: 120%;\n",
       "        width:600px;\n",
       "        margin-left:auto;\n",
       "        margin-right:auto;\n",
       "    }\n",
       "    .CodeMirror{\n",
       "            font-family: \"Source Code Pro\";\n",
       "\t\t\tfont-size: 90%;\n",
       "    }\n",
       "/*    .prompt{\n",
       "        display: None;\n",
       "    }*/\n",
       "    .text_cell_render h1 {\n",
       "        font-weight: 200;\n",
       "        font-size: 50pt;\n",
       "\t\tline-height: 100%;\n",
       "        color:#054BCD;\n",
       "        margin-bottom: 0.5em;\n",
       "        margin-top: 0.5em;\n",
       "        display: block;\n",
       "    }\t\n",
       "    .text_cell_render h5 {\n",
       "        font-weight: 300;\n",
       "        font-size: 16pt;\n",
       "        color: #054BCD;\n",
       "        font-style: italic;\n",
       "        margin-bottom: .5em;\n",
       "        margin-top: 0.5em;\n",
       "        display: block;\n",
       "    }\n",
       "    \n",
       "    .warning{\n",
       "        color: rgb( 240, 20, 20 )\n",
       "        }  \n",
       "</style>\n",
       "<script>\n",
       "    MathJax.Hub.Config({\n",
       "                        TeX: {\n",
       "                           extensions: [\"AMSmath.js\"]\n",
       "                           },\n",
       "                tex2jax: {\n",
       "                    inlineMath: [ ['$','$'], [\"\\\\(\",\"\\\\)\"] ],\n",
       "                    displayMath: [ ['$$','$$'], [\"\\\\[\",\"\\\\]\"] ]\n",
       "                },\n",
       "                displayAlign: 'center', // Change this to 'center' to center equations.\n",
       "                \"HTML-CSS\": {\n",
       "                    styles: {'.MathJax_Display': {\"margin\": 4}}\n",
       "                }\n",
       "        });\n",
       "</script>\n"
      ],
      "text/plain": [
       "<IPython.core.display.HTML object>"
      ]
     },
     "execution_count": 10,
     "metadata": {},
     "output_type": "execute_result"
    }
   ],
   "source": [
    "from IPython.core.display import HTML\n",
    "def css_styling():\n",
    "    styles = open(\"../../styles/custom.css\", \"r\").read()\n",
    "    return HTML(styles)\n",
    "css_styling()"
   ]
  },
  {
   "cell_type": "code",
   "execution_count": null,
   "metadata": {},
   "outputs": [],
   "source": []
  }
 ],
 "metadata": {
  "kernelspec": {
   "display_name": "Python 3",
   "language": "python",
   "name": "python3"
  },
  "language_info": {
   "codemirror_mode": {
    "name": "ipython",
    "version": 3
   },
   "file_extension": ".py",
   "mimetype": "text/x-python",
   "name": "python",
   "nbconvert_exporter": "python",
   "pygments_lexer": "ipython3",
   "version": "3.5.2"
  }
 },
 "nbformat": 4,
 "nbformat_minor": 2
}
