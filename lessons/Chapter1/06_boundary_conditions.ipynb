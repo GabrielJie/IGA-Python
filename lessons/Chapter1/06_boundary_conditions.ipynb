{
 "cells": [
  {
   "cell_type": "markdown",
   "metadata": {},
   "source": [
    "# Boundary Conditions"
   ]
  },
  {
   "cell_type": "markdown",
   "metadata": {},
   "source": [
    "**TODO**"
   ]
  },
  {
   "cell_type": "code",
   "execution_count": null,
   "metadata": {},
   "outputs": [],
   "source": [
    "n1,n2 = V.nbasis\n",
    "\n",
    "rhs[0,:]    = 1.\n",
    "rhs[n1-1,:] = 1.\n",
    "rhs[:,0]    = 1.\n",
    "rhs[:,n2-1] = 1.\n",
    "\n",
    "stiffness[0,:,0,:]    = 1.e14\n",
    "stiffness[n1-1,:,0,:]    = 1.e14\n",
    "stiffness[:,0,:,0]    = 1.e14\n",
    "stiffness[:,n2-1,:,0]    = 1.e14"
   ]
  }
 ],
 "metadata": {
  "kernelspec": {
   "display_name": "Python 3",
   "language": "python",
   "name": "python3"
  },
  "language_info": {
   "codemirror_mode": {
    "name": "ipython",
    "version": 3
   },
   "file_extension": ".py",
   "mimetype": "text/x-python",
   "name": "python",
   "nbconvert_exporter": "python",
   "pygments_lexer": "ipython3",
   "version": "3.8.5"
  }
 },
 "nbformat": 4,
 "nbformat_minor": 4
}
