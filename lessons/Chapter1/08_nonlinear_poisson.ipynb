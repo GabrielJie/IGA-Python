{
 "cells": [
  {
   "cell_type": "markdown",
   "metadata": {},
   "source": [
    "# Non-Linear Poisson in 2D"
   ]
  },
  {
   "cell_type": "markdown",
   "metadata": {},
   "source": [
    "In this section, we consider the non-linear Poisson problem:\n",
    "\n",
    "$$\n",
    "-\\nabla \\cdot \\left( (1+u^2) \\nabla u \\right) = f, \\Omega\n",
    "\\\\\n",
    "u = 0, \\partial \\Omega\n",
    "$$\n",
    "where $\\Omega$ denotes the unit square.\n",
    "\n",
    "For testing, we shall take a function $u$ that fulfills the boundary condition, the compute $f$ as\n",
    "\n",
    "$$\n",
    "f(x,y) = -\\nabla^2 u - F(u)\n",
    "$$\n",
    "\n",
    "We will use the Picard Method, which reads in the variational formulation\n",
    "\n",
    "$$\n",
    "\\mbox{Find } u_{n+1} \\in \\mathcal{V}_h, \\mbox{such that}\\\\\n",
    "\\int_{\\Omega} (1+u_n^2) \\nabla u_{n+1} \\cdot \\nabla v ~ d\\Omega = \\int_{\\Omega} f v ~d\\Omega, \\quad \\forall v \\in \\mathcal{V}_h\n",
    "$$"
   ]
  },
  {
   "cell_type": "code",
   "execution_count": 1,
   "metadata": {},
   "outputs": [],
   "source": [
    "from functools import partial\n",
    "from pyccel.epyccel import epyccel\n",
    "from simplines import assemble_vector, assemble_matrix, assemble_scalar, apply_dirichlet"
   ]
  },
  {
   "cell_type": "markdown",
   "metadata": {},
   "source": [
    "### Example 1\n",
    "\n",
    "In this example, we take $u(x,y) = \\sin(\\pi x) \\sin(\\pi y)$"
   ]
  },
  {
   "cell_type": "code",
   "execution_count": 2,
   "metadata": {},
   "outputs": [],
   "source": [
    "from gallery_section_08 import assemble_vector_ex01, assemble_matrix_ex01, assemble_norm_ex01"
   ]
  },
  {
   "cell_type": "code",
   "execution_count": 3,
   "metadata": {},
   "outputs": [],
   "source": [
    "assemble_matrix_ex01_pyccel = epyccel(assemble_matrix_ex01)\n",
    "assemble_stiffness = partial(assemble_matrix, assemble_matrix_ex01_pyccel)"
   ]
  },
  {
   "cell_type": "code",
   "execution_count": 4,
   "metadata": {},
   "outputs": [],
   "source": [
    "#assemble_vector_ex01_pyccel = epyccel(assemble_vector_ex01)\n",
    "#assemble_rhs = partial(assemble_vector, assemble_vector_ex01_pyccel)\n",
    "\n",
    "assemble_rhs = partial(assemble_vector, assemble_vector_ex01)"
   ]
  },
  {
   "cell_type": "code",
   "execution_count": 5,
   "metadata": {},
   "outputs": [],
   "source": [
    "#assemble_norm_ex01_pyccel = epyccel(assemble_norm_ex01)\n",
    "#assemble_norm_l2 = partial(assemble_scalar, assemble_norm_ex01_pyccel)\n",
    "\n",
    "assemble_norm_l2 = partial(assemble_scalar, assemble_norm_ex01)"
   ]
  },
  {
   "cell_type": "code",
   "execution_count": 6,
   "metadata": {},
   "outputs": [],
   "source": [
    "from simplines import SplineSpace\n",
    "from simplines import TensorSpace\n",
    "from simplines import StencilMatrix\n",
    "from simplines import StencilVector\n",
    "\n",
    "# create the spline space for each direction\n",
    "V1 = SplineSpace(degree=2, nelements=16)\n",
    "V2 = SplineSpace(degree=2, nelements=16)\n",
    "\n",
    "# create the tensor space\n",
    "V = TensorSpace(V1, V2)"
   ]
  },
  {
   "cell_type": "code",
   "execution_count": 8,
   "metadata": {},
   "outputs": [
    {
     "name": "stdout",
     "output_type": "stream",
     "text": [
      "> l2-norm =  0.10416232003536087\n",
      "> l2-norm =  0.019794500321175343\n",
      "> l2-norm =  0.003272950864084159\n",
      "> l2-norm =  0.0004336036255791072\n",
      "> l2-norm =  5.427312013037896e-05\n",
      "> l2-norm =  2.6656604628473587e-05\n",
      "> l2-norm =  2.611607929433604e-05\n",
      "> l2-norm =  2.612392518145497e-05\n",
      "> l2-norm =  2.612312922837201e-05\n",
      "> l2-norm =  2.6123179836958155e-05\n"
     ]
    }
   ],
   "source": [
    "niter = 10\n",
    "\n",
    "rhs = StencilVector(V.vector_space)\n",
    "u   = StencilVector(V.vector_space)\n",
    "\n",
    "for i in range(niter):\n",
    "    stiffness = assemble_stiffness(V, fields=[u])\n",
    "    stiffness = apply_dirichlet(V, stiffness)\n",
    "\n",
    "    M = stiffness.tosparse() \n",
    "\n",
    "    from scipy.sparse import csc_matrix, linalg as sla\n",
    "\n",
    "    lu = sla.splu(csc_matrix(M))    \n",
    "        \n",
    "    rhs = assemble_rhs( V )\n",
    "    rhs = apply_dirichlet(V, rhs)\n",
    "    \n",
    "    b = rhs.toarray()\n",
    "    \n",
    "    x = lu.solve(b)\n",
    "    x = x.reshape(V.nbasis)\n",
    "    \n",
    "    u.from_array(V, x)\n",
    "    u = apply_dirichlet(V, u)\n",
    "    \n",
    "    l2_norm = assemble_norm_l2(V, fields=[u])\n",
    "    print('> l2-norm = ', l2_norm)    "
   ]
  },
  {
   "cell_type": "code",
   "execution_count": null,
   "metadata": {},
   "outputs": [],
   "source": []
  },
  {
   "cell_type": "code",
   "execution_count": 5,
   "metadata": {},
   "outputs": [],
   "source": []
  }
 ],
 "metadata": {
  "kernelspec": {
   "display_name": "Python 3",
   "language": "python",
   "name": "python3"
  },
  "language_info": {
   "codemirror_mode": {
    "name": "ipython",
    "version": 3
   },
   "file_extension": ".py",
   "mimetype": "text/x-python",
   "name": "python",
   "nbconvert_exporter": "python",
   "pygments_lexer": "ipython3",
   "version": "3.8.5"
  }
 },
 "nbformat": 4,
 "nbformat_minor": 4
}
