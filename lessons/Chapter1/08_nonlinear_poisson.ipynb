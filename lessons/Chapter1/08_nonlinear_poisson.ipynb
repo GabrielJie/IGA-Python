{
 "cells": [
  {
   "cell_type": "markdown",
   "metadata": {},
   "source": [
    "# Non-Linear Poisson in 2D"
   ]
  },
  {
   "cell_type": "markdown",
   "metadata": {},
   "source": [
    "In this section, we consider the non-linear Poisson problem:\n",
    "\n",
    "$$\n",
    "-\\nabla \\cdot \\left( (1+u^2) \\nabla u \\right) = f, \\Omega\n",
    "\\\\\n",
    "u = 0, \\partial \\Omega\n",
    "$$\n",
    "where $\\Omega$ denotes the unit square.\n",
    "\n",
    "For testing, we shall take a function $u$ that fulfills the boundary condition, the compute $f$ as\n",
    "\n",
    "$$\n",
    "f(x,y) = -\\nabla^2 u - F(u)\n",
    "$$\n",
    "\n",
    "We will use the Picard Method, which reads in the variational formulation\n",
    "\n",
    "$$\n",
    "\\mbox{Find } u_{n+1} \\in \\mathcal{V}_h, \\mbox{such that}\\\\\n",
    "\\int_{\\Omega} (1+u_n^2) \\nabla u_{n+1} \\cdot \\nabla v ~ d\\Omega = \\int_{\\Omega} f v ~d\\Omega, \\quad \\forall v \\in \\mathcal{V}_h\n",
    "$$"
   ]
  },
  {
   "cell_type": "code",
   "execution_count": 1,
   "metadata": {},
   "outputs": [],
   "source": [
    "from simplines import compile_kernel, apply_dirichlet"
   ]
  },
  {
   "cell_type": "code",
   "execution_count": 2,
   "metadata": {},
   "outputs": [],
   "source": [
    "from simplines import SplineSpace\n",
    "from simplines import TensorSpace\n",
    "from simplines import StencilMatrix\n",
    "from simplines import StencilVector"
   ]
  },
  {
   "cell_type": "markdown",
   "metadata": {},
   "source": [
    "### Example 1\n",
    "\n",
    "In this example, we take $u(x,y) = \\sin(\\pi x) \\sin(\\pi y)$"
   ]
  },
  {
   "cell_type": "code",
   "execution_count": 3,
   "metadata": {},
   "outputs": [],
   "source": [
    "from gallery_section_08 import assemble_vector_ex01\n",
    "from gallery_section_08 import assemble_matrix_ex01\n",
    "from gallery_section_08 import assemble_norm_ex01"
   ]
  },
  {
   "cell_type": "code",
   "execution_count": 4,
   "metadata": {},
   "outputs": [],
   "source": [
    "assemble_stiffness = compile_kernel(assemble_matrix_ex01, arity=2)\n",
    "assemble_rhs = compile_kernel(assemble_vector_ex01, arity=1)\n",
    "# TODO: pyccel is not working here for an unkown reason\n",
    "assemble_norm_l2 = compile_kernel(assemble_norm_ex01, arity=0, pyccel=False)"
   ]
  },
  {
   "cell_type": "code",
   "execution_count": 5,
   "metadata": {},
   "outputs": [],
   "source": [
    "from scipy.sparse import csc_matrix, linalg as sla"
   ]
  },
  {
   "cell_type": "code",
   "execution_count": 6,
   "metadata": {},
   "outputs": [],
   "source": [
    "def picard(V, niter=10, u=None):\n",
    "\n",
    "    if u is None:\n",
    "        u   = StencilVector(V.vector_space)\n",
    "\n",
    "    rhs = assemble_rhs( V )\n",
    "    rhs = apply_dirichlet(V, rhs)\n",
    "    b = rhs.toarray()\n",
    "\n",
    "    for i in range(niter):\n",
    "        stiffness = assemble_stiffness(V, fields=[u])\n",
    "        stiffness = apply_dirichlet(V, stiffness)\n",
    "\n",
    "        M = stiffness.tosparse() \n",
    "\n",
    "        lu = sla.splu(csc_matrix(M))    \n",
    "\n",
    "        x = lu.solve(b)\n",
    "        x = x.reshape(V.nbasis)\n",
    "\n",
    "        u.from_array(V, x)\n",
    "        u = apply_dirichlet(V, u)\n",
    "\n",
    "        l2_norm = assemble_norm_l2(V, fields=[u])\n",
    "        print('> iter = {}      l2-norm = {} '.format(i, l2_norm))\n",
    "        \n",
    "    return u"
   ]
  },
  {
   "cell_type": "code",
   "execution_count": 7,
   "metadata": {},
   "outputs": [],
   "source": [
    "# create the spline space for each direction\n",
    "V1 = SplineSpace(degree=2, nelements=32)\n",
    "V2 = SplineSpace(degree=2, nelements=32)\n",
    "\n",
    "# create the tensor space\n",
    "V = TensorSpace(V1, V2)"
   ]
  },
  {
   "cell_type": "code",
   "execution_count": 8,
   "metadata": {},
   "outputs": [
    {
     "name": "stdout",
     "output_type": "stream",
     "text": [
      "> iter = 0      l2-norm = 0.10416640648161508 \n",
      "> iter = 1      l2-norm = 0.019793093173538445 \n",
      "> iter = 2      l2-norm = 0.0032731105024647786 \n",
      "> iter = 3      l2-norm = 0.00043199279404655954 \n",
      "> iter = 4      l2-norm = 4.835347275730043e-05 \n",
      "> iter = 5      l2-norm = 5.705841235569041e-06 \n",
      "> iter = 6      l2-norm = 3.24981132968314e-06 \n",
      "> iter = 7      l2-norm = 3.2312370119637365e-06 \n",
      "> iter = 8      l2-norm = 3.2307034350171563e-06 \n",
      "> iter = 9      l2-norm = 3.230728747545628e-06 \n"
     ]
    }
   ],
   "source": [
    "u = picard(V, niter=10)"
   ]
  },
  {
   "cell_type": "markdown",
   "metadata": {},
   "source": [
    "### Picard method with two-grids"
   ]
  },
  {
   "cell_type": "markdown",
   "metadata": {},
   "source": [
    "#### Create the fine space"
   ]
  },
  {
   "cell_type": "code",
   "execution_count": 9,
   "metadata": {},
   "outputs": [],
   "source": [
    "# create the spline space for each direction\n",
    "V1 = SplineSpace(degree=2, nelements=32)\n",
    "V2 = SplineSpace(degree=2, nelements=32)\n",
    "\n",
    "# create the tensor space\n",
    "Vh = TensorSpace(V1, V2)"
   ]
  },
  {
   "cell_type": "markdown",
   "metadata": {},
   "source": [
    "#### Create the coarse space"
   ]
  },
  {
   "cell_type": "code",
   "execution_count": 10,
   "metadata": {},
   "outputs": [],
   "source": [
    "# create the spline space for each direction\n",
    "V1 = SplineSpace(degree=2, nelements=16)\n",
    "V2 = SplineSpace(degree=2, nelements=16)\n",
    "\n",
    "# create the tensor space\n",
    "VH = TensorSpace(V1, V2)"
   ]
  },
  {
   "cell_type": "markdown",
   "metadata": {},
   "source": [
    "#### Create the prolongation matrix"
   ]
  },
  {
   "cell_type": "code",
   "execution_count": 11,
   "metadata": {},
   "outputs": [],
   "source": [
    "from simplines import prolongation_matrix\n",
    "\n",
    "M = prolongation_matrix(VH, Vh)"
   ]
  },
  {
   "cell_type": "markdown",
   "metadata": {},
   "source": [
    "#### solve on the coarse space"
   ]
  },
  {
   "cell_type": "code",
   "execution_count": 12,
   "metadata": {},
   "outputs": [
    {
     "name": "stdout",
     "output_type": "stream",
     "text": [
      "> iter = 0      l2-norm = 0.10416232003536052 \n",
      "> iter = 1      l2-norm = 0.01979450032117524 \n",
      "> iter = 2      l2-norm = 0.0032729508640841334 \n",
      "> iter = 3      l2-norm = 0.00043360362557916113 \n",
      "> iter = 4      l2-norm = 5.427312013015149e-05 \n"
     ]
    }
   ],
   "source": [
    "uH = picard(VH, niter=5)"
   ]
  },
  {
   "cell_type": "markdown",
   "metadata": {},
   "source": [
    "#### Transfer the solution from the Coarse to the Fine space"
   ]
  },
  {
   "cell_type": "code",
   "execution_count": 13,
   "metadata": {},
   "outputs": [],
   "source": [
    "xh = M.dot(uH.toarray())\n",
    "xh = xh.reshape(Vh.nbasis)\n",
    "\n",
    "uh = StencilVector(Vh.vector_space)\n",
    "uh.from_array(Vh, xh)"
   ]
  },
  {
   "cell_type": "markdown",
   "metadata": {},
   "source": [
    "#### Solve on the fine space"
   ]
  },
  {
   "cell_type": "code",
   "execution_count": 14,
   "metadata": {},
   "outputs": [
    {
     "name": "stdout",
     "output_type": "stream",
     "text": [
      "> iter = 0      l2-norm = 5.591139970374466e-06 \n",
      "> iter = 1      l2-norm = 3.2476216489295532e-06 \n",
      "> iter = 2      l2-norm = 3.231182998429648e-06 \n",
      "> iter = 3      l2-norm = 3.2307058132099334e-06 \n",
      "> iter = 4      l2-norm = 3.230728618015303e-06 \n"
     ]
    }
   ],
   "source": [
    "uh = picard(Vh, niter=5, u=uh)"
   ]
  },
  {
   "cell_type": "code",
   "execution_count": null,
   "metadata": {},
   "outputs": [],
   "source": []
  }
 ],
 "metadata": {
  "kernelspec": {
   "display_name": "Python 3",
   "language": "python",
   "name": "python3"
  },
  "language_info": {
   "codemirror_mode": {
    "name": "ipython",
    "version": 3
   },
   "file_extension": ".py",
   "mimetype": "text/x-python",
   "name": "python",
   "nbconvert_exporter": "python",
   "pygments_lexer": "ipython3",
   "version": "3.8.5"
  }
 },
 "nbformat": 4,
 "nbformat_minor": 4
}
