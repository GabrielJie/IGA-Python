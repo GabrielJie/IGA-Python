{
 "cells": [
  {
   "cell_type": "markdown",
   "metadata": {},
   "source": [
    "# Performance and Acceleration"
   ]
  },
  {
   "cell_type": "markdown",
   "metadata": {},
   "source": [
    "In this section, we shall see how to accelerate our Python code assembly and get native speed.\n",
    "We will be using [Numba](https://numba.pydata.org/) and [Pyccel](https://github.com/pyccel/pyccel)."
   ]
  },
  {
   "cell_type": "markdown",
   "metadata": {},
   "source": [
    "#### Important\n",
    "\n",
    "The **StencilMatrix** format are based on a negative indexing, which we provide through a syntactic-sugar approach by overiding the **__getitem__** and **__setitem__** methods. The entries are in fact stored in the the private attribute **\\_data** which is a *numpy.NdArray*. We therefor use a shift by adding **p** as described in the **StencilMatrix** method\n",
    "\n",
    "```python\n",
    "class StencilMatrix( object ):\n",
    "    ...\n",
    "    def _shift_index( index, shift ):\n",
    "        if isinstance( index, slice ):\n",
    "            start = None if index.start is None else index.start + shift\n",
    "            stop  = None if index.stop  is None else index.stop  + shift\n",
    "            return slice(start, stop, index.step)\n",
    "        else:\n",
    "            return index + shift\n",
    "```\n",
    "\n",
    "In order to use a Python accelerator, we will first need to pass the *NdArray* as argument to the assembly function and not the **StencilMatrix** object.\n",
    "\n",
    "Since this will be *ugly* it is highly recommanded that one creates an *interface* function that will be calling the *core* assembly function. It is the later one that we will accelerate using Numba or Pyccel."
   ]
  },
  {
   "cell_type": "code",
   "execution_count": 1,
   "metadata": {},
   "outputs": [],
   "source": [
    "from simplines import SplineSpace\n",
    "from simplines import TensorSpace\n",
    "from simplines import StencilMatrix\n",
    "from simplines import StencilVector"
   ]
  },
  {
   "cell_type": "markdown",
   "metadata": {},
   "source": [
    "## 1D Case"
   ]
  },
  {
   "cell_type": "markdown",
   "metadata": {},
   "source": [
    "### Pure Python\n",
    "\n",
    "The novelties here are\n",
    "\n",
    "* we add Python Typing Syntax to our function\n",
    "* we use the matrix as **inout** argument, in the spirit of Fortran. This means that we shall have a procedure and not a function.\n",
    "* we shift the access to memory when storing the Matrix entries"
   ]
  },
  {
   "cell_type": "code",
   "execution_count": 2,
   "metadata": {},
   "outputs": [],
   "source": [
    "def assemble_stiffness_1d(nelements: 'int', \n",
    "                          degree: 'int', \n",
    "                          spans: 'int[:]', \n",
    "                          basis: 'double[:,:,:,:]', \n",
    "                          weights: 'double[:,:]', \n",
    "                          points: 'double[:,:]', \n",
    "                          matrix: 'double[:,:]'):\n",
    "    \"\"\"\n",
    "    assembling the stiffness matrix using stencil forms\n",
    "    \"\"\"\n",
    "\n",
    "    # ... sizes\n",
    "    ne1       = nelements\n",
    "    p1        = degree\n",
    "    spans_1   = spans\n",
    "    basis_1   = basis\n",
    "    weights_1 = weights\n",
    "    points_1  = points\n",
    "\n",
    "    k1 = weights.shape[1]\n",
    "    # ...\n",
    "\n",
    "    # ... build matrices\n",
    "    for ie1 in range(0, ne1):\n",
    "        i_span_1 = spans_1[ie1]\n",
    "        for il_1 in range(0, p1+1):\n",
    "            for jl_1 in range(0, p1+1):\n",
    "                i1 = i_span_1 - p1 + il_1\n",
    "                j1 = i_span_1 - p1 + jl_1\n",
    "\n",
    "                v = 0.0\n",
    "                for g1 in range(0, k1):\n",
    "                    bi_0 = basis_1[ie1, il_1, 0, g1]\n",
    "                    bi_x = basis_1[ie1, il_1, 1, g1]\n",
    "\n",
    "                    bj_0 = basis_1[ie1, jl_1, 0, g1]\n",
    "                    bj_x = basis_1[ie1, jl_1, 1, g1]\n",
    "\n",
    "                    wvol = weights_1[ie1, g1]\n",
    "\n",
    "                    v += (bi_x * bj_x) * wvol\n",
    "\n",
    "                # we shift the test index by p1\n",
    "                matrix[i1, p1+j1-i1]  += v\n",
    "    # ...\n",
    "\n",
    "    # NOTE: we will not return the matrix. \n",
    "    #       explainations will come later\n",
    "    #return matrix"
   ]
  },
  {
   "cell_type": "markdown",
   "metadata": {},
   "source": [
    "#### Timing using pure Python"
   ]
  },
  {
   "cell_type": "code",
   "execution_count": 3,
   "metadata": {},
   "outputs": [
    {
     "name": "stdout",
     "output_type": "stream",
     "text": [
      "38 ms ± 2.3 ms per loop (mean ± std. dev. of 7 runs, 10 loops each)\n"
     ]
    }
   ],
   "source": [
    "V = SplineSpace(degree=3, nelements=400)\n",
    "M = StencilMatrix(V.vector_space, V.vector_space)\n",
    "\n",
    "%timeit assemble_stiffness_1d( V.nelements, V.degree, V.spans, V.basis, V.weights, V.points, M._data )"
   ]
  },
  {
   "cell_type": "markdown",
   "metadata": {},
   "source": [
    "### Using Numba"
   ]
  },
  {
   "cell_type": "markdown",
   "metadata": {},
   "source": [
    "When using Numba, one needs to add the decorator **njit** or **jit** and then redefine the function:"
   ]
  },
  {
   "cell_type": "code",
   "execution_count": 4,
   "metadata": {},
   "outputs": [],
   "source": [
    "from numba import njit\n",
    "\n",
    "@njit\n",
    "def assemble_stiffness_1d_numba(nelements: 'int', \n",
    "                          degree: 'int', \n",
    "                          spans: 'int[:]', \n",
    "                          basis: 'double[:,:,:,:]', \n",
    "                          weights: 'double[:,:]', \n",
    "                          points: 'double[:,:]', \n",
    "                          matrix: 'double[:,:]'):\n",
    "    \"\"\"\n",
    "    assembling the stiffness matrix using stencil forms\n",
    "    \"\"\"\n",
    "\n",
    "    # ... sizes\n",
    "    ne1       = nelements\n",
    "    p1        = degree\n",
    "    spans_1   = spans\n",
    "    basis_1   = basis\n",
    "    weights_1 = weights\n",
    "    points_1  = points\n",
    "\n",
    "    k1 = weights.shape[1]\n",
    "    # ...\n",
    "\n",
    "    # ... build matrices\n",
    "    for ie1 in range(0, ne1):\n",
    "        i_span_1 = spans_1[ie1]\n",
    "        for il_1 in range(0, p1+1):\n",
    "            for jl_1 in range(0, p1+1):\n",
    "                i1 = i_span_1 - p1 + il_1\n",
    "                j1 = i_span_1 - p1 + jl_1\n",
    "\n",
    "                v = 0.0\n",
    "                for g1 in range(0, k1):\n",
    "                    bi_0 = basis_1[ie1, il_1, 0, g1]\n",
    "                    bi_x = basis_1[ie1, il_1, 1, g1]\n",
    "\n",
    "                    bj_0 = basis_1[ie1, jl_1, 0, g1]\n",
    "                    bj_x = basis_1[ie1, jl_1, 1, g1]\n",
    "\n",
    "                    wvol = weights_1[ie1, g1]\n",
    "\n",
    "                    v += (bi_x * bj_x) * wvol\n",
    "\n",
    "                # we shift the test index by p1\n",
    "                matrix[i1, p1+j1-i1]  += v\n",
    "    # ...\n",
    "\n",
    "    # NOTE: we will not return the matrix. \n",
    "    #       explainations will come later\n",
    "    #return matrix"
   ]
  },
  {
   "cell_type": "markdown",
   "metadata": {},
   "source": [
    "#### Timing"
   ]
  },
  {
   "cell_type": "code",
   "execution_count": 5,
   "metadata": {},
   "outputs": [
    {
     "name": "stdout",
     "output_type": "stream",
     "text": [
      "42.3 µs ± 10.3 µs per loop (mean ± std. dev. of 7 runs, 1 loop each)\n"
     ]
    }
   ],
   "source": [
    "V = SplineSpace(degree=3, nelements=400)\n",
    "M = StencilMatrix(V.vector_space, V.vector_space)\n",
    "\n",
    "%timeit assemble_stiffness_1d_numba( V.nelements, V.degree, V.spans, V.basis, V.weights, V.points, M._data )"
   ]
  },
  {
   "cell_type": "markdown",
   "metadata": {},
   "source": [
    "### Using Pyccel"
   ]
  },
  {
   "cell_type": "code",
   "execution_count": 6,
   "metadata": {},
   "outputs": [],
   "source": [
    "from pyccel.epyccel import epyccel"
   ]
  },
  {
   "cell_type": "code",
   "execution_count": 7,
   "metadata": {},
   "outputs": [],
   "source": [
    "assemble_stiffness_1d_pyccel = epyccel(assemble_stiffness_1d)"
   ]
  },
  {
   "cell_type": "markdown",
   "metadata": {},
   "source": [
    "#### Timing"
   ]
  },
  {
   "cell_type": "code",
   "execution_count": 8,
   "metadata": {},
   "outputs": [
    {
     "name": "stdout",
     "output_type": "stream",
     "text": [
      "21.4 µs ± 423 ns per loop (mean ± std. dev. of 7 runs, 10000 loops each)\n"
     ]
    }
   ],
   "source": [
    "V = SplineSpace(degree=3, nelements=400)\n",
    "M = StencilMatrix(V.vector_space, V.vector_space)\n",
    "\n",
    "%timeit assemble_stiffness_1d_pyccel( V.nelements, V.degree, V.spans, V.basis, V.weights, V.points, M._data )"
   ]
  },
  {
   "cell_type": "markdown",
   "metadata": {},
   "source": [
    "## 2D case"
   ]
  },
  {
   "cell_type": "markdown",
   "metadata": {},
   "source": [
    "### Pure Python"
   ]
  },
  {
   "cell_type": "code",
   "execution_count": 9,
   "metadata": {},
   "outputs": [],
   "source": [
    "def assemble_stiffness_2d(ne1: 'int', ne2: 'int', \n",
    "                          p1:  'int', p2:  'int', \n",
    "                          spans_1:          'int[:]', spans_2:          'int[:]', \n",
    "                          basis_1: 'double[:,:,:,:]', basis_2: 'double[:,:,:,:]', \n",
    "                          weights_1:   'double[:,:]', weights_2:   'double[:,:]', \n",
    "                          points_1:    'double[:,:]', points_2:    'double[:,:]', \n",
    "                          matrix: 'double[:,:,:,:]'):\n",
    "    \"\"\"\n",
    "    assembling the stiffness matrix using stencil forms\n",
    "    \"\"\"\n",
    "\n",
    "    # ... sizes\n",
    "    k1 = weights_1.shape[1]\n",
    "    k2 = weights_2.shape[1]\n",
    "    # ...\n",
    "\n",
    "    # ... build matrices\n",
    "    for ie1 in range(0, ne1):\n",
    "        i_span_1 = spans_1[ie1]\n",
    "        for ie2 in range(0, ne2):\n",
    "            i_span_2 = spans_2[ie2]\n",
    "            # evaluation dependant uniquement de l'element\n",
    "\n",
    "            for il_1 in range(0, p1+1):\n",
    "                for il_2 in range(0, p2+1):\n",
    "                    for jl_1 in range(0, p1+1):\n",
    "                        for jl_2 in range(0, p2+1):\n",
    "                            i1 = i_span_1 - p1 + il_1\n",
    "                            j1 = i_span_1 - p1 + jl_1\n",
    "\n",
    "                            i2 = i_span_2 - p2 + il_2\n",
    "                            j2 = i_span_2 - p2 + jl_2\n",
    "\n",
    "                            v = 0.0\n",
    "                            for g1 in range(0, k1):\n",
    "                                for g2 in range(0, k2):\n",
    "                                    bi_0 = basis_1[ie1, il_1, 0, g1] * basis_2[ie2, il_2, 0, g2]\n",
    "                                    bi_x = basis_1[ie1, il_1, 1, g1] * basis_2[ie2, il_2, 0, g2]\n",
    "                                    bi_y = basis_1[ie1, il_1, 0, g1] * basis_2[ie2, il_2, 1, g2]\n",
    "\n",
    "                                    bj_0 = basis_1[ie1, jl_1, 0, g1] * basis_2[ie2, jl_2, 0, g2]\n",
    "                                    bj_x = basis_1[ie1, jl_1, 1, g1] * basis_2[ie2, jl_2, 0, g2]\n",
    "                                    bj_y = basis_1[ie1, jl_1, 0, g1] * basis_2[ie2, jl_2, 1, g2]\n",
    "\n",
    "                                    wvol = weights_1[ie1, g1] * weights_2[ie2, g2]\n",
    "\n",
    "                                    v += (bi_x * bj_x + bi_y * bj_y) * wvol\n",
    "\n",
    "                            matrix[i1, i2, p1+j1-i1, p2+j2-i2]  += v\n",
    "    # ..."
   ]
  },
  {
   "cell_type": "markdown",
   "metadata": {},
   "source": [
    "#### Timing"
   ]
  },
  {
   "cell_type": "code",
   "execution_count": 10,
   "metadata": {},
   "outputs": [
    {
     "name": "stdout",
     "output_type": "stream",
     "text": [
      "15.8 s ± 493 ms per loop (mean ± std. dev. of 7 runs, 1 loop each)\n"
     ]
    }
   ],
   "source": [
    "# create the spline space for each direction\n",
    "V1 = SplineSpace(degree=3, nelements=32)\n",
    "V2 = SplineSpace(degree=3, nelements=32)\n",
    "\n",
    "# create the tensor space\n",
    "V = TensorSpace(V1, V2)\n",
    "\n",
    "M = StencilMatrix(V.vector_space, V.vector_space)\n",
    "\n",
    "%timeit assemble_stiffness_2d( V1.nelements, V2.nelements, V1.degree, V2.degree, V1.spans, V2.spans, V1.basis, V2.basis, V1.weights, V2.weights, V1.points, V2.points, M._data )"
   ]
  },
  {
   "cell_type": "markdown",
   "metadata": {},
   "source": [
    "### Using Numba"
   ]
  },
  {
   "cell_type": "code",
   "execution_count": 11,
   "metadata": {},
   "outputs": [],
   "source": [
    "@njit\n",
    "def assemble_stiffness_2d_numba(ne1: 'int', ne2: 'int', \n",
    "                          p1:  'int', p2:  'int', \n",
    "                          spans_1:          'int[:]', spans_2:          'int[:]', \n",
    "                          basis_1: 'double[:,:,:,:]', basis_2: 'double[:,:,:,:]', \n",
    "                          weights_1:   'double[:,:]', weights_2:   'double[:,:]', \n",
    "                          points_1:    'double[:,:]', points_2:    'double[:,:]', \n",
    "                          matrix: 'double[:,:,:,:]'):\n",
    "    \"\"\"\n",
    "    assembling the stiffness matrix using stencil forms\n",
    "    \"\"\"\n",
    "\n",
    "    # ... sizes\n",
    "    k1 = weights_1.shape[1]\n",
    "    k2 = weights_2.shape[1]\n",
    "    # ...\n",
    "\n",
    "    # ... build matrices\n",
    "    for ie1 in range(0, ne1):\n",
    "        i_span_1 = spans_1[ie1]\n",
    "        for ie2 in range(0, ne2):\n",
    "            i_span_2 = spans_2[ie2]\n",
    "            # evaluation dependant uniquement de l'element\n",
    "\n",
    "            for il_1 in range(0, p1+1):\n",
    "                for il_2 in range(0, p2+1):\n",
    "                    for jl_1 in range(0, p1+1):\n",
    "                        for jl_2 in range(0, p2+1):\n",
    "                            i1 = i_span_1 - p1 + il_1\n",
    "                            j1 = i_span_1 - p1 + jl_1\n",
    "\n",
    "                            i2 = i_span_2 - p2 + il_2\n",
    "                            j2 = i_span_2 - p2 + jl_2\n",
    "\n",
    "                            v = 0.0\n",
    "                            for g1 in range(0, k1):\n",
    "                                for g2 in range(0, k2):\n",
    "                                    bi_0 = basis_1[ie1, il_1, 0, g1] * basis_2[ie2, il_2, 0, g2]\n",
    "                                    bi_x = basis_1[ie1, il_1, 1, g1] * basis_2[ie2, il_2, 0, g2]\n",
    "                                    bi_y = basis_1[ie1, il_1, 0, g1] * basis_2[ie2, il_2, 1, g2]\n",
    "\n",
    "                                    bj_0 = basis_1[ie1, jl_1, 0, g1] * basis_2[ie2, jl_2, 0, g2]\n",
    "                                    bj_x = basis_1[ie1, jl_1, 1, g1] * basis_2[ie2, jl_2, 0, g2]\n",
    "                                    bj_y = basis_1[ie1, jl_1, 0, g1] * basis_2[ie2, jl_2, 1, g2]\n",
    "\n",
    "                                    wvol = weights_1[ie1, g1] * weights_2[ie2, g2]\n",
    "\n",
    "                                    v += (bi_x * bj_x + bi_y * bj_y) * wvol\n",
    "\n",
    "                            matrix[i1, i2, p1+j1-i1, p2+j2-i2]  += v\n",
    "    # ..."
   ]
  },
  {
   "cell_type": "markdown",
   "metadata": {},
   "source": [
    "#### Timing"
   ]
  },
  {
   "cell_type": "code",
   "execution_count": 12,
   "metadata": {},
   "outputs": [
    {
     "name": "stdout",
     "output_type": "stream",
     "text": [
      "9.1 ms ± 70.8 µs per loop (mean ± std. dev. of 7 runs, 1 loop each)\n"
     ]
    }
   ],
   "source": [
    "# create the spline space for each direction\n",
    "V1 = SplineSpace(degree=3, nelements=32)\n",
    "V2 = SplineSpace(degree=3, nelements=32)\n",
    "\n",
    "# create the tensor space\n",
    "V = TensorSpace(V1, V2)\n",
    "\n",
    "M = StencilMatrix(V.vector_space, V.vector_space)\n",
    "\n",
    "%timeit assemble_stiffness_2d_numba( V1.nelements, V2.nelements, V1.degree, V2.degree, V1.spans, V2.spans, V1.basis, V2.basis, V1.weights, V2.weights, V1.points, V2.points, M._data )"
   ]
  },
  {
   "cell_type": "markdown",
   "metadata": {},
   "source": [
    "### Using Pyccel"
   ]
  },
  {
   "cell_type": "code",
   "execution_count": 13,
   "metadata": {},
   "outputs": [],
   "source": [
    "assemble_stiffness_2d_pyccel = epyccel(assemble_stiffness_2d)"
   ]
  },
  {
   "cell_type": "markdown",
   "metadata": {},
   "source": [
    "#### Timing"
   ]
  },
  {
   "cell_type": "code",
   "execution_count": 14,
   "metadata": {},
   "outputs": [
    {
     "name": "stdout",
     "output_type": "stream",
     "text": [
      "7.33 ms ± 372 µs per loop (mean ± std. dev. of 7 runs, 100 loops each)\n"
     ]
    }
   ],
   "source": [
    "# create the spline space for each direction\n",
    "V1 = SplineSpace(degree=3, nelements=32)\n",
    "V2 = SplineSpace(degree=3, nelements=32)\n",
    "\n",
    "# create the tensor space\n",
    "V = TensorSpace(V1, V2)\n",
    "\n",
    "M = StencilMatrix(V.vector_space, V.vector_space)\n",
    "\n",
    "%timeit assemble_stiffness_2d_pyccel( V1.nelements, V2.nelements, V1.degree, V2.degree, V1.spans, V2.spans, V1.basis, V2.basis, V1.weights, V2.weights, V1.points, V2.points, M._data )"
   ]
  },
  {
   "cell_type": "markdown",
   "metadata": {},
   "source": [
    "## Improving the API"
   ]
  },
  {
   "cell_type": "code",
   "execution_count": 15,
   "metadata": {},
   "outputs": [],
   "source": [
    "def assemble_matrix(core, V, out=None):\n",
    "    if out is None:\n",
    "        out = StencilMatrix(V.vector_space, V.vector_space)\n",
    "        \n",
    "    # ...\n",
    "    args = []\n",
    "    if isinstance(V, TensorSpace):\n",
    "        args += list(V.nelements)\n",
    "        args += list(V.degree)\n",
    "        args += list(V.spans)\n",
    "        args += list(V.basis)\n",
    "        args += list(V.weights)\n",
    "        args += list(V.points)\n",
    "        \n",
    "    else:\n",
    "        args = [V.nelements, \n",
    "                V.degree, \n",
    "                V.spans, \n",
    "                V.basis, \n",
    "                V.weights, \n",
    "                V.points]\n",
    "    # ...\n",
    "        \n",
    "    core( *args, out._data )\n",
    "    \n",
    "    return out"
   ]
  },
  {
   "cell_type": "markdown",
   "metadata": {},
   "source": [
    "In the sequel, we shall use the [partial](https://docs.python.org/3/library/functools.html#functools.partial) function from **functools**. "
   ]
  },
  {
   "cell_type": "code",
   "execution_count": 16,
   "metadata": {},
   "outputs": [],
   "source": [
    "from functools import partial"
   ]
  },
  {
   "cell_type": "markdown",
   "metadata": {},
   "source": [
    "### 1D case"
   ]
  },
  {
   "cell_type": "code",
   "execution_count": 17,
   "metadata": {},
   "outputs": [],
   "source": [
    "assemble_stiffness = partial(assemble_matrix, assemble_stiffness_1d_pyccel)"
   ]
  },
  {
   "cell_type": "code",
   "execution_count": 18,
   "metadata": {},
   "outputs": [],
   "source": [
    "V = SplineSpace(degree=2, nelements=400)\n",
    "\n",
    "stiffness = assemble_stiffness(V)"
   ]
  },
  {
   "cell_type": "markdown",
   "metadata": {},
   "source": [
    "### 2D case"
   ]
  },
  {
   "cell_type": "code",
   "execution_count": 19,
   "metadata": {},
   "outputs": [],
   "source": [
    "assemble_stiffness = partial(assemble_matrix, assemble_stiffness_2d_pyccel)"
   ]
  },
  {
   "cell_type": "code",
   "execution_count": 20,
   "metadata": {},
   "outputs": [],
   "source": [
    "# create the spline space for each direction\n",
    "V1 = SplineSpace(degree=2, nelements=64)\n",
    "V2 = SplineSpace(degree=2, nelements=64)\n",
    "\n",
    "# create the tensor space\n",
    "V = TensorSpace(V1, V2)\n",
    "\n",
    "stiffness = assemble_stiffness(V)"
   ]
  },
  {
   "cell_type": "markdown",
   "metadata": {},
   "source": [
    "In **simplines** you will find the function **compile_kernel**. It uses the **partial** function but you will need to give it the **arity** (2 for a matrix, 1 for a vector and 0 for a scalar)"
   ]
  },
  {
   "cell_type": "markdown",
   "metadata": {},
   "source": [
    "## Exercises\n",
    "\n",
    "1. Write the accelerated version of the rhs assembly produce using Pyccel and Numba and compute their timing.\n",
    "2. Write the API for the rhs assembly.\n",
    "3. Perform a benchmark between Pyccel and Numba while varying the B-Spline degree."
   ]
  }
 ],
 "metadata": {
  "kernelspec": {
   "display_name": ".iga-python",
   "language": "python",
   "name": ".iga-python"
  },
  "language_info": {
   "codemirror_mode": {
    "name": "ipython",
    "version": 3
   },
   "file_extension": ".py",
   "mimetype": "text/x-python",
   "name": "python",
   "nbconvert_exporter": "python",
   "pygments_lexer": "ipython3",
   "version": "3.8.5"
  }
 },
 "nbformat": 4,
 "nbformat_minor": 4
}
