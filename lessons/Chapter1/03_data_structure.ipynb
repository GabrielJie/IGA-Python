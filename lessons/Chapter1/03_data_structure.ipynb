{
 "cells": [
  {
   "cell_type": "markdown",
   "metadata": {},
   "source": [
    "# Data Structure"
   ]
  },
  {
   "cell_type": "markdown",
   "metadata": {},
   "source": [
    "In the sequel, we shall use **StencilMatrix** and **StencilVector** from the **linalg.py** file.\n",
    "\n",
    "For the moment, we are only interested about having an appropriate data structure to store our computations.\n",
    "Once the assembly is done, we will convert the matrix into a scipy sparse matrix, while the vector will be converted to numpy array.\n",
    "\n",
    "We will see later how one can impose boundary conditions."
   ]
  },
  {
   "cell_type": "markdown",
   "metadata": {},
   "source": [
    "# 1D Case"
   ]
  },
  {
   "cell_type": "code",
   "execution_count": 1,
   "metadata": {},
   "outputs": [],
   "source": [
    "from spaces import SplineSpace"
   ]
  },
  {
   "cell_type": "code",
   "execution_count": 2,
   "metadata": {},
   "outputs": [],
   "source": [
    "from linalg import StencilMatrix, StencilVector"
   ]
  },
  {
   "cell_type": "code",
   "execution_count": 3,
   "metadata": {},
   "outputs": [],
   "source": [
    "# ... assembling the stiffness matrix using stencil forms\n",
    "def assemble_stiffness(nelements, degree, spans, basis, weights, points, matrix):\n",
    "\n",
    "    # ... sizes\n",
    "    ne1       = nelements\n",
    "    p1        = degree\n",
    "    spans_1   = spans\n",
    "    basis_1   = basis\n",
    "    weights_1 = weights\n",
    "    points_1  = points\n",
    "    \n",
    "    k1 = weights.shape[1]\n",
    "    # ...\n",
    "\n",
    "    # ... build matrices\n",
    "    for ie1 in range(0, ne1):\n",
    "        i_span_1 = spans_1[ie1]\n",
    "        for il_1 in range(0, p1+1):\n",
    "            for jl_1 in range(0, p1+1):\n",
    "                i1 = i_span_1 - p1 + il_1\n",
    "                j1 = i_span_1 - p1 + jl_1\n",
    "\n",
    "                v = 0.0\n",
    "                for g1 in range(0, k1):\n",
    "                    bi_0 = basis_1[ie1, il_1, 0, g1]\n",
    "                    bi_x = basis_1[ie1, il_1, 1, g1]                    \n",
    "\n",
    "                    bj_0 = basis_1[ie1, jl_1, 0, g1]\n",
    "                    bj_x = basis_1[ie1, jl_1, 1, g1]                    \n",
    "\n",
    "                    wvol = weights_1[ie1, g1]\n",
    "\n",
    "                    v += (bi_x * bj_x) * wvol\n",
    "\n",
    "                matrix[i1, j1-i1]  += v\n",
    "    # ...\n",
    "\n",
    "    return matrix    \n",
    "# ..."
   ]
  },
  {
   "cell_type": "code",
   "execution_count": 4,
   "metadata": {},
   "outputs": [],
   "source": [
    "# ... Assembly procedure for the rhs\n",
    "def assemble_rhs(f, nelements, degree, spans, basis, weights, points, rhs):\n",
    "\n",
    "    # ... sizes\n",
    "    ne1       = nelements\n",
    "    p1        = degree\n",
    "    spans_1   = spans\n",
    "    basis_1   = basis\n",
    "    weights_1 = weights\n",
    "    points_1  = points\n",
    "    \n",
    "    k1 = weights.shape[1]\n",
    "    # ...\n",
    "\n",
    "    # ... build rhs\n",
    "    for ie1 in range(0, ne1):\n",
    "        i_span_1 = spans_1[ie1]\n",
    "        for il_1 in range(0, p1+1):\n",
    "            i1 = i_span_1 - p1 + il_1\n",
    "\n",
    "            v = 0.0\n",
    "            for g1 in range(0, k1):\n",
    "                bi_0 = basis_1[ie1, il_1, 0, g1]\n",
    "                bi_x = basis_1[ie1, il_1, 1, g1]  \n",
    "\n",
    "                x1    = points_1[ie1, g1]\n",
    "                wvol  = weights_1[ie1, g1]\n",
    "\n",
    "                v += bi_0 * f(x1) * wvol\n",
    "\n",
    "            rhs[i1] += v\n",
    "    # ...\n",
    "\n",
    "    # ...\n",
    "    return rhs\n",
    "    # ...\n",
    "# ..."
   ]
  },
  {
   "cell_type": "code",
   "execution_count": 5,
   "metadata": {},
   "outputs": [],
   "source": [
    "V = SplineSpace(degree=3, nelements=32)"
   ]
  },
  {
   "cell_type": "code",
   "execution_count": 6,
   "metadata": {},
   "outputs": [],
   "source": [
    "stiffness = StencilMatrix(V.vector_space, V.vector_space)"
   ]
  },
  {
   "cell_type": "code",
   "execution_count": 7,
   "metadata": {},
   "outputs": [],
   "source": [
    "stiffness = assemble_stiffness(V.nelements, \n",
    "                               V.degree, \n",
    "                               V.spans, \n",
    "                               V.basis, \n",
    "                               V.weights, \n",
    "                               V.points, \n",
    "                               matrix=stiffness)"
   ]
  },
  {
   "cell_type": "code",
   "execution_count": 8,
   "metadata": {},
   "outputs": [],
   "source": [
    "stiffness = stiffness.tosparse()"
   ]
  },
  {
   "cell_type": "code",
   "execution_count": 10,
   "metadata": {},
   "outputs": [],
   "source": [
    "f = lambda x: 2.    "
   ]
  },
  {
   "cell_type": "code",
   "execution_count": 11,
   "metadata": {},
   "outputs": [],
   "source": [
    "rhs = StencilVector(V.vector_space)"
   ]
  },
  {
   "cell_type": "code",
   "execution_count": 12,
   "metadata": {},
   "outputs": [],
   "source": [
    "rhs = assemble_rhs(f, \n",
    "                   V.nelements, \n",
    "                   V.degree, \n",
    "                   V.spans, \n",
    "                   V.basis, \n",
    "                   V.weights, \n",
    "                   V.points, \n",
    "                   rhs=rhs)"
   ]
  },
  {
   "cell_type": "code",
   "execution_count": 13,
   "metadata": {},
   "outputs": [],
   "source": [
    "rhs = rhs.toarray()"
   ]
  },
  {
   "cell_type": "markdown",
   "metadata": {},
   "source": [
    "## 2D Case"
   ]
  },
  {
   "cell_type": "code",
   "execution_count": 17,
   "metadata": {},
   "outputs": [],
   "source": [
    "from spaces import TensorSpace"
   ]
  },
  {
   "cell_type": "code",
   "execution_count": 19,
   "metadata": {},
   "outputs": [],
   "source": [
    "V1 = SplineSpace(degree=2, nelements=16)\n",
    "V2 = SplineSpace(degree=2, nelements=16)\n",
    "\n",
    "V = TensorSpace(V1, V2)"
   ]
  },
  {
   "cell_type": "code",
   "execution_count": 24,
   "metadata": {},
   "outputs": [],
   "source": [
    "# ... assembling the stiffness matrix using stencil forms\n",
    "def assemble_stiffness(nelements, degree, spans, basis, weights, points, matrix):\n",
    "\n",
    "    # ... sizes\n",
    "    ne1,ne2              = nelements\n",
    "    p1,p2                = degree\n",
    "    spans_1, spans_2     = spans\n",
    "    basis_1, basis_2     = basis\n",
    "    weights_1, weights_2 = weights\n",
    "    points_1, points_2   = points\n",
    "    \n",
    "    k1 = weights_1.shape[1]\n",
    "    k2 = weights_2.shape[1]\n",
    "    # ...\n",
    "\n",
    "    # ... build matrices\n",
    "    for ie1 in range(0, ne1):\n",
    "        i_span_1 = spans_1[ie1]        \n",
    "        for ie2 in range(0, ne2):\n",
    "            i_span_2 = spans_2[ie2]        \n",
    "            # evaluation dependant uniquement de l'element\n",
    "            \n",
    "            for il_1 in range(0, p1+1):\n",
    "                for il_2 in range(0, p2+1):                \n",
    "                    for jl_1 in range(0, p1+1):\n",
    "                        for jl_2 in range(0, p2+1):\n",
    "                            i1 = i_span_1 - p1 + il_1\n",
    "                            j1 = i_span_1 - p1 + jl_1\n",
    "\n",
    "                            i2 = i_span_2 - p2 + il_2\n",
    "                            j2 = i_span_2 - p2 + jl_2\n",
    "\n",
    "                            v = 0.0\n",
    "                            for g1 in range(0, k1):\n",
    "                                for g2 in range(0, k2):\n",
    "                                    bi_0 = basis_1[ie1, il_1, 0, g1] * basis_2[ie2, il_2, 0, g2]\n",
    "                                    bi_x = basis_1[ie1, il_1, 1, g1] * basis_2[ie2, il_2, 0, g2]\n",
    "                                    bi_y = basis_1[ie1, il_1, 0, g1] * basis_2[ie2, il_2, 1, g2]\n",
    "\n",
    "                                    bj_0 = basis_1[ie1, jl_1, 0, g1] * basis_2[ie2, jl_2, 0, g2]\n",
    "                                    bj_x = basis_1[ie1, jl_1, 1, g1] * basis_2[ie2, jl_2, 0, g2]\n",
    "                                    bj_y = basis_1[ie1, jl_1, 0, g1] * basis_2[ie2, jl_2, 1, g2]\n",
    "\n",
    "                                    wvol = weights_1[ie1, g1] * weights_2[ie2, g2]\n",
    "\n",
    "                                    v += (bi_x * bj_x + bi_y * bj_y) * wvol\n",
    "\n",
    "                            matrix[i1, i2, j1-i1, j2-i2]  += v\n",
    "    # ...\n",
    "\n",
    "    return matrix    \n",
    "# ..."
   ]
  },
  {
   "cell_type": "code",
   "execution_count": 33,
   "metadata": {},
   "outputs": [],
   "source": [
    "# ... Assembly procedure for the rhs\n",
    "def assemble_rhs(f, nelements, degree, spans, basis, weights, points, rhs):\n",
    "\n",
    "    # ... sizes\n",
    "    ne1,ne2              = nelements\n",
    "    p1,p2                = degree\n",
    "    spans_1, spans_2     = spans\n",
    "    basis_1, basis_2     = basis\n",
    "    weights_1, weights_2 = weights\n",
    "    points_1, points_2   = points\n",
    "    \n",
    "    k1 = weights_1.shape[1]\n",
    "    k2 = weights_2.shape[1]\n",
    "    # ...\n",
    "\n",
    "    # ... build rhs\n",
    "    for ie1 in range(0, ne1):\n",
    "        i_span_1 = spans_1[ie1]        \n",
    "        for ie2 in range(0, ne2):\n",
    "            i_span_2 = spans_2[ie2]                        \n",
    "            \n",
    "            for il_1 in range(0, p1+1):\n",
    "                for il_2 in range(0, p2+1):   \n",
    "                    i1 = i_span_1 - p1 + il_1\n",
    "                    i2 = i_span_2 - p2 + il_2                    \n",
    "\n",
    "                    v = 0.0\n",
    "                    for g1 in range(0, k1):\n",
    "                        for g2 in range(0, k2):\n",
    "                            bi_0 = basis_1[ie1, il_1, 0, g1] * basis_2[ie2, il_2, 0, g2]\n",
    "                            bi_x = basis_1[ie1, il_1, 1, g1] * basis_2[ie2, il_2, 0, g2]\n",
    "                            bi_y = basis_1[ie1, il_1, 0, g1] * basis_2[ie2, il_2, 1, g2]\n",
    "                            \n",
    "                            x1    = points_1[ie1, g1]\n",
    "                            x2    = points_2[ie2, g2]\n",
    "                            wvol  = weights_1[ie1, g1]*weights_2[ie2, g2]\n",
    "\n",
    "                            v += bi_0 * f(x1,x2) * wvol\n",
    "\n",
    "                    rhs[i1,i2] += v\n",
    "    # ...\n",
    "\n",
    "    # ...\n",
    "    return rhs\n",
    "    # ...\n",
    "# ..."
   ]
  },
  {
   "cell_type": "code",
   "execution_count": 34,
   "metadata": {},
   "outputs": [],
   "source": [
    "stiffness = StencilMatrix(V.vector_space, V.vector_space)"
   ]
  },
  {
   "cell_type": "code",
   "execution_count": 35,
   "metadata": {},
   "outputs": [],
   "source": [
    "stiffness = assemble_stiffness(V.nelements, \n",
    "                               V.degree, \n",
    "                               V.spans, \n",
    "                               V.basis, \n",
    "                               V.weights, \n",
    "                               V.points, \n",
    "                               matrix=stiffness)"
   ]
  },
  {
   "cell_type": "code",
   "execution_count": 36,
   "metadata": {},
   "outputs": [],
   "source": [
    "stiffness = stiffness.tosparse()"
   ]
  },
  {
   "cell_type": "code",
   "execution_count": 37,
   "metadata": {},
   "outputs": [],
   "source": [
    "# convert the sparse matrix to dense\n",
    "stiffness = stiffness.toarray()"
   ]
  },
  {
   "cell_type": "code",
   "execution_count": 38,
   "metadata": {},
   "outputs": [],
   "source": [
    "f = lambda x,y: 2.    "
   ]
  },
  {
   "cell_type": "code",
   "execution_count": 39,
   "metadata": {},
   "outputs": [],
   "source": [
    "rhs = StencilVector(V.vector_space)"
   ]
  },
  {
   "cell_type": "code",
   "execution_count": 40,
   "metadata": {},
   "outputs": [],
   "source": [
    "rhs = assemble_rhs(f, \n",
    "                   V.nelements, \n",
    "                   V.degree, \n",
    "                   V.spans, \n",
    "                   V.basis, \n",
    "                   V.weights, \n",
    "                   V.points, \n",
    "                   rhs=rhs)"
   ]
  },
  {
   "cell_type": "code",
   "execution_count": null,
   "metadata": {},
   "outputs": [],
   "source": []
  }
 ],
 "metadata": {
  "kernelspec": {
   "display_name": "Python 3",
   "language": "python",
   "name": "python3"
  },
  "language_info": {
   "codemirror_mode": {
    "name": "ipython",
    "version": 3
   },
   "file_extension": ".py",
   "mimetype": "text/x-python",
   "name": "python",
   "nbconvert_exporter": "python",
   "pygments_lexer": "ipython3",
   "version": "3.8.5"
  }
 },
 "nbformat": 4,
 "nbformat_minor": 4
}
