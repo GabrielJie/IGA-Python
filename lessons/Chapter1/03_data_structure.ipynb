{
 "cells": [
  {
   "cell_type": "markdown",
   "metadata": {},
   "source": [
    "# Data Structure"
   ]
  },
  {
   "cell_type": "markdown",
   "metadata": {},
   "source": [
    "In the sequel, we shall use **StencilMatrix** and **StencilVector** from the **simplines** library.\n",
    "\n",
    "For the moment, we are only interested about having an appropriate data structure to store our computations.\n",
    "Once the assembly is done, we will convert the matrix into a scipy sparse matrix, while the vector will be converted to numpy array.\n",
    "\n",
    "We will see later how one can impose boundary conditions."
   ]
  },
  {
   "cell_type": "markdown",
   "metadata": {},
   "source": [
    "# 1D Case"
   ]
  },
  {
   "cell_type": "code",
   "execution_count": 1,
   "metadata": {},
   "outputs": [],
   "source": [
    "from simplines import SplineSpace\n",
    "from simplines import StencilMatrix\n",
    "from simplines import StencilVector\n",
    "from simplines import assemble_stiffness_1d\n",
    "from simplines import assemble_rhs_1d"
   ]
  },
  {
   "cell_type": "code",
   "execution_count": 2,
   "metadata": {
    "scrolled": true
   },
   "outputs": [],
   "source": [
    "V = SplineSpace(degree=3, nelements=8)"
   ]
  },
  {
   "cell_type": "code",
   "execution_count": 3,
   "metadata": {},
   "outputs": [],
   "source": [
    "stiffness = StencilMatrix(V.vector_space, V.vector_space)"
   ]
  },
  {
   "cell_type": "code",
   "execution_count": 4,
   "metadata": {},
   "outputs": [],
   "source": [
    "stiffness = assemble_stiffness_1d( V.nelements, \n",
    "                                   V.degree, \n",
    "                                   V.spans, \n",
    "                                   V.basis, \n",
    "                                   V.weights, \n",
    "                                   V.points, \n",
    "                                   matrix=stiffness )"
   ]
  },
  {
   "cell_type": "code",
   "execution_count": 5,
   "metadata": {},
   "outputs": [],
   "source": [
    "stiffness = stiffness.tosparse()"
   ]
  },
  {
   "cell_type": "code",
   "execution_count": 6,
   "metadata": {},
   "outputs": [],
   "source": [
    "f = lambda x: 2.    "
   ]
  },
  {
   "cell_type": "code",
   "execution_count": 7,
   "metadata": {},
   "outputs": [],
   "source": [
    "rhs = StencilVector(V.vector_space)"
   ]
  },
  {
   "cell_type": "code",
   "execution_count": 8,
   "metadata": {},
   "outputs": [],
   "source": [
    "rhs = assemble_rhs_1d( f, \n",
    "                       V.nelements, \n",
    "                       V.degree, \n",
    "                       V.spans, \n",
    "                       V.basis, \n",
    "                       V.weights, \n",
    "                       V.points, \n",
    "                       rhs=rhs )"
   ]
  },
  {
   "cell_type": "code",
   "execution_count": 9,
   "metadata": {},
   "outputs": [],
   "source": [
    "rhs = rhs.toarray()"
   ]
  },
  {
   "cell_type": "markdown",
   "metadata": {},
   "source": [
    "## 2D Case"
   ]
  },
  {
   "cell_type": "code",
   "execution_count": 10,
   "metadata": {},
   "outputs": [],
   "source": [
    "from simplines import TensorSpace\n",
    "from simplines import assemble_stiffness_2d\n",
    "from simplines import assemble_rhs_2d"
   ]
  },
  {
   "cell_type": "code",
   "execution_count": 11,
   "metadata": {},
   "outputs": [],
   "source": [
    "V1 = SplineSpace(degree=2, nelements=8)\n",
    "V2 = SplineSpace(degree=2, nelements=8)\n",
    "\n",
    "V = TensorSpace(V1, V2)"
   ]
  },
  {
   "cell_type": "code",
   "execution_count": 12,
   "metadata": {},
   "outputs": [],
   "source": [
    "stiffness = StencilMatrix(V.vector_space, V.vector_space)"
   ]
  },
  {
   "cell_type": "code",
   "execution_count": 13,
   "metadata": {},
   "outputs": [],
   "source": [
    "stiffness = assemble_stiffness_2d( V.nelements, \n",
    "                                   V.degree, \n",
    "                                   V.spans, \n",
    "                                   V.basis, \n",
    "                                   V.weights, \n",
    "                                   V.points, \n",
    "                                   matrix=stiffness )"
   ]
  },
  {
   "cell_type": "code",
   "execution_count": 14,
   "metadata": {},
   "outputs": [],
   "source": [
    "stiffness = stiffness.tosparse()"
   ]
  },
  {
   "cell_type": "code",
   "execution_count": 15,
   "metadata": {},
   "outputs": [],
   "source": [
    "# convert the sparse matrix to dense\n",
    "stiffness = stiffness.toarray()"
   ]
  },
  {
   "cell_type": "code",
   "execution_count": 16,
   "metadata": {},
   "outputs": [],
   "source": [
    "f = lambda x,y: 2.    "
   ]
  },
  {
   "cell_type": "code",
   "execution_count": 17,
   "metadata": {},
   "outputs": [],
   "source": [
    "rhs = StencilVector(V.vector_space)"
   ]
  },
  {
   "cell_type": "code",
   "execution_count": 18,
   "metadata": {},
   "outputs": [],
   "source": [
    "rhs = assemble_rhs_2d( f, \n",
    "                       V.nelements, \n",
    "                       V.degree, \n",
    "                       V.spans, \n",
    "                       V.basis, \n",
    "                       V.weights, \n",
    "                       V.points, \n",
    "                       rhs=rhs )"
   ]
  },
  {
   "cell_type": "markdown",
   "metadata": {},
   "source": [
    "### Matrix profile"
   ]
  },
  {
   "cell_type": "code",
   "execution_count": 19,
   "metadata": {},
   "outputs": [
    {
     "data": {
      "text/plain": [
       "<matplotlib.image.AxesImage at 0x7f911f306f10>"
      ]
     },
     "execution_count": 19,
     "metadata": {},
     "output_type": "execute_result"
    },
    {
     "data": {
      "image/png": "[encoded data removed]",
      "text/plain": [
       "<Figure size 432x288 with 1 Axes>"
      ]
     },
     "metadata": {
      "needs_background": "light"
     },
     "output_type": "display_data"
    }
   ],
   "source": [
    "import matplotlib.pyplot as plt \n",
    "\n",
    "plt.spy(stiffness)"
   ]
  },
  {
   "cell_type": "code",
   "execution_count": null,
   "metadata": {},
   "outputs": [],
   "source": []
  },
  {
   "cell_type": "code",
   "execution_count": null,
   "metadata": {},
   "outputs": [],
   "source": []
  }
 ],
 "metadata": {
  "kernelspec": {
   "display_name": "Python 3",
   "language": "python",
   "name": "python3"
  },
  "language_info": {
   "codemirror_mode": {
    "name": "ipython",
    "version": 3
   },
   "file_extension": ".py",
   "mimetype": "text/x-python",
   "name": "python",
   "nbconvert_exporter": "python",
   "pygments_lexer": "ipython3",
   "version": "3.8.5"
  }
 },
 "nbformat": 4,
 "nbformat_minor": 4
}
