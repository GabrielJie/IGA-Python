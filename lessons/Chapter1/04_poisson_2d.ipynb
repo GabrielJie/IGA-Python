{
 "cells": [
  {
   "cell_type": "markdown",
   "metadata": {},
   "source": [
    "# B-splines FEM solver for Poisson equation (2D)\n"
   ]
  },
  {
   "cell_type": "markdown",
   "metadata": {},
   "source": [
    "In this section, we show hoa to use **simplines** to solve a 2D Poisson problem with homogeneous boundary conditions\n",
    "$$\n",
    "- \\nabla^2 u = f, \\Omega,\n",
    "\\\\\n",
    "u = 0, \\partial \\Omega\n",
    "$$\n",
    "where the computation domain $\\Omega$ is the unit square."
   ]
  },
  {
   "cell_type": "code",
   "execution_count": 1,
   "metadata": {},
   "outputs": [],
   "source": [
    "# needed imports\n",
    "from numpy import zeros, ones, linspace, zeros_like, asarray\n",
    "from matplotlib.pyplot import plot, show\n",
    "import matplotlib.pyplot as plt\n",
    "\n",
    "%matplotlib inline"
   ]
  },
  {
   "cell_type": "code",
   "execution_count": 2,
   "metadata": {},
   "outputs": [],
   "source": [
    "from simplines import SplineSpace\n",
    "from simplines import TensorSpace\n",
    "from simplines import StencilMatrix\n",
    "from simplines import StencilVector"
   ]
  },
  {
   "cell_type": "code",
   "execution_count": 3,
   "metadata": {},
   "outputs": [],
   "source": [
    "from gallery_section_04 import assemble_stiffness_2d\n",
    "from gallery_section_04 import assemble_vector_2d"
   ]
  },
  {
   "cell_type": "markdown",
   "metadata": {},
   "source": [
    "### Create the Finite Elements Space"
   ]
  },
  {
   "cell_type": "markdown",
   "metadata": {},
   "source": [
    "In 2D, our Spline function space is defined as\n",
    "\n",
    "$$\n",
    "\\mathcal{V}_h := \\texttt{span}\\{ B_{i_1}^{p_1} B_{i_2}^{p_1}, ~ 1 \\le i_1 \\le n_1, ~ 1 \\le i_2 \\le n_2\\}\n",
    "$$\n",
    "\n",
    "which is basicaly \n",
    "$$\n",
    "\\mathcal{V}_h = \\mathcal{V}_h^1 \\otimes \\mathcal{V}_h^2 \n",
    "$$\n",
    "where\n",
    "$$\n",
    "\\mathcal{V}_h^1 := \\texttt{span}\\{ B_{i_1}^{p_1}, ~ 1 \\le i_1 \\le n_1\\}\n",
    "$$\n",
    "and\n",
    "$$\n",
    "\\mathcal{V}_h^2 := \\texttt{span}\\{ B_{i_2}^{p_2}, ~ 1 \\le i_2 \\le n_2\\}\n",
    "$$\n"
   ]
  },
  {
   "cell_type": "code",
   "execution_count": 4,
   "metadata": {},
   "outputs": [],
   "source": [
    "# create the spline space for each direction\n",
    "V1 = SplineSpace(degree=2, nelements=4)\n",
    "V2 = SplineSpace(degree=2, nelements=4)"
   ]
  },
  {
   "cell_type": "code",
   "execution_count": 5,
   "metadata": {},
   "outputs": [],
   "source": [
    "# create the tensor space\n",
    "V = TensorSpace(V1, V2)"
   ]
  },
  {
   "cell_type": "markdown",
   "metadata": {},
   "source": [
    "### Assemble the Stiffness Matrix\n",
    "\n",
    "The stiffness matrix entries are defined as\n",
    "\n",
    "$$\n",
    "M_{\\textbf{i}, \\textbf{j}} := \\int_{\\Omega} \\nabla B_{\\textbf{i}} \\cdot \\nabla B_{\\textbf{j}}\n",
    "$$\n",
    "\n",
    "where \n",
    "$$\n",
    "B_{\\textbf{i}}(x_1,x_2) := B_{i_1}(x_1)B_{i_2}(x_2), \\quad \\textbf{i} := (i_1,i_2) \n",
    "$$\n",
    "and\n",
    "$$\n",
    "B_{\\textbf{j}}(x_1,x_2) := B_{j_1}(x_1)B_{j_2}(x_2), \\quad \\textbf{j} := (j_1,j_2)\n",
    "$$"
   ]
  },
  {
   "cell_type": "code",
   "execution_count": 6,
   "metadata": {},
   "outputs": [],
   "source": [
    "stiffness = StencilMatrix(V.vector_space, V.vector_space)\n",
    "stiffness = assemble_stiffness_2d( V.nelements, \n",
    "                                   V.degree, \n",
    "                                   V.spans, \n",
    "                                   V.basis, \n",
    "                                   V.weights, \n",
    "                                   V.points, \n",
    "                                   matrix=stiffness )"
   ]
  },
  {
   "cell_type": "markdown",
   "metadata": {},
   "source": [
    "### Assemble the rhs\n",
    "\n",
    "The right hand side entries are defined as\n",
    "\n",
    "$$\n",
    "F_{\\textbf{i}} := \\int_{\\Omega} f B_{\\textbf{i}} ~d\\Omega\n",
    "$$"
   ]
  },
  {
   "cell_type": "code",
   "execution_count": 7,
   "metadata": {},
   "outputs": [],
   "source": [
    "rhs = StencilVector(V.vector_space)\n",
    "\n",
    "f = lambda x,y: 2*x*(1 - x) + 2*y*(1 - y) \n",
    "rhs = assemble_vector_2d( f, \n",
    "                          V.nelements, \n",
    "                          V.degree, \n",
    "                          V.spans, \n",
    "                          V.basis, \n",
    "                          V.weights, \n",
    "                          V.points, \n",
    "                          rhs=rhs )"
   ]
  },
  {
   "cell_type": "markdown",
   "metadata": {},
   "source": [
    "### Imposing boundary conditions"
   ]
  },
  {
   "cell_type": "code",
   "execution_count": 8,
   "metadata": {},
   "outputs": [],
   "source": [
    "n1,n2 = V.nbasis\n",
    "\n",
    "# ... resetting bnd dof to 0\n",
    "stiffness[0,:,:,:] = 0.\n",
    "stiffness[n1-1,:,:,:] = 0.\n",
    "stiffness[:,0,:,:] = 0.\n",
    "stiffness[:,n2-1,:,:] = 0.\n",
    "# ...\n",
    "\n",
    "# boundary x = 0\n",
    "stiffness[0,:,0,:] = 1.\n",
    "\n",
    "# boundary x = 1\n",
    "stiffness[n1-1,:,0,:] = 1.\n",
    "\n",
    "# boundary y = 0\n",
    "stiffness[:,0,:,0] = 1.\n",
    "\n",
    "# boundary y = 1\n",
    "stiffness[:,n2-1,:,0] = 1.\n",
    "\n",
    "# ...\n",
    "rhs[0,:] = 0.\n",
    "rhs[n1-1,:] = 0.\n",
    "rhs[:,0] = 0.\n",
    "rhs[:,n2-1] = 0.\n",
    "# ..."
   ]
  },
  {
   "cell_type": "markdown",
   "metadata": {},
   "source": [
    "From now on, you can use the function **apply_dirichlet** to set the dirichlet boundary conditions for both the matrix and rhs."
   ]
  },
  {
   "cell_type": "code",
   "execution_count": 9,
   "metadata": {},
   "outputs": [],
   "source": [
    "# convert the stencil matrix to scipy sparse\n",
    "stiffness = stiffness.tosparse() "
   ]
  },
  {
   "cell_type": "code",
   "execution_count": 10,
   "metadata": {},
   "outputs": [],
   "source": [
    "# convert the stencil vector to a nd_array\n",
    "rhs = rhs.toarray()"
   ]
  },
  {
   "cell_type": "code",
   "execution_count": 11,
   "metadata": {},
   "outputs": [],
   "source": [
    "from scipy.sparse import csc_matrix, linalg as sla\n",
    "\n",
    "lu = sla.splu(csc_matrix(stiffness))\n",
    "x = lu.solve(rhs)"
   ]
  },
  {
   "cell_type": "code",
   "execution_count": 12,
   "metadata": {},
   "outputs": [
    {
     "data": {
      "text/plain": [
       "<matplotlib.colorbar.Colorbar at 0x7fdbd82eb9a0>"
      ]
     },
     "execution_count": 12,
     "metadata": {},
     "output_type": "execute_result"
    },
    {
     "data": {
      "image/png": "[encoded data removed]",
      "text/plain": [
       "<Figure size 432x288 with 2 Axes>"
      ]
     },
     "metadata": {
      "needs_background": "light"
     },
     "output_type": "display_data"
    }
   ],
   "source": [
    "from simplines import plot_field_2d\n",
    "\n",
    "u = x.reshape(V.nbasis)\n",
    "plot_field_2d(V.knots, V.degree, u) ; plt.colorbar()"
   ]
  },
  {
   "cell_type": "code",
   "execution_count": null,
   "metadata": {},
   "outputs": [],
   "source": []
  }
 ],
 "metadata": {
  "kernelspec": {
   "display_name": "Python 3",
   "language": "python",
   "name": "python3"
  },
  "language_info": {
   "codemirror_mode": {
    "name": "ipython",
    "version": 3
   },
   "file_extension": ".py",
   "mimetype": "text/x-python",
   "name": "python",
   "nbconvert_exporter": "python",
   "pygments_lexer": "ipython3",
   "version": "3.8.5"
  }
 },
 "nbformat": 4,
 "nbformat_minor": 2
}
