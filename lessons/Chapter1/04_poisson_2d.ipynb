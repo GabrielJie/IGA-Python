{
 "cells": [
  {
   "cell_type": "markdown",
   "metadata": {},
   "source": [
    "# B-splines FEM solver for Poisson equation (2D)\n"
   ]
  },
  {
   "cell_type": "code",
   "execution_count": 14,
   "metadata": {},
   "outputs": [],
   "source": [
    "# needed imports\n",
    "from numpy import zeros, ones, linspace, zeros_like, asarray\n",
    "from matplotlib.pyplot import plot, show\n",
    "import matplotlib.pyplot as plt\n",
    "\n",
    "%matplotlib inline"
   ]
  },
  {
   "cell_type": "code",
   "execution_count": 2,
   "metadata": {},
   "outputs": [],
   "source": [
    "from spaces import SplineSpace, TensorSpace\n",
    "from linalg import StencilMatrix, StencilVector"
   ]
  },
  {
   "cell_type": "code",
   "execution_count": 3,
   "metadata": {},
   "outputs": [],
   "source": [
    "# ... assembling the stiffness matrix using stencil forms\n",
    "def assemble_stiffness(nelements, degree, spans, basis, weights, points, matrix):\n",
    "\n",
    "    # ... sizes\n",
    "    ne1,ne2              = nelements\n",
    "    p1,p2                = degree\n",
    "    spans_1, spans_2     = spans\n",
    "    basis_1, basis_2     = basis\n",
    "    weights_1, weights_2 = weights\n",
    "    points_1, points_2   = points\n",
    "    \n",
    "    k1 = weights_1.shape[1]\n",
    "    k2 = weights_2.shape[1]\n",
    "    # ...\n",
    "\n",
    "    # ... build matrices\n",
    "    for ie1 in range(0, ne1):\n",
    "        i_span_1 = spans_1[ie1]        \n",
    "        for ie2 in range(0, ne2):\n",
    "            i_span_2 = spans_2[ie2]        \n",
    "            # evaluation dependant uniquement de l'element\n",
    "            \n",
    "            for il_1 in range(0, p1+1):\n",
    "                for il_2 in range(0, p2+1):                \n",
    "                    for jl_1 in range(0, p1+1):\n",
    "                        for jl_2 in range(0, p2+1):\n",
    "                            i1 = i_span_1 - p1 + il_1\n",
    "                            j1 = i_span_1 - p1 + jl_1\n",
    "\n",
    "                            i2 = i_span_2 - p2 + il_2\n",
    "                            j2 = i_span_2 - p2 + jl_2\n",
    "\n",
    "                            v = 0.0\n",
    "                            for g1 in range(0, k1):\n",
    "                                for g2 in range(0, k2):\n",
    "                                    bi_0 = basis_1[ie1, il_1, 0, g1] * basis_2[ie2, il_2, 0, g2]\n",
    "                                    bi_x = basis_1[ie1, il_1, 1, g1] * basis_2[ie2, il_2, 0, g2]\n",
    "                                    bi_y = basis_1[ie1, il_1, 0, g1] * basis_2[ie2, il_2, 1, g2]\n",
    "\n",
    "                                    bj_0 = basis_1[ie1, jl_1, 0, g1] * basis_2[ie2, jl_2, 0, g2]\n",
    "                                    bj_x = basis_1[ie1, jl_1, 1, g1] * basis_2[ie2, jl_2, 0, g2]\n",
    "                                    bj_y = basis_1[ie1, jl_1, 0, g1] * basis_2[ie2, jl_2, 1, g2]\n",
    "\n",
    "                                    wvol = weights_1[ie1, g1] * weights_2[ie2, g2]\n",
    "\n",
    "                                    v += (bi_x * bj_x + bi_y * bj_y) * wvol\n",
    "\n",
    "                            matrix[i1, i2, j1-i1, j2-i2]  += v\n",
    "    # ...\n",
    "\n",
    "    return matrix    \n",
    "# ..."
   ]
  },
  {
   "cell_type": "code",
   "execution_count": 4,
   "metadata": {},
   "outputs": [],
   "source": [
    "# ... Assembly procedure for the rhs\n",
    "def assemble_rhs(f, nelements, degree, spans, basis, weights, points, rhs):\n",
    "\n",
    "    # ... sizes\n",
    "    ne1,ne2              = nelements\n",
    "    p1,p2                = degree\n",
    "    spans_1, spans_2     = spans\n",
    "    basis_1, basis_2     = basis\n",
    "    weights_1, weights_2 = weights\n",
    "    points_1, points_2   = points\n",
    "    \n",
    "    k1 = weights_1.shape[1]\n",
    "    k2 = weights_2.shape[1]\n",
    "    # ...\n",
    "\n",
    "    # ... build rhs\n",
    "    for ie1 in range(0, ne1):\n",
    "        i_span_1 = spans_1[ie1]        \n",
    "        for ie2 in range(0, ne2):\n",
    "            i_span_2 = spans_2[ie2]                        \n",
    "            \n",
    "            for il_1 in range(0, p1+1):\n",
    "                for il_2 in range(0, p2+1):   \n",
    "                    i1 = i_span_1 - p1 + il_1\n",
    "                    i2 = i_span_2 - p2 + il_2                    \n",
    "\n",
    "                    v = 0.0\n",
    "                    for g1 in range(0, k1):\n",
    "                        for g2 in range(0, k2):\n",
    "                            bi_0 = basis_1[ie1, il_1, 0, g1] * basis_2[ie2, il_2, 0, g2]\n",
    "                            bi_x = basis_1[ie1, il_1, 1, g1] * basis_2[ie2, il_2, 0, g2]\n",
    "                            bi_y = basis_1[ie1, il_1, 0, g1] * basis_2[ie2, il_2, 1, g2]\n",
    "                            \n",
    "                            x1    = points_1[ie1, g1]\n",
    "                            x2    = points_2[ie2, g2]\n",
    "                            wvol  = weights_1[ie1, g1]*weights_2[ie2, g2]\n",
    "\n",
    "                            v += bi_0 * f(x1,x2) * wvol\n",
    "\n",
    "                    rhs[i1,i2] += v\n",
    "    # ...\n",
    "\n",
    "    # ...\n",
    "    return rhs\n",
    "    # ...\n",
    "# ..."
   ]
  },
  {
   "cell_type": "code",
   "execution_count": 5,
   "metadata": {},
   "outputs": [],
   "source": [
    "V1 = SplineSpace(degree=2, nelements=4)\n",
    "V2 = SplineSpace(degree=2, nelements=4)\n",
    "\n",
    "V = TensorSpace(V1, V2)"
   ]
  },
  {
   "cell_type": "code",
   "execution_count": 45,
   "metadata": {},
   "outputs": [],
   "source": [
    "stiffness = StencilMatrix(V.vector_space, V.vector_space)\n",
    "stiffness = assemble_stiffness(V.nelements, \n",
    "                               V.degree, \n",
    "                               V.spans, \n",
    "                               V.basis, \n",
    "                               V.weights, \n",
    "                               V.points, \n",
    "                               matrix=stiffness)"
   ]
  },
  {
   "cell_type": "code",
   "execution_count": 46,
   "metadata": {},
   "outputs": [],
   "source": [
    "rhs = StencilVector(V.vector_space)\n",
    "\n",
    "f = lambda x,y: 2*x*(1 - x) + 2*y*(1 - y) \n",
    "rhs = assemble_rhs(f, \n",
    "                   V.nelements, \n",
    "                   V.degree, \n",
    "                   V.spans, \n",
    "                   V.basis, \n",
    "                   V.weights, \n",
    "                   V.points, \n",
    "                   rhs=rhs)"
   ]
  },
  {
   "cell_type": "code",
   "execution_count": 47,
   "metadata": {},
   "outputs": [],
   "source": [
    "n1,n2 = V.nbasis\n",
    "\n",
    "rhs[0,:]    = 1.\n",
    "rhs[n1-1,:] = 1.\n",
    "rhs[:,0]    = 1.\n",
    "rhs[:,n2-1] = 1.\n",
    "\n",
    "stiffness[0,:,0,:]    = 1.e14\n",
    "stiffness[n1-1,:,0,:]    = 1.e14\n",
    "stiffness[:,0,:,0]    = 1.e14\n",
    "stiffness[:,n2-1,:,0]    = 1.e14"
   ]
  },
  {
   "cell_type": "code",
   "execution_count": 48,
   "metadata": {},
   "outputs": [],
   "source": [
    "# convert the stencil matrix to scipy sparse\n",
    "stiffness = stiffness.tosparse() "
   ]
  },
  {
   "cell_type": "code",
   "execution_count": 49,
   "metadata": {},
   "outputs": [],
   "source": [
    "rhs = rhs.toarray()"
   ]
  },
  {
   "cell_type": "code",
   "execution_count": 50,
   "metadata": {},
   "outputs": [],
   "source": [
    "from scipy.sparse import csc_matrix, linalg as sla\n",
    "\n",
    "lu = sla.splu(csc_matrix(stiffness))\n",
    "x = lu.solve(rhs)"
   ]
  },
  {
   "cell_type": "code",
   "execution_count": 51,
   "metadata": {},
   "outputs": [
    {
     "data": {
      "text/plain": [
       "array([-2.12673611e-16,  3.55902778e-17,  2.54692819e-14, -1.48954971e-14,\n",
       "        3.55902778e-17, -2.12673611e-16,  3.55902778e-17,  1.56250000e-02,\n",
       "        3.12500000e-02,  3.12500000e-02,  1.56250000e-02,  3.55902778e-17,\n",
       "       -1.48954971e-14,  3.12500000e-02,  6.25000000e-02,  6.25000000e-02,\n",
       "        3.12500000e-02,  2.54692819e-14,  2.54692819e-14,  3.12500000e-02,\n",
       "        6.25000000e-02,  6.25000000e-02,  3.12500000e-02, -1.48954971e-14,\n",
       "        3.55902778e-17,  1.56250000e-02,  3.12500000e-02,  3.12500000e-02,\n",
       "        1.56250000e-02,  3.55902778e-17, -2.12673611e-16,  3.55902778e-17,\n",
       "       -1.48954971e-14,  2.54692819e-14,  3.55902778e-17, -2.12673611e-16])"
      ]
     },
     "execution_count": 51,
     "metadata": {},
     "output_type": "execute_result"
    }
   ],
   "source": [
    "x"
   ]
  },
  {
   "cell_type": "code",
   "execution_count": 52,
   "metadata": {},
   "outputs": [
    {
     "data": {
      "text/plain": [
       "<matplotlib.colorbar.Colorbar at 0x7f4e5b3d0d90>"
      ]
     },
     "execution_count": 52,
     "metadata": {},
     "output_type": "execute_result"
    },
    {
     "data": {
      "image/png": "[encoded data removed]",
      "text/plain": [
       "<Figure size 432x288 with 2 Axes>"
      ]
     },
     "metadata": {
      "needs_background": "light"
     },
     "output_type": "display_data"
    }
   ],
   "source": [
    "from utilities import plot_field_2d\n",
    "\n",
    "u = x.reshape(V.nbasis)\n",
    "plot_field_2d(V.knots, V.degree, u) ; plt.colorbar()"
   ]
  },
  {
   "cell_type": "code",
   "execution_count": 53,
   "metadata": {},
   "outputs": [
    {
     "data": {
      "text/plain": [
       "<matplotlib.colorbar.Colorbar at 0x7f4e5b0eb400>"
      ]
     },
     "execution_count": 53,
     "metadata": {},
     "output_type": "execute_result"
    },
    {
     "data": {
      "image/png": "[encoded data removed]",
      "text/plain": [
       "<Figure size 432x288 with 2 Axes>"
      ]
     },
     "metadata": {
      "needs_background": "light"
     },
     "output_type": "display_data"
    }
   ],
   "source": [
    "import numpy as np\n",
    "\n",
    "N = 200\n",
    "ts = np.linspace(0.,1.,N)\n",
    "X,Y = np.meshgrid(ts,ts)\n",
    "f = lambda x,y: x*(1-x)*y*(1-y)\n",
    "Z = [[f(x,y) for x in ts] for y in ts]\n",
    "plt.contourf(X,Y,Z); plt.colorbar()"
   ]
  },
  {
   "cell_type": "code",
   "execution_count": null,
   "metadata": {},
   "outputs": [],
   "source": []
  }
 ],
 "metadata": {
  "kernelspec": {
   "display_name": "Python 3",
   "language": "python",
   "name": "python3"
  },
  "language_info": {
   "codemirror_mode": {
    "name": "ipython",
    "version": 3
   },
   "file_extension": ".py",
   "mimetype": "text/x-python",
   "name": "python",
   "nbconvert_exporter": "python",
   "pygments_lexer": "ipython3",
   "version": "3.8.5"
  }
 },
 "nbformat": 4,
 "nbformat_minor": 2
}
