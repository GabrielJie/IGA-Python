{
 "cells": [
  {
   "cell_type": "markdown",
   "metadata": {},
   "source": [
    "# B-splines FEM solver for Poisson equation (2D)\n"
   ]
  },
  {
   "cell_type": "code",
   "execution_count": 1,
   "metadata": {},
   "outputs": [],
   "source": [
    "# needed imports\n",
    "from numpy import zeros, ones, linspace, zeros_like, asarray\n",
    "from matplotlib.pyplot import plot, show\n",
    "%matplotlib inline"
   ]
  },
  {
   "cell_type": "code",
   "execution_count": 2,
   "metadata": {},
   "outputs": [],
   "source": [
    "# ... assembling the stiffness matrix using stencil forms\n",
    "def assemble_stiffness(nelements, degree, spans, basis, weights, points, matrix):\n",
    "\n",
    "    # ... sizes\n",
    "    ne1,ne2              = nelements\n",
    "    p1,p2                = degree\n",
    "    spans_1, spans_2     = spans\n",
    "    basis_1, basis_2     = basis\n",
    "    weights_1, weights_2 = weights\n",
    "    points_1, points_2   = points\n",
    "    \n",
    "    k1 = weights_1.shape[1]\n",
    "    k2 = weights_2.shape[1]\n",
    "    # ...\n",
    "\n",
    "    # ... build matrices\n",
    "    for ie1 in range(0, ne1):\n",
    "        i_span_1 = spans_1[ie1]        \n",
    "        for ie2 in range(0, ne2):\n",
    "            i_span_2 = spans_2[ie2]        \n",
    "            # evaluation dependant uniquement de l'element\n",
    "            \n",
    "            for il_1 in range(0, p1+1):\n",
    "                for il_2 in range(0, p2+1):                \n",
    "                    for jl_1 in range(0, p1+1):\n",
    "                        for jl_2 in range(0, p2+1):\n",
    "                            i1 = i_span_1 - p1 + il_1\n",
    "                            j1 = i_span_1 - p1 + jl_1\n",
    "\n",
    "                            i2 = i_span_2 - p2 + il_2\n",
    "                            j2 = i_span_2 - p2 + jl_2\n",
    "\n",
    "                            v = 0.0\n",
    "                            for g1 in range(0, k1):\n",
    "                                for g2 in range(0, k2):\n",
    "                                    bi_0 = basis_1[ie1, il_1, 0, g1] * basis_2[ie2, il_2, 0, g2]\n",
    "                                    bi_x = basis_1[ie1, il_1, 1, g1] * basis_2[ie2, il_2, 0, g2]\n",
    "                                    bi_y = basis_1[ie1, il_1, 0, g1] * basis_2[ie2, il_2, 1, g2]\n",
    "\n",
    "                                    bj_0 = basis_1[ie1, jl_1, 0, g1] * basis_2[ie2, jl_2, 0, g2]\n",
    "                                    bj_x = basis_1[ie1, jl_1, 1, g1] * basis_2[ie2, jl_2, 0, g2]\n",
    "                                    bj_y = basis_1[ie1, jl_1, 0, g1] * basis_2[ie2, jl_2, 1, g2]\n",
    "\n",
    "                                    wvol = weights_1[ie1, g1] * weights_2[ie2, g2]\n",
    "\n",
    "                                    v += (bi_x * bj_x + bi_y * bj_y) * wvol\n",
    "\n",
    "                            matrix[i1, j1, i2, j2]  += v\n",
    "    # ...\n",
    "\n",
    "    return matrix    \n",
    "# ..."
   ]
  },
  {
   "cell_type": "code",
   "execution_count": 11,
   "metadata": {},
   "outputs": [],
   "source": [
    "# ... Assembly procedure for the rhs\n",
    "def assemble_rhs(f, nelements, degree, spans, basis, weights, points, rhs):\n",
    "\n",
    "    # ... sizes\n",
    "    ne1,ne2              = nelements\n",
    "    p1,p2                = degree\n",
    "    spans_1, spans_2     = spans\n",
    "    basis_1, basis_2     = basis\n",
    "    weights_1, weights_2 = weights\n",
    "    points_1, points_2   = points\n",
    "    \n",
    "    k1 = weights_1.shape[1]\n",
    "    k2 = weights_2.shape[1]\n",
    "    # ...\n",
    "    \n",
    "    arr_f = zeros((k1,k2))\n",
    "\n",
    "    # ... build rhs\n",
    "    for ie1 in range(0, ne1):\n",
    "        i_span_1 = spans_1[ie1]        \n",
    "        for ie2 in range(0, ne2):\n",
    "            i_span_2 = spans_2[ie2]        \n",
    "            # evaluation dependant uniquement de l'element\n",
    "            for g1 in range(0, k1):\n",
    "                for g2 in range(0, k2):\n",
    "                    x1    = points_1[ie1, g1]\n",
    "                    x2    = points_2[ie2, g2]\n",
    "                    \n",
    "                    arr_f[g1,g2] = f(x1,x2)                    \n",
    "            \n",
    "            for il_1 in range(0, p1+1):\n",
    "                for il_2 in range(0, p2+1):   \n",
    "                    i1 = i_span_1 - p1 + il_1\n",
    "                    i2 = i_span_2 - p2 + il_2                    \n",
    "\n",
    "                    v = 0.0\n",
    "                    for g1 in range(0, k1):\n",
    "                        for g2 in range(0, k2):\n",
    "                            bi_0 = basis_1[ie1, il_1, 0, g1] * basis_2[ie2, il_2, 0, g2]\n",
    "                            bi_x = basis_1[ie1, il_1, 1, g1] * basis_2[ie2, il_2, 0, g2]\n",
    "                            bi_y = basis_1[ie1, il_1, 0, g1] * basis_2[ie2, il_2, 1, g2]\n",
    "                            \n",
    "                            x1    = points_1[ie1, g1]\n",
    "                            x2    = points_2[ie2, g2]\n",
    "                            wvol  = weights_1[ie1, g1]*weights_2[ie2, g2]\n",
    "\n",
    "                            v += bi_0 * arr_f[g1,g2] * wvol\n",
    "\n",
    "                    rhs[i1,i2] += v\n",
    "    # ...\n",
    "\n",
    "    # ...\n",
    "    return rhs\n",
    "    # ...\n",
    "# ..."
   ]
  },
  {
   "cell_type": "code",
   "execution_count": 4,
   "metadata": {},
   "outputs": [],
   "source": [
    "from spaces import SplineSpace"
   ]
  },
  {
   "cell_type": "code",
   "execution_count": 5,
   "metadata": {},
   "outputs": [],
   "source": [
    "V = SplineSpace(degree=3, nelements=32)"
   ]
  },
  {
   "cell_type": "code",
   "execution_count": 6,
   "metadata": {},
   "outputs": [],
   "source": [
    "stiffness = zeros((V.nbasis, V.nbasis, V.nbasis, V.nbasis))\n",
    "stiffness = assemble_stiffness((V.nelements, V.nelements), \n",
    "                               (V.degree,    V.degree), \n",
    "                               (V.spans,     V.spans), \n",
    "                               (V.basis,     V.basis), \n",
    "                               (V.weights,   V.weights), \n",
    "                               (V.points,    V.points), \n",
    "                               matrix=stiffness)"
   ]
  },
  {
   "cell_type": "code",
   "execution_count": 7,
   "metadata": {},
   "outputs": [],
   "source": [
    "f = lambda x,y: 2.    "
   ]
  },
  {
   "cell_type": "code",
   "execution_count": 12,
   "metadata": {},
   "outputs": [],
   "source": [
    "rhs = zeros((V.nbasis, V.nbasis))\n",
    "rhs = assemble_rhs(f, \n",
    "                   (V.nelements, V.nelements), \n",
    "                   (V.degree,    V.degree), \n",
    "                   (V.spans,     V.spans), \n",
    "                   (V.basis,     V.basis), \n",
    "                   (V.weights,   V.weights), \n",
    "                   (V.points,    V.points), \n",
    "                   rhs=rhs)"
   ]
  },
  {
   "cell_type": "code",
   "execution_count": 13,
   "metadata": {},
   "outputs": [],
   "source": [
    "# apply homogeneous dirichlet boundary conditions\n",
    "rhs = rhs[1:-1,1:-1]\n",
    "stiffness = stiffness[1:-1, 1:-1, 1:-1, 1:-1]"
   ]
  },
  {
   "cell_type": "markdown",
   "metadata": {},
   "source": [
    "### Linear solver\n",
    "\n",
    "Since we used a dense storage as a Tensor (ndarray of rank 4), we therefor can not use available linear solvers as they are. We have two options\n",
    "\n",
    "* Convert the tensor to a sparse matrix (will be covered later)\n",
    "* Define the action Matrix-Vector and give it to an iterative solver\n",
    "\n",
    "We shall consider the second option in what follows.\n",
    "\n",
    "Since each degree of freedom (B-Spline function) is only related to (2p+1) other dofs (because of the compact support of B-Splines), therefor we know, that our dense matrices are in fact sparse. Moreover, we know the exact shape (connectivity) of the matrix. We shall exploit this property in the sequel.\n",
    "\n",
    "The action Matrix-Vector is then defined as"
   ]
  },
  {
   "cell_type": "code",
   "execution_count": null,
   "metadata": {},
   "outputs": [],
   "source": [
    "def mv(M, v, degrees):\n",
    "    n1,n2 = v.shape\n",
    "    p1,p2 = degrees\n",
    "    for i1 in range(n1):\n",
    "        for i2 in range(n2):"
   ]
  }
 ],
 "metadata": {
  "kernelspec": {
   "display_name": "Python 3",
   "language": "python",
   "name": "python3"
  },
  "language_info": {
   "codemirror_mode": {
    "name": "ipython",
    "version": 3
   },
   "file_extension": ".py",
   "mimetype": "text/x-python",
   "name": "python",
   "nbconvert_exporter": "python",
   "pygments_lexer": "ipython3",
   "version": "3.8.5"
  }
 },
 "nbformat": 4,
 "nbformat_minor": 2
}
