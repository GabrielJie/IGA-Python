{
 "cells": [
  {
   "cell_type": "markdown",
   "metadata": {},
   "source": [
    "# B-splines FEM solver for Poisson equation (1D)\n"
   ]
  },
  {
   "cell_type": "markdown",
   "metadata": {},
   "source": [
    "Following the previous [section](http://nbviewer.jupyter.org/github/ratnania/IGA-Python/blob/main/lessons/Chapter1/01_introduction_fem.ipynb), we implement here a B-Splines FEM for the Poisson problem in 1D, with homogeneous boundary conditions.\n",
    "\n",
    "Appropriate data-structures for matrices and vectors, involved when assembling a bilinear and linear form, will be discussed in the next section.\n",
    "\n",
    "We consider the following Poisson problem in 1D:\n",
    "$$\n",
    "-u^{\\prime \\prime} = f, \\quad (0,1)\n",
    "\\\\\n",
    "u(0) = 0  ~~ \\mbox{and} ~~ u(1) = 0\n",
    "$$\n",
    "\n",
    "Using the algorithms developped in section 1., for assembly a bilinear form and a linear form, we see that we need to assemble\n",
    "\n",
    "* The Stiffness matrix\n",
    "* The right hand side (rhs)"
   ]
  },
  {
   "cell_type": "code",
   "execution_count": 1,
   "metadata": {},
   "outputs": [],
   "source": [
    "# needed imports\n",
    "from numpy import zeros, ones, linspace, zeros_like, asarray\n",
    "from matplotlib.pyplot import plot, show\n",
    "%matplotlib inline"
   ]
  },
  {
   "cell_type": "code",
   "execution_count": 2,
   "metadata": {},
   "outputs": [],
   "source": [
    "# ... assembling the stiffness matrix using stencil forms\n",
    "def assemble_stiffness(nelements, degree, spans, basis, weights, points, matrix):\n",
    "\n",
    "    # ... sizes\n",
    "    ne1       = nelements\n",
    "    p1        = degree\n",
    "    spans_1   = spans\n",
    "    basis_1   = basis\n",
    "    weights_1 = weights\n",
    "    points_1  = points\n",
    "    \n",
    "    k1 = weights.shape[1]\n",
    "    # ...\n",
    "\n",
    "    # ... build matrices\n",
    "    for ie1 in range(0, ne1):\n",
    "        i_span_1 = spans_1[ie1]\n",
    "        for il_1 in range(0, p1+1):\n",
    "            for jl_1 in range(0, p1+1):\n",
    "                i1 = i_span_1 - p1 + il_1\n",
    "                j1 = i_span_1 - p1 + jl_1\n",
    "\n",
    "                v = 0.0\n",
    "                for g1 in range(0, k1):\n",
    "                    bi_0 = basis_1[ie1, il_1, 0, g1]\n",
    "                    bi_x = basis_1[ie1, il_1, 1, g1]                    \n",
    "\n",
    "                    bj_0 = basis_1[ie1, jl_1, 0, g1]\n",
    "                    bj_x = basis_1[ie1, jl_1, 1, g1]                    \n",
    "\n",
    "                    wvol = weights_1[ie1, g1]\n",
    "\n",
    "                    v += (bi_x * bj_x) * wvol\n",
    "\n",
    "                matrix[i1, j1]  += v\n",
    "    # ...\n",
    "\n",
    "    return matrix    \n",
    "# ..."
   ]
  },
  {
   "cell_type": "code",
   "execution_count": 3,
   "metadata": {},
   "outputs": [],
   "source": [
    "# ... Assembly procedure for the rhs\n",
    "def assemble_vector(f, nelements, degree, spans, basis, weights, points, rhs):\n",
    "\n",
    "    # ... sizes\n",
    "    ne1       = nelements\n",
    "    p1        = degree\n",
    "    spans_1   = spans\n",
    "    basis_1   = basis\n",
    "    weights_1 = weights\n",
    "    points_1  = points\n",
    "    \n",
    "    k1 = weights.shape[1]\n",
    "    # ...\n",
    "\n",
    "    # ... build rhs\n",
    "    for ie1 in range(0, ne1):\n",
    "        i_span_1 = spans_1[ie1]\n",
    "        for il_1 in range(0, p1+1):\n",
    "            i1 = i_span_1 - p1 + il_1\n",
    "\n",
    "            v = 0.0\n",
    "            for g1 in range(0, k1):\n",
    "                bi_0 = basis_1[ie1, il_1, 0, g1]\n",
    "                bi_x = basis_1[ie1, il_1, 1, g1]  \n",
    "\n",
    "                x1    = points_1[ie1, g1]\n",
    "                wvol  = weights_1[ie1, g1]\n",
    "\n",
    "                v += bi_0 * f(x1) * wvol\n",
    "\n",
    "            rhs[i1] += v\n",
    "    # ...\n",
    "\n",
    "    # ...\n",
    "    return rhs\n",
    "    # ...\n",
    "# ..."
   ]
  },
  {
   "cell_type": "markdown",
   "metadata": {},
   "source": [
    "---\n",
    "**Note**: \n",
    "We added the function **f** as an argument of the *assemble_rhs* function. In general, we will avoid calling a function over the quadrature points for performance reasons. \n",
    "\n",
    "---"
   ]
  },
  {
   "cell_type": "markdown",
   "metadata": {},
   "source": [
    "We will need the following imports from the **simplines** library."
   ]
  },
  {
   "cell_type": "code",
   "execution_count": 4,
   "metadata": {},
   "outputs": [],
   "source": [
    "# nedded imports\n",
    "from simplines import elements_spans  # computes the span for each element\n",
    "from simplines import make_knots      # create a knot sequence from a grid\n",
    "from simplines import quadrature_grid # create a quadrature rule over the whole 1d grid\n",
    "from simplines import basis_ders_on_quad_grid # evaluates all bsplines and their derivatives on the quad grid\n",
    "from simplines import gauss_legendre\n",
    "from simplines import plot_field_1d # plot a solution for 1d problems"
   ]
  },
  {
   "cell_type": "markdown",
   "metadata": {},
   "source": [
    "Now, let's create a B-spline Finite Element Space $V$ over a grid of $32$ elements, and using **cubic** *B-splines*.\n",
    "\n",
    "A B-Spline space is defined here through a grid, we then call the function **make_knots** to create an open knot sequence. We finally, compute the spans for every element, to avoid doing it for each quadrature point on the current element, in the assembly procedure."
   ]
  },
  {
   "cell_type": "code",
   "execution_count": 5,
   "metadata": {},
   "outputs": [],
   "source": [
    "p  = 3    # spline degree\n",
    "ne = 32   # number of elements\n",
    "\n",
    "grid  = linspace(0., 1., ne+1)\n",
    "knots = make_knots(grid, p, periodic=False)\n",
    "spans = elements_spans(knots, p)  "
   ]
  },
  {
   "cell_type": "code",
   "execution_count": 6,
   "metadata": {},
   "outputs": [],
   "source": [
    "nelements = len(grid) - 1\n",
    "nbasis    = len(knots) - p - 1\n",
    "\n",
    "# we need the value a B-Spline and its first derivative\n",
    "nderiv = 1\n",
    "\n",
    "# create the gauss-legendre rule, on [-1, 1]\n",
    "u, w = gauss_legendre( p )\n",
    "\n",
    "# for each element on the grid, we create a local quadrature grid\n",
    "points, weights = quadrature_grid( grid, u, w )\n",
    "\n",
    "# for each element and a quadrature points, \n",
    "# we compute the non-vanishing B-Splines\n",
    "basis = basis_ders_on_quad_grid( knots, p, points, nderiv, normalization=False )"
   ]
  },
  {
   "cell_type": "markdown",
   "metadata": {},
   "source": [
    "Assembling the **Stiffness** matrix is then done using"
   ]
  },
  {
   "cell_type": "code",
   "execution_count": 7,
   "metadata": {},
   "outputs": [],
   "source": [
    "stiffness = zeros((nbasis, nbasis))\n",
    "stiffness = assemble_stiffness(nelements, p, spans, basis, weights, points, matrix=stiffness)"
   ]
  },
  {
   "cell_type": "markdown",
   "metadata": {},
   "source": [
    "### Analytical solution\n",
    "\n",
    "In finite elements, one of the first tests we do is to check polynomial solutions of with a degree that smaller or equal to the one we chose for our discretization.\n",
    "Here, we take the analytical solution $u(x) = x(1-x)$ which leads to the rhs $f(x) = - \\partial_{xx} u(x) = 2$."
   ]
  },
  {
   "cell_type": "code",
   "execution_count": 8,
   "metadata": {},
   "outputs": [],
   "source": [
    "f = lambda x: 2.    \n",
    "rhs = zeros(nbasis)\n",
    "rhs = assemble_vector(f, nelements, p, spans, basis, weights, points, rhs=rhs)"
   ]
  },
  {
   "cell_type": "markdown",
   "metadata": {},
   "source": [
    "In order to apply the homogeneous Dirichlet boundary conditions, we only have to remove the first and the last splines, since their values at the boundary is $1$. Due to the partition of unity, the remaining splines are $0$ on the boundary."
   ]
  },
  {
   "cell_type": "code",
   "execution_count": 9,
   "metadata": {},
   "outputs": [],
   "source": [
    "# apply homogeneous dirichlet boundary conditions\n",
    "rhs = rhs[1:-1]\n",
    "stiffness = stiffness[1:-1, 1:-1]"
   ]
  },
  {
   "cell_type": "markdown",
   "metadata": {},
   "source": [
    "We use a **cg** solver from **scipy** to solve the linear system."
   ]
  },
  {
   "cell_type": "code",
   "execution_count": 10,
   "metadata": {},
   "outputs": [],
   "source": [
    "from scipy.sparse.linalg import cg\n",
    "u, info = cg( stiffness, rhs, tol=1e-6, maxiter=5000 )"
   ]
  },
  {
   "cell_type": "markdown",
   "metadata": {},
   "source": [
    "Now, we need to add the first and last control points, which are equal to **0**, then proceed to the plot."
   ]
  },
  {
   "cell_type": "code",
   "execution_count": 11,
   "metadata": {},
   "outputs": [
    {
     "data": {
      "image/png": "[encoded data removed]",
      "text/plain": [
       "<Figure size 432x288 with 1 Axes>"
      ]
     },
     "metadata": {
      "needs_background": "light"
     },
     "output_type": "display_data"
    }
   ],
   "source": [
    "u = [0.] + list(u) + [0.]\n",
    "u = asarray(u)\n",
    "plot_field_1d(knots, p, u, nx=401)"
   ]
  },
  {
   "cell_type": "markdown",
   "metadata": {},
   "source": [
    "## The Spline Space class\n",
    "\n",
    "Since we will be calling over and over the block-lines [5] and [6], we created a class called **SplineSpace** that you can import from **simplines** library."
   ]
  },
  {
   "cell_type": "markdown",
   "metadata": {},
   "source": [
    "### Matrix profile\n",
    "\n",
    "Let's check the profile of our matrix."
   ]
  },
  {
   "cell_type": "code",
   "execution_count": 12,
   "metadata": {},
   "outputs": [
    {
     "data": {
      "text/plain": [
       "<matplotlib.image.AxesImage at 0x7f260dd0d700>"
      ]
     },
     "execution_count": 12,
     "metadata": {},
     "output_type": "execute_result"
    },
    {
     "data": {
      "image/png": "[encoded data removed]",
      "text/plain": [
       "<Figure size 432x288 with 1 Axes>"
      ]
     },
     "metadata": {
      "needs_background": "light"
     },
     "output_type": "display_data"
    }
   ],
   "source": [
    "import matplotlib.pyplot as plt \n",
    "\n",
    "plt.spy(stiffness)"
   ]
  },
  {
   "cell_type": "markdown",
   "metadata": {},
   "source": [
    "As expected, it is a sparse matrix and it has a typical profile (band one)."
   ]
  },
  {
   "cell_type": "markdown",
   "metadata": {},
   "source": [
    "### Next step\n",
    "\n",
    "In fact, we are not done yet!\n",
    "The problem now, is that the data structure we are using for the matrix (here as a dense matrix) will consume too much memory, and is not taken into account the locality!\n",
    "\n",
    "Since on each element, there are exactly $p+1$ consecutive non-vanishing *B-splines*, we know that on each element there are at most $2p+1$ non zeros entries (in every direction). This means that we will need to set entries as the following, in $1D$:\n",
    "\n",
    "```python\n",
    "M[i1, j1 - i1]  += v_s\n",
    "```\n",
    "\n",
    "in $2D$:\n",
    "\n",
    "```python\n",
    "M[i1, i2, j1 - i1, j2 - i2]  += v_s\n",
    "```\n",
    "\n",
    "and in $3D$:\n",
    "\n",
    "\n",
    "```python\n",
    "M[i1, i2, i3, j1 - i1, j2 - i2, j3 - i3]  += v_s\n",
    "```\n",
    "\n",
    "Unfortunatly, this can not be represented as a **numpy.ndarray**, because of the negative indexing!\n",
    "Moreover, if our aim is to write a parallel code, other consideration must be taken into account.\n",
    "\n",
    "More details will be found in the next [section](http://nbviewer.jupyter.org/github/ratnania/IGA-Python/blob/main/lessons/Chapter1/03_data_structure.ipynb).\n"
   ]
  },
  {
   "cell_type": "markdown",
   "metadata": {},
   "source": [
    "## Exercises"
   ]
  },
  {
   "cell_type": "markdown",
   "metadata": {},
   "source": [
    "### Exercise 1.\n",
    "\n",
    "1. Implement a 1D Poisson solver using non homogeneous Dirichlet boundary conditions.\n",
    "\n",
    "2. Implement a 2D Poisson solver using homogeneous and non homogeneous Dirichlet boundary conditions."
   ]
  },
  {
   "cell_type": "markdown",
   "metadata": {},
   "source": [
    "### Exercise 2.\n",
    "\n",
    "We consider the Heat equation in 1D\n",
    "\n",
    "$$\n",
    "\\partial_t u = \\nabla^2 u\n",
    "$$\n",
    "\n",
    "with homogeneous boundary conditions.\n",
    "\n",
    "1. Write an explicit FEM solver. What do you notice about the dependency of the CFL with respect to the degree? what about the regularity?\n",
    "\n",
    "2. Write an implicit FEM solver."
   ]
  },
  {
   "cell_type": "markdown",
   "metadata": {},
   "source": [
    "### Exercise 3.\n",
    "\n",
    "We consider a unidirectional flow in the velocity/pressure formulation\n",
    "\n",
    "$$\n",
    "\\partial u_x = - \\frac{1}{\\rho} \\partial_x p + \\nu \\partial_{yy}^2 u_x + g_x\n",
    "$$\n",
    "\n",
    "where the unknown $u_x$ is a function of $y$ only. \n",
    "\n",
    "We will consider $\\partial_x p = -2$ and $g_x = 0.4$. The boundary conditions are given by $u_x(y=0) = u_x(y=h) = 0$.\n",
    "\n",
    "1. Write an explicit and implicit time schemes and solvers.\n",
    "\n",
    "2. Find numerical CFL in the case of explicit time scheme.\n",
    "\n",
    "3. Find the steady state.\n"
   ]
  }
 ],
 "metadata": {
  "kernelspec": {
   "display_name": "Python 3",
   "language": "python",
   "name": "python3"
  },
  "language_info": {
   "codemirror_mode": {
    "name": "ipython",
    "version": 3
   },
   "file_extension": ".py",
   "mimetype": "text/x-python",
   "name": "python",
   "nbconvert_exporter": "python",
   "pygments_lexer": "ipython3",
   "version": "3.8.5"
  }
 },
 "nbformat": 4,
 "nbformat_minor": 2
}
