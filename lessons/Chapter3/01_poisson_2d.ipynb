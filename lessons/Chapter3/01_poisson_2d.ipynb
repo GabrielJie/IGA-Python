{
 "cells": [
  {
   "cell_type": "code",
   "execution_count": 1,
   "metadata": {},
   "outputs": [],
   "source": [
    "from sympy import pi, cos, sin, symbols\n",
    "from sympy.utilities.lambdify import implemented_function\n",
    "import pytest\n",
    "\n",
    "from sympde.calculus import grad, dot\n",
    "from sympde.calculus import laplace\n",
    "from sympde.topology import ScalarFunctionSpace\n",
    "from sympde.topology import element_of\n",
    "from sympde.topology import NormalVector\n",
    "from sympde.topology import Square\n",
    "from sympde.topology import Union\n",
    "from sympde.expr     import BilinearForm, LinearForm, integral\n",
    "from sympde.expr     import Norm\n",
    "from sympde.expr     import find, EssentialBC\n",
    "from sympde.expr.expr import linearize\n",
    "\n",
    "from psydac.fem.basic          import FemField\n",
    "from psydac.api.discretization import discretize\n",
    "\n",
    "x,y,z = symbols('x1, x2, x3')"
   ]
  },
  {
   "cell_type": "markdown",
   "metadata": {},
   "source": [
    "# Non-Linear Poisson in 2D"
   ]
  },
  {
   "cell_type": "markdown",
   "metadata": {},
   "source": [
    "In this section, we consider the non-linear Poisson problem:\n",
    "\n",
    "$$\n",
    "-\\nabla \\cdot \\left( (1+u^2) \\nabla u \\right) = f, \\Omega\n",
    "\\\\\n",
    "u = 0, \\partial \\Omega\n",
    "$$\n",
    "where $\\Omega$ denotes the unit square.\n",
    "\n",
    "For testing, we shall take a function $u$ that fulfills the boundary condition, the compute $f$ as\n",
    "\n",
    "$$\n",
    "f(x,y) = -\\nabla^2 u - F(u)\n",
    "$$"
   ]
  },
  {
   "cell_type": "markdown",
   "metadata": {},
   "source": [
    "The weak formulation is\n",
    "\n",
    "$$\n",
    "\\int_{\\Omega} (1+u^2) \\nabla u \\cdot \\nabla v ~ d\\Omega = \\int_{\\Omega} f v ~d\\Omega, \\quad \\forall v \\in \\mathcal{V}\n",
    "$$"
   ]
  },
  {
   "cell_type": "markdown",
   "metadata": {},
   "source": [
    "For the sack of generality, we shall consider the linear form\n",
    "\n",
    "$$\n",
    "G(v;u,w) := \\int_{\\Omega} (1+w^2) \\nabla u \\cdot \\nabla v ~ d\\Omega, \\quad \\forall u,v,w \\in \\mathcal{V}\n",
    "$$\n"
   ]
  },
  {
   "cell_type": "markdown",
   "metadata": {},
   "source": [
    "Our problem is then\n",
    "\n",
    "$$\n",
    "\\mbox{Find } u \\in \\mathcal{V}, \\mbox{such that}\\\\\n",
    "G(v;u,u) = l(v), \\quad \\forall v \\in \\mathcal{V}\n",
    "$$\n",
    "\n",
    "where\n",
    "\n",
    "$$\n",
    "l(v) := \\int_{\\Omega} f v ~d\\Omega, \\quad \\forall v \\in \\mathcal{V}\n",
    "$$"
   ]
  },
  {
   "cell_type": "markdown",
   "metadata": {},
   "source": [
    "#### Topological domain"
   ]
  },
  {
   "cell_type": "code",
   "execution_count": 2,
   "metadata": {},
   "outputs": [],
   "source": [
    "#==============================================================================\n",
    "def get_boundaries(*args):\n",
    "\n",
    "    if not args:\n",
    "        return ()\n",
    "    else:\n",
    "        assert all(1 <= a <= 4 for a in args)\n",
    "        assert len(set(args)) == len(args)\n",
    "\n",
    "    boundaries = {1: {'axis': 0, 'ext': -1},\n",
    "                  2: {'axis': 0, 'ext':  1},\n",
    "                  3: {'axis': 1, 'ext': -1},\n",
    "                  4: {'axis': 1, 'ext':  1}}\n",
    "\n",
    "    return tuple(boundaries[i] for i in args)\n",
    "\n",
    "dir_zero_boundary    = get_boundaries(1, 2, 3, 4)\n",
    "dir_nonzero_boundary = get_boundaries()\n",
    "\n",
    "domain = Square()\n",
    "\n",
    "B_dirichlet_0 = Union(*[domain.get_boundary(**kw) for kw in dir_zero_boundary])\n",
    "B_dirichlet_i = Union(*[domain.get_boundary(**kw) for kw in dir_nonzero_boundary])\n",
    "B_dirichlet   = Union(B_dirichlet_0, B_dirichlet_i)"
   ]
  },
  {
   "cell_type": "markdown",
   "metadata": {},
   "source": [
    "#### Function Space"
   ]
  },
  {
   "cell_type": "code",
   "execution_count": 3,
   "metadata": {},
   "outputs": [],
   "source": [
    "V  = ScalarFunctionSpace('V', domain)"
   ]
  },
  {
   "cell_type": "markdown",
   "metadata": {},
   "source": [
    "#### Defining the Linear form $G$"
   ]
  },
  {
   "cell_type": "code",
   "execution_count": 4,
   "metadata": {},
   "outputs": [],
   "source": [
    "u  = element_of(V, name='u')\n",
    "v  = element_of(V, name='v')\n",
    "w  = element_of(V, name='w')\n",
    "\n",
    "# Linear form g: V --> R\n",
    "g = LinearForm(v, integral(domain, (1+w**2)*dot(grad(u), grad(v))))"
   ]
  },
  {
   "cell_type": "markdown",
   "metadata": {},
   "source": [
    "#### Defining the Linear form L"
   ]
  },
  {
   "cell_type": "code",
   "execution_count": 5,
   "metadata": {},
   "outputs": [],
   "source": [
    "solution = sin(pi*x)*sin(pi*y)\n",
    "f = 2*pi**2*(sin(pi*x)**2*sin(pi*y)**2 + 1)*sin(pi*x)*sin(pi*y) - 2*pi**2*sin(pi*x)**3*sin(pi*y)*cos(pi*y)**2 - 2*pi**2*sin(pi*x)*sin(pi*y)**3*cos(pi*x)**2"
   ]
  },
  {
   "cell_type": "code",
   "execution_count": 6,
   "metadata": {},
   "outputs": [],
   "source": [
    "# Linear form l: V --> R\n",
    "l = LinearForm(v, integral(domain, f * v))"
   ]
  },
  {
   "cell_type": "markdown",
   "metadata": {},
   "source": [
    "### Picard Method\n",
    "\n",
    "$$\n",
    "\\mbox{Find } u_{n+1} \\in \\mathcal{V}_h, \\mbox{such that}\\\\\n",
    "G(v;u_{n+1},u_n) = l(v), \\quad \\forall v \\in \\mathcal{V}_h\n",
    "$$"
   ]
  },
  {
   "cell_type": "markdown",
   "metadata": {},
   "source": [
    "### Newton Method\n",
    "\n",
    "Let's define \n",
    "$$\n",
    "F(v;u) := G(v;u,u) -l(v), \\quad \\forall v \\in \\mathcal{V}\n",
    "$$\n",
    "\n",
    "Newton method writes\n",
    "$$\n",
    "\\mbox{Find } u_{n+1} \\in \\mathcal{V}_h, \\mbox{such that}\\\\\n",
    "F^{\\prime}(\\delta u,v; u_n) = - F(v;u_n), \\quad \\forall v \\in \\mathcal{V} \\\\\n",
    "u_{n+1} := u_{n} + \\delta u, \\quad \\delta u \\in \\mathcal{V}\n",
    "$$"
   ]
  },
  {
   "cell_type": "markdown",
   "metadata": {},
   "source": [
    "#### Computing $F^{\\prime}$ the derivative of $F$\n",
    "\n",
    "**SymPDE** allows you to linearize a linear form and get a bilinear form, using the function **linearize**"
   ]
  },
  {
   "cell_type": "code",
   "execution_count": 7,
   "metadata": {},
   "outputs": [],
   "source": [
    "F = LinearForm(v, g(v,w=u)-l(v))\n",
    "du  = element_of(V, name='du')\n",
    "\n",
    "Fprime = linearize(F, u, trials=du)"
   ]
  },
  {
   "cell_type": "markdown",
   "metadata": {},
   "source": [
    "## Picard Method"
   ]
  },
  {
   "cell_type": "markdown",
   "metadata": {},
   "source": [
    "#### Abstract Model"
   ]
  },
  {
   "cell_type": "code",
   "execution_count": 8,
   "metadata": {},
   "outputs": [],
   "source": [
    "un  = element_of(V, name='un')\n",
    "\n",
    "# Bilinear form a: V x V --> R\n",
    "a = BilinearForm((u, v), g(v,w=un))\n",
    "\n",
    "# Dirichlet boundary conditions\n",
    "bc = [EssentialBC(u, 0, B_dirichlet_0)]\n",
    "\n",
    "# Variational problem\n",
    "equation   = find(u, forall=v, lhs=a(u, v), rhs=l(v), bc=bc)\n",
    "\n",
    "# Error norms\n",
    "error  = u - solution\n",
    "l2norm = Norm(error, domain, kind='l2')"
   ]
  },
  {
   "cell_type": "markdown",
   "metadata": {},
   "source": [
    "#### Discretization"
   ]
  },
  {
   "cell_type": "code",
   "execution_count": 9,
   "metadata": {},
   "outputs": [],
   "source": [
    "# Create computational domain from topological domain\n",
    "domain_h = discretize(domain, ncells=[16,16], comm=None)\n",
    "\n",
    "# Discrete spaces\n",
    "Vh = discretize(V, domain_h, degree=[2,2])\n",
    "\n",
    "# Discretize equation using Dirichlet bc\n",
    "equation_h = discretize(equation, domain_h, [Vh, Vh])\n",
    "\n",
    "# Discretize error norms\n",
    "l2norm_h = discretize(l2norm, domain_h, Vh)"
   ]
  },
  {
   "cell_type": "markdown",
   "metadata": {},
   "source": [
    "#### Picard solver"
   ]
  },
  {
   "cell_type": "code",
   "execution_count": 10,
   "metadata": {},
   "outputs": [],
   "source": [
    "def picard(niter=10):\n",
    "    # TODO improve\n",
    "    Un = FemField( Vh, Vh.vector_space.zeros() )\n",
    "\n",
    "    for i in range(niter):\n",
    "        x  = equation_h.solve(un=Un)\n",
    "        Un = FemField( Vh, x )\n",
    "\n",
    "        # Compute error norms\n",
    "        l2_error = l2norm_h.assemble(u=Un)\n",
    "\n",
    "        print('l2_error = ', l2_error)\n",
    "        \n",
    "    return Un"
   ]
  },
  {
   "cell_type": "code",
   "execution_count": 11,
   "metadata": {},
   "outputs": [
    {
     "name": "stdout",
     "output_type": "stream",
     "text": [
      "l2_error =  0.10416232003536031\n",
      "l2_error =  0.02818070437799316\n",
      "l2_error =  0.01577620371136043\n",
      "l2_error =  0.010677715881049122\n",
      "l2_error =  0.007942521545142769\n"
     ]
    },
    {
     "data": {
      "text/plain": [
       "<psydac.fem.basic.FemField at 0x7fac25753a90>"
      ]
     },
     "execution_count": 11,
     "metadata": {},
     "output_type": "execute_result"
    }
   ],
   "source": [
    "picard(niter=5)"
   ]
  },
  {
   "cell_type": "markdown",
   "metadata": {},
   "source": [
    "## Newton Method"
   ]
  },
  {
   "cell_type": "markdown",
   "metadata": {},
   "source": [
    "#### Abstract Model"
   ]
  },
  {
   "cell_type": "code",
   "execution_count": 12,
   "metadata": {},
   "outputs": [],
   "source": [
    "# Dirichlet boundary conditions\n",
    "bc = [EssentialBC(du, 0, B_dirichlet_0)]\n",
    "\n",
    "# Variational problem\n",
    "equation   = find(du, forall=v, lhs=Fprime(du, v,u=un), rhs=-F(v,u=un), bc=bc)"
   ]
  },
  {
   "cell_type": "markdown",
   "metadata": {},
   "source": [
    "#### Discretization"
   ]
  },
  {
   "cell_type": "code",
   "execution_count": 13,
   "metadata": {},
   "outputs": [],
   "source": [
    "# Create computational domain from topological domain\n",
    "domain_h = discretize(domain, ncells=[16,16], comm=None)\n",
    "\n",
    "# Discrete spaces\n",
    "Vh = discretize(V, domain_h, degree=[2,2])\n",
    "\n",
    "# Discretize equation using Dirichlet bc\n",
    "equation_h = discretize(equation, domain_h, [Vh, Vh])\n",
    "\n",
    "# Discretize error norms\n",
    "l2norm_h = discretize(l2norm, domain_h, Vh)"
   ]
  },
  {
   "cell_type": "markdown",
   "metadata": {},
   "source": [
    "#### Newton Solver"
   ]
  },
  {
   "cell_type": "code",
   "execution_count": 14,
   "metadata": {},
   "outputs": [],
   "source": [
    "def newton(niter=10):\n",
    "    # TODO improve\n",
    "    Un = FemField( Vh, Vh.vector_space.zeros() )\n",
    "\n",
    "    for i in range(niter):\n",
    "        xn = Un.coeffs\n",
    "        x  = equation_h.solve(un=Un)\n",
    "        Un = FemField( Vh, x + xn )\n",
    "\n",
    "        # Compute error norms\n",
    "        l2_error = l2norm_h.assemble(u=Un)\n",
    "\n",
    "        print('l2_error = ', l2_error)\n",
    "        \n",
    "    return Un"
   ]
  },
  {
   "cell_type": "code",
   "execution_count": 17,
   "metadata": {},
   "outputs": [
    {
     "name": "stdout",
     "output_type": "stream",
     "text": [
      "l2_error =  0.4059744621538083\n",
      "l2_error =  0.2623750400995968\n",
      "l2_error =  0.11438672581262425\n"
     ]
    }
   ],
   "source": [
    "un = newton(niter=3)"
   ]
  },
  {
   "cell_type": "code",
   "execution_count": 23,
   "metadata": {},
   "outputs": [
    {
     "data": {
      "text/plain": [
       "<matplotlib.colorbar.Colorbar at 0x7fac16c9cc70>"
      ]
     },
     "execution_count": 23,
     "metadata": {},
     "output_type": "execute_result"
    },
    {
     "data": {
      "image/png": "[encoded data removed]",
      "text/plain": [
       "<Figure size 432x288 with 2 Axes>"
      ]
     },
     "metadata": {
      "needs_background": "light"
     },
     "output_type": "display_data"
    }
   ],
   "source": [
    "from matplotlib import pyplot as plt\n",
    "from simplines import plot_field_2d\n",
    "\n",
    "nbasis = [w.nbasis for w in Vh.spaces]\n",
    "p1,p2 = Vh.degree\n",
    "x = un.coeffs._data[p1:-p1,p2:-p2]\n",
    "u = x.reshape(nbasis)\n",
    "plot_field_2d(Vh.knots, Vh.degree, u) ; plt.colorbar()"
   ]
  },
  {
   "cell_type": "code",
   "execution_count": 19,
   "metadata": {},
   "outputs": [
    {
     "data": {
      "text/plain": [
       "324"
      ]
     },
     "execution_count": 19,
     "metadata": {},
     "output_type": "execute_result"
    }
   ],
   "source": [
    "18*18"
   ]
  },
  {
   "cell_type": "code",
   "execution_count": 22,
   "metadata": {},
   "outputs": [
    {
     "data": {
      "text/plain": [
       "484"
      ]
     },
     "execution_count": 22,
     "metadata": {},
     "output_type": "execute_result"
    }
   ],
   "source": [
    "(18+4)**2"
   ]
  },
  {
   "cell_type": "code",
   "execution_count": null,
   "metadata": {},
   "outputs": [],
   "source": []
  }
 ],
 "metadata": {
  "kernelspec": {
   "display_name": ".iga-python",
   "language": "python",
   "name": ".iga-python"
  },
  "language_info": {
   "codemirror_mode": {
    "name": "ipython",
    "version": 3
   },
   "file_extension": ".py",
   "mimetype": "text/x-python",
   "name": "python",
   "nbconvert_exporter": "python",
   "pygments_lexer": "ipython3",
   "version": "3.8.5"
  }
 },
 "nbformat": 4,
 "nbformat_minor": 4
}
